{
 "cells": [
  {
   "cell_type": "markdown",
   "id": "d30c747f",
   "metadata": {},
   "source": [
    "<div style=\"border:solid green 3px; padding: 20px\">\n",
    "<b>Анна, спасибо за доработки, проект принят, молодец!</b>\n",
    "    \n",
    "Ты провела хорошую работу над ошибками! Уверен, ты обязательно достигнешь своей цели! Успехов в дальнейшем обучении!🙂\n",
    "    "
   ]
  },
  {
   "cell_type": "markdown",
   "id": "7b140bcc",
   "metadata": {},
   "source": [
    "Анна, привет! Меня зовут Ефимов Денис и сегодня я буду делать ревью твоего проекта!\\\n",
    "В Практикуме принято общаться на \"ты\", однако если это неудобно - дай знать, и можем перейти на более официальное общение.\n",
    "\n",
    "Ниже ты найдешь мои комментарии - пожалуйста, не перемещай, не изменяй и не удаляй их. Я буду использовать цветовую разметку: \n",
    "\n",
    "<div class=\"alert alert-block alert-success\">\n",
    "<b>✅Комментарий ревьюера:</b> Если все сделано хорошо. </div>\n",
    "\n",
    "<div class=\"alert alert-block alert-warning\">\n",
    "<b>🔁Комментарий ревьюера:</b> Некритичное замечание; если таких замечаний меньше трех — проект может быть принят без их отработки.</div>\n",
    "\n",
    "<div class=\"alert alert-block alert-danger\">\n",
    "<b>❌Комментарий ревьюера:</b> Грубая ошибка, необходимо исправить, иначе проект не будет принят.\n",
    "</div>\n",
    "\n",
    "Давай работать над проектом в диалоге: если ты что-то меняешь в проекте или отвечаешь на мои комментарии — пиши об этом. Мне будет легче отследить изменения, если ты выделишь свои комментарии:\n",
    "Например так:\n",
    "<div class=\"alert alert-block alert-info\">\n",
    "<b>🔄Комментарий студента:</b> \n",
    "Hello World! ✔\n",
    "</div>\n",
    "\n",
    "Или можешь использовать эту галочку ✔ в моих комментариях, если писать особо нечего.\n",
    "\n",
    "<div class=\"alert alert-block alert-warning\">\n",
    "<b>Общее впечатление:</b> \n",
    "    \n",
    "- Ты проделала большую работу и проект получился достаточно хорошим:)\n",
    "- У меня есть несколько замечаний, которые нужно исправить и проект станет еще лучше.\n",
    "- Пробегись по моим комментариям, исправь недочёты и всё будет отлично :)\n",
    "    \n",
    "</div>\n",
    "\n"
   ]
  },
  {
   "cell_type": "markdown",
   "metadata": {
    "id": "9IuwLXVZuqj3",
    "toc": true
   },
   "source": [
    "<h1>Содержание<span class=\"tocSkip\"></span></h1>\n",
    "<div class=\"toc\"><ul class=\"toc-item\"><li><span><a href=\"#Изучение-данных-из-файла\" data-toc-modified-id=\"Изучение-данных-из-файла-1\"><span class=\"toc-item-num\">1&nbsp;&nbsp;</span>Изучение данных из файла</a></span><ul class=\"toc-item\"><li><span><a href=\"#Вывод\" data-toc-modified-id=\"Вывод-1.1\"><span class=\"toc-item-num\">1.1&nbsp;&nbsp;</span>Вывод</a></span></li></ul></li><li><span><a href=\"#Предобработка-данных\" data-toc-modified-id=\"Предобработка-данных-2\"><span class=\"toc-item-num\">2&nbsp;&nbsp;</span>Предобработка данных</a></span></li><li><span><a href=\"#Расчёты-и-добавление-результатов-в-таблицу\" data-toc-modified-id=\"Расчёты-и-добавление-результатов-в-таблицу-3\"><span class=\"toc-item-num\">3&nbsp;&nbsp;</span>Расчёты и добавление результатов в таблицу</a></span></li><li><span><a href=\"#Исследовательский-анализ-данных\" data-toc-modified-id=\"Исследовательский-анализ-данных-4\"><span class=\"toc-item-num\">4&nbsp;&nbsp;</span>Исследовательский анализ данных</a></span></li><li><span><a href=\"#Общий-вывод\" data-toc-modified-id=\"Общий-вывод-5\"><span class=\"toc-item-num\">5&nbsp;&nbsp;</span>Общий вывод</a></span></li><li><span><a href=\"#Чек-лист-готовности-проекта\" data-toc-modified-id=\"Чек-лист-готовности-проекта-6\"><span class=\"toc-item-num\">6&nbsp;&nbsp;</span>Чек-лист готовности проекта</a></span></li></ul></div>"
   ]
  },
  {
   "cell_type": "markdown",
   "metadata": {
    "id": "DXAjMMWduqj6"
   },
   "source": [
    "# Исследование объявлений о продаже квартир\n",
    "\n",
    "В вашем распоряжении данные сервиса Яндекc Недвижимость — архив объявлений о продаже квартир в Санкт-Петербурге и соседних населённых пунктах за несколько лет. Нужно научиться определять рыночную стоимость объектов недвижимости. Ваша задача — установить параметры. Это позволит построить автоматизированную систему: она отследит аномалии и мошенническую деятельность. \n",
    "\n",
    "По каждой квартире на продажу доступны два вида данных. Первые вписаны пользователем, вторые получены автоматически на основе картографических данных. Например, расстояние до центра, аэропорта, ближайшего парка и водоёма. "
   ]
  },
  {
   "cell_type": "markdown",
   "id": "712da899",
   "metadata": {},
   "source": [
    "<div class=\"alert alert-block alert-success\">\n",
    "<b>✅Комментарий ревьюера:</b> Молодец, что сделала содержание проекта и написала введение!  </div>"
   ]
  },
  {
   "cell_type": "markdown",
   "metadata": {
    "id": "F5HAJRCruqj6"
   },
   "source": [
    "## Изучение данных из файла"
   ]
  },
  {
   "cell_type": "code",
   "execution_count": 1,
   "metadata": {
    "id": "VlvJUJqCuqj7"
   },
   "outputs": [
    {
     "data": {
      "text/html": [
       "<div>\n",
       "<style scoped>\n",
       "    .dataframe tbody tr th:only-of-type {\n",
       "        vertical-align: middle;\n",
       "    }\n",
       "\n",
       "    .dataframe tbody tr th {\n",
       "        vertical-align: top;\n",
       "    }\n",
       "\n",
       "    .dataframe thead th {\n",
       "        text-align: right;\n",
       "    }\n",
       "</style>\n",
       "<table border=\"1\" class=\"dataframe\">\n",
       "  <thead>\n",
       "    <tr style=\"text-align: right;\">\n",
       "      <th></th>\n",
       "      <th>total_images</th>\n",
       "      <th>last_price</th>\n",
       "      <th>total_area</th>\n",
       "      <th>first_day_exposition</th>\n",
       "      <th>rooms</th>\n",
       "      <th>ceiling_height</th>\n",
       "      <th>floors_total</th>\n",
       "      <th>living_area</th>\n",
       "      <th>floor</th>\n",
       "      <th>is_apartment</th>\n",
       "      <th>...</th>\n",
       "      <th>kitchen_area</th>\n",
       "      <th>balcony</th>\n",
       "      <th>locality_name</th>\n",
       "      <th>airports_nearest</th>\n",
       "      <th>cityCenters_nearest</th>\n",
       "      <th>parks_around3000</th>\n",
       "      <th>parks_nearest</th>\n",
       "      <th>ponds_around3000</th>\n",
       "      <th>ponds_nearest</th>\n",
       "      <th>days_exposition</th>\n",
       "    </tr>\n",
       "  </thead>\n",
       "  <tbody>\n",
       "    <tr>\n",
       "      <th>0</th>\n",
       "      <td>20</td>\n",
       "      <td>13000000.0</td>\n",
       "      <td>108.00</td>\n",
       "      <td>2019-03-07T00:00:00</td>\n",
       "      <td>3</td>\n",
       "      <td>2.70</td>\n",
       "      <td>16.0</td>\n",
       "      <td>51.00</td>\n",
       "      <td>8</td>\n",
       "      <td>NaN</td>\n",
       "      <td>...</td>\n",
       "      <td>25.00</td>\n",
       "      <td>NaN</td>\n",
       "      <td>Санкт-Петербург</td>\n",
       "      <td>18863.0</td>\n",
       "      <td>16028.0</td>\n",
       "      <td>1.0</td>\n",
       "      <td>482.0</td>\n",
       "      <td>2.0</td>\n",
       "      <td>755.0</td>\n",
       "      <td>NaN</td>\n",
       "    </tr>\n",
       "    <tr>\n",
       "      <th>1</th>\n",
       "      <td>7</td>\n",
       "      <td>3350000.0</td>\n",
       "      <td>40.40</td>\n",
       "      <td>2018-12-04T00:00:00</td>\n",
       "      <td>1</td>\n",
       "      <td>NaN</td>\n",
       "      <td>11.0</td>\n",
       "      <td>18.60</td>\n",
       "      <td>1</td>\n",
       "      <td>NaN</td>\n",
       "      <td>...</td>\n",
       "      <td>11.00</td>\n",
       "      <td>2.0</td>\n",
       "      <td>посёлок Шушары</td>\n",
       "      <td>12817.0</td>\n",
       "      <td>18603.0</td>\n",
       "      <td>0.0</td>\n",
       "      <td>NaN</td>\n",
       "      <td>0.0</td>\n",
       "      <td>NaN</td>\n",
       "      <td>81.0</td>\n",
       "    </tr>\n",
       "    <tr>\n",
       "      <th>2</th>\n",
       "      <td>10</td>\n",
       "      <td>5196000.0</td>\n",
       "      <td>56.00</td>\n",
       "      <td>2015-08-20T00:00:00</td>\n",
       "      <td>2</td>\n",
       "      <td>NaN</td>\n",
       "      <td>5.0</td>\n",
       "      <td>34.30</td>\n",
       "      <td>4</td>\n",
       "      <td>NaN</td>\n",
       "      <td>...</td>\n",
       "      <td>8.30</td>\n",
       "      <td>0.0</td>\n",
       "      <td>Санкт-Петербург</td>\n",
       "      <td>21741.0</td>\n",
       "      <td>13933.0</td>\n",
       "      <td>1.0</td>\n",
       "      <td>90.0</td>\n",
       "      <td>2.0</td>\n",
       "      <td>574.0</td>\n",
       "      <td>558.0</td>\n",
       "    </tr>\n",
       "    <tr>\n",
       "      <th>3</th>\n",
       "      <td>0</td>\n",
       "      <td>64900000.0</td>\n",
       "      <td>159.00</td>\n",
       "      <td>2015-07-24T00:00:00</td>\n",
       "      <td>3</td>\n",
       "      <td>NaN</td>\n",
       "      <td>14.0</td>\n",
       "      <td>NaN</td>\n",
       "      <td>9</td>\n",
       "      <td>NaN</td>\n",
       "      <td>...</td>\n",
       "      <td>NaN</td>\n",
       "      <td>0.0</td>\n",
       "      <td>Санкт-Петербург</td>\n",
       "      <td>28098.0</td>\n",
       "      <td>6800.0</td>\n",
       "      <td>2.0</td>\n",
       "      <td>84.0</td>\n",
       "      <td>3.0</td>\n",
       "      <td>234.0</td>\n",
       "      <td>424.0</td>\n",
       "    </tr>\n",
       "    <tr>\n",
       "      <th>4</th>\n",
       "      <td>2</td>\n",
       "      <td>10000000.0</td>\n",
       "      <td>100.00</td>\n",
       "      <td>2018-06-19T00:00:00</td>\n",
       "      <td>2</td>\n",
       "      <td>3.03</td>\n",
       "      <td>14.0</td>\n",
       "      <td>32.00</td>\n",
       "      <td>13</td>\n",
       "      <td>NaN</td>\n",
       "      <td>...</td>\n",
       "      <td>41.00</td>\n",
       "      <td>NaN</td>\n",
       "      <td>Санкт-Петербург</td>\n",
       "      <td>31856.0</td>\n",
       "      <td>8098.0</td>\n",
       "      <td>2.0</td>\n",
       "      <td>112.0</td>\n",
       "      <td>1.0</td>\n",
       "      <td>48.0</td>\n",
       "      <td>121.0</td>\n",
       "    </tr>\n",
       "    <tr>\n",
       "      <th>5</th>\n",
       "      <td>10</td>\n",
       "      <td>2890000.0</td>\n",
       "      <td>30.40</td>\n",
       "      <td>2018-09-10T00:00:00</td>\n",
       "      <td>1</td>\n",
       "      <td>NaN</td>\n",
       "      <td>12.0</td>\n",
       "      <td>14.40</td>\n",
       "      <td>5</td>\n",
       "      <td>NaN</td>\n",
       "      <td>...</td>\n",
       "      <td>9.10</td>\n",
       "      <td>NaN</td>\n",
       "      <td>городской посёлок Янино-1</td>\n",
       "      <td>NaN</td>\n",
       "      <td>NaN</td>\n",
       "      <td>NaN</td>\n",
       "      <td>NaN</td>\n",
       "      <td>NaN</td>\n",
       "      <td>NaN</td>\n",
       "      <td>55.0</td>\n",
       "    </tr>\n",
       "    <tr>\n",
       "      <th>6</th>\n",
       "      <td>6</td>\n",
       "      <td>3700000.0</td>\n",
       "      <td>37.30</td>\n",
       "      <td>2017-11-02T00:00:00</td>\n",
       "      <td>1</td>\n",
       "      <td>NaN</td>\n",
       "      <td>26.0</td>\n",
       "      <td>10.60</td>\n",
       "      <td>6</td>\n",
       "      <td>NaN</td>\n",
       "      <td>...</td>\n",
       "      <td>14.40</td>\n",
       "      <td>1.0</td>\n",
       "      <td>посёлок Парголово</td>\n",
       "      <td>52996.0</td>\n",
       "      <td>19143.0</td>\n",
       "      <td>0.0</td>\n",
       "      <td>NaN</td>\n",
       "      <td>0.0</td>\n",
       "      <td>NaN</td>\n",
       "      <td>155.0</td>\n",
       "    </tr>\n",
       "    <tr>\n",
       "      <th>7</th>\n",
       "      <td>5</td>\n",
       "      <td>7915000.0</td>\n",
       "      <td>71.60</td>\n",
       "      <td>2019-04-18T00:00:00</td>\n",
       "      <td>2</td>\n",
       "      <td>NaN</td>\n",
       "      <td>24.0</td>\n",
       "      <td>NaN</td>\n",
       "      <td>22</td>\n",
       "      <td>NaN</td>\n",
       "      <td>...</td>\n",
       "      <td>18.90</td>\n",
       "      <td>2.0</td>\n",
       "      <td>Санкт-Петербург</td>\n",
       "      <td>23982.0</td>\n",
       "      <td>11634.0</td>\n",
       "      <td>0.0</td>\n",
       "      <td>NaN</td>\n",
       "      <td>0.0</td>\n",
       "      <td>NaN</td>\n",
       "      <td>NaN</td>\n",
       "    </tr>\n",
       "    <tr>\n",
       "      <th>8</th>\n",
       "      <td>20</td>\n",
       "      <td>2900000.0</td>\n",
       "      <td>33.16</td>\n",
       "      <td>2018-05-23T00:00:00</td>\n",
       "      <td>1</td>\n",
       "      <td>NaN</td>\n",
       "      <td>27.0</td>\n",
       "      <td>15.43</td>\n",
       "      <td>26</td>\n",
       "      <td>NaN</td>\n",
       "      <td>...</td>\n",
       "      <td>8.81</td>\n",
       "      <td>NaN</td>\n",
       "      <td>посёлок Мурино</td>\n",
       "      <td>NaN</td>\n",
       "      <td>NaN</td>\n",
       "      <td>NaN</td>\n",
       "      <td>NaN</td>\n",
       "      <td>NaN</td>\n",
       "      <td>NaN</td>\n",
       "      <td>189.0</td>\n",
       "    </tr>\n",
       "    <tr>\n",
       "      <th>9</th>\n",
       "      <td>18</td>\n",
       "      <td>5400000.0</td>\n",
       "      <td>61.00</td>\n",
       "      <td>2017-02-26T00:00:00</td>\n",
       "      <td>3</td>\n",
       "      <td>2.50</td>\n",
       "      <td>9.0</td>\n",
       "      <td>43.60</td>\n",
       "      <td>7</td>\n",
       "      <td>NaN</td>\n",
       "      <td>...</td>\n",
       "      <td>6.50</td>\n",
       "      <td>2.0</td>\n",
       "      <td>Санкт-Петербург</td>\n",
       "      <td>50898.0</td>\n",
       "      <td>15008.0</td>\n",
       "      <td>0.0</td>\n",
       "      <td>NaN</td>\n",
       "      <td>0.0</td>\n",
       "      <td>NaN</td>\n",
       "      <td>289.0</td>\n",
       "    </tr>\n",
       "    <tr>\n",
       "      <th>10</th>\n",
       "      <td>5</td>\n",
       "      <td>5050000.0</td>\n",
       "      <td>39.60</td>\n",
       "      <td>2017-11-16T00:00:00</td>\n",
       "      <td>1</td>\n",
       "      <td>2.67</td>\n",
       "      <td>12.0</td>\n",
       "      <td>20.30</td>\n",
       "      <td>3</td>\n",
       "      <td>NaN</td>\n",
       "      <td>...</td>\n",
       "      <td>8.50</td>\n",
       "      <td>NaN</td>\n",
       "      <td>Санкт-Петербург</td>\n",
       "      <td>38357.0</td>\n",
       "      <td>13878.0</td>\n",
       "      <td>1.0</td>\n",
       "      <td>310.0</td>\n",
       "      <td>2.0</td>\n",
       "      <td>553.0</td>\n",
       "      <td>137.0</td>\n",
       "    </tr>\n",
       "    <tr>\n",
       "      <th>11</th>\n",
       "      <td>9</td>\n",
       "      <td>3300000.0</td>\n",
       "      <td>44.00</td>\n",
       "      <td>2018-08-27T00:00:00</td>\n",
       "      <td>2</td>\n",
       "      <td>NaN</td>\n",
       "      <td>5.0</td>\n",
       "      <td>31.00</td>\n",
       "      <td>4</td>\n",
       "      <td>False</td>\n",
       "      <td>...</td>\n",
       "      <td>6.00</td>\n",
       "      <td>1.0</td>\n",
       "      <td>Ломоносов</td>\n",
       "      <td>48252.0</td>\n",
       "      <td>51677.0</td>\n",
       "      <td>0.0</td>\n",
       "      <td>NaN</td>\n",
       "      <td>0.0</td>\n",
       "      <td>NaN</td>\n",
       "      <td>7.0</td>\n",
       "    </tr>\n",
       "    <tr>\n",
       "      <th>12</th>\n",
       "      <td>10</td>\n",
       "      <td>3890000.0</td>\n",
       "      <td>54.00</td>\n",
       "      <td>2016-06-30T00:00:00</td>\n",
       "      <td>2</td>\n",
       "      <td>NaN</td>\n",
       "      <td>5.0</td>\n",
       "      <td>30.00</td>\n",
       "      <td>5</td>\n",
       "      <td>NaN</td>\n",
       "      <td>...</td>\n",
       "      <td>9.00</td>\n",
       "      <td>0.0</td>\n",
       "      <td>Сертолово</td>\n",
       "      <td>NaN</td>\n",
       "      <td>NaN</td>\n",
       "      <td>NaN</td>\n",
       "      <td>NaN</td>\n",
       "      <td>NaN</td>\n",
       "      <td>NaN</td>\n",
       "      <td>90.0</td>\n",
       "    </tr>\n",
       "    <tr>\n",
       "      <th>13</th>\n",
       "      <td>20</td>\n",
       "      <td>3550000.0</td>\n",
       "      <td>42.80</td>\n",
       "      <td>2017-07-01T00:00:00</td>\n",
       "      <td>2</td>\n",
       "      <td>2.56</td>\n",
       "      <td>5.0</td>\n",
       "      <td>27.00</td>\n",
       "      <td>5</td>\n",
       "      <td>NaN</td>\n",
       "      <td>...</td>\n",
       "      <td>5.20</td>\n",
       "      <td>1.0</td>\n",
       "      <td>Петергоф</td>\n",
       "      <td>37868.0</td>\n",
       "      <td>33058.0</td>\n",
       "      <td>1.0</td>\n",
       "      <td>294.0</td>\n",
       "      <td>3.0</td>\n",
       "      <td>298.0</td>\n",
       "      <td>366.0</td>\n",
       "    </tr>\n",
       "    <tr>\n",
       "      <th>14</th>\n",
       "      <td>1</td>\n",
       "      <td>4400000.0</td>\n",
       "      <td>36.00</td>\n",
       "      <td>2016-06-23T00:00:00</td>\n",
       "      <td>1</td>\n",
       "      <td>NaN</td>\n",
       "      <td>6.0</td>\n",
       "      <td>17.00</td>\n",
       "      <td>1</td>\n",
       "      <td>NaN</td>\n",
       "      <td>...</td>\n",
       "      <td>8.00</td>\n",
       "      <td>0.0</td>\n",
       "      <td>Пушкин</td>\n",
       "      <td>20782.0</td>\n",
       "      <td>30759.0</td>\n",
       "      <td>0.0</td>\n",
       "      <td>NaN</td>\n",
       "      <td>1.0</td>\n",
       "      <td>96.0</td>\n",
       "      <td>203.0</td>\n",
       "    </tr>\n",
       "    <tr>\n",
       "      <th>15</th>\n",
       "      <td>16</td>\n",
       "      <td>4650000.0</td>\n",
       "      <td>39.00</td>\n",
       "      <td>2017-11-18T00:00:00</td>\n",
       "      <td>1</td>\n",
       "      <td>NaN</td>\n",
       "      <td>14.0</td>\n",
       "      <td>20.50</td>\n",
       "      <td>5</td>\n",
       "      <td>NaN</td>\n",
       "      <td>...</td>\n",
       "      <td>7.60</td>\n",
       "      <td>1.0</td>\n",
       "      <td>Санкт-Петербург</td>\n",
       "      <td>12900.0</td>\n",
       "      <td>14259.0</td>\n",
       "      <td>1.0</td>\n",
       "      <td>590.0</td>\n",
       "      <td>1.0</td>\n",
       "      <td>296.0</td>\n",
       "      <td>19.0</td>\n",
       "    </tr>\n",
       "    <tr>\n",
       "      <th>16</th>\n",
       "      <td>11</td>\n",
       "      <td>6700000.0</td>\n",
       "      <td>82.00</td>\n",
       "      <td>2017-11-23T00:00:00</td>\n",
       "      <td>3</td>\n",
       "      <td>3.05</td>\n",
       "      <td>5.0</td>\n",
       "      <td>55.60</td>\n",
       "      <td>1</td>\n",
       "      <td>NaN</td>\n",
       "      <td>...</td>\n",
       "      <td>9.00</td>\n",
       "      <td>NaN</td>\n",
       "      <td>Санкт-Петербург</td>\n",
       "      <td>22108.0</td>\n",
       "      <td>10698.0</td>\n",
       "      <td>3.0</td>\n",
       "      <td>420.0</td>\n",
       "      <td>0.0</td>\n",
       "      <td>NaN</td>\n",
       "      <td>397.0</td>\n",
       "    </tr>\n",
       "    <tr>\n",
       "      <th>17</th>\n",
       "      <td>6</td>\n",
       "      <td>4180000.0</td>\n",
       "      <td>36.00</td>\n",
       "      <td>2016-09-09T00:00:00</td>\n",
       "      <td>1</td>\n",
       "      <td>NaN</td>\n",
       "      <td>17.0</td>\n",
       "      <td>16.50</td>\n",
       "      <td>7</td>\n",
       "      <td>NaN</td>\n",
       "      <td>...</td>\n",
       "      <td>11.00</td>\n",
       "      <td>1.0</td>\n",
       "      <td>Санкт-Петербург</td>\n",
       "      <td>33564.0</td>\n",
       "      <td>14616.0</td>\n",
       "      <td>0.0</td>\n",
       "      <td>NaN</td>\n",
       "      <td>1.0</td>\n",
       "      <td>859.0</td>\n",
       "      <td>571.0</td>\n",
       "    </tr>\n",
       "    <tr>\n",
       "      <th>18</th>\n",
       "      <td>8</td>\n",
       "      <td>3250000.0</td>\n",
       "      <td>31.00</td>\n",
       "      <td>2017-01-27T00:00:00</td>\n",
       "      <td>1</td>\n",
       "      <td>2.50</td>\n",
       "      <td>5.0</td>\n",
       "      <td>19.40</td>\n",
       "      <td>2</td>\n",
       "      <td>NaN</td>\n",
       "      <td>...</td>\n",
       "      <td>5.60</td>\n",
       "      <td>1.0</td>\n",
       "      <td>Санкт-Петербург</td>\n",
       "      <td>44060.0</td>\n",
       "      <td>10842.0</td>\n",
       "      <td>1.0</td>\n",
       "      <td>759.0</td>\n",
       "      <td>0.0</td>\n",
       "      <td>NaN</td>\n",
       "      <td>168.0</td>\n",
       "    </tr>\n",
       "    <tr>\n",
       "      <th>19</th>\n",
       "      <td>16</td>\n",
       "      <td>14200000.0</td>\n",
       "      <td>121.00</td>\n",
       "      <td>2019-01-09T00:00:00</td>\n",
       "      <td>3</td>\n",
       "      <td>2.75</td>\n",
       "      <td>16.0</td>\n",
       "      <td>76.00</td>\n",
       "      <td>8</td>\n",
       "      <td>NaN</td>\n",
       "      <td>...</td>\n",
       "      <td>12.00</td>\n",
       "      <td>NaN</td>\n",
       "      <td>Санкт-Петербург</td>\n",
       "      <td>38900.0</td>\n",
       "      <td>12843.0</td>\n",
       "      <td>0.0</td>\n",
       "      <td>NaN</td>\n",
       "      <td>0.0</td>\n",
       "      <td>NaN</td>\n",
       "      <td>97.0</td>\n",
       "    </tr>\n",
       "  </tbody>\n",
       "</table>\n",
       "<p>20 rows × 22 columns</p>\n",
       "</div>"
      ],
      "text/plain": [
       "    total_images  last_price  total_area first_day_exposition  rooms  \\\n",
       "0             20  13000000.0      108.00  2019-03-07T00:00:00      3   \n",
       "1              7   3350000.0       40.40  2018-12-04T00:00:00      1   \n",
       "2             10   5196000.0       56.00  2015-08-20T00:00:00      2   \n",
       "3              0  64900000.0      159.00  2015-07-24T00:00:00      3   \n",
       "4              2  10000000.0      100.00  2018-06-19T00:00:00      2   \n",
       "5             10   2890000.0       30.40  2018-09-10T00:00:00      1   \n",
       "6              6   3700000.0       37.30  2017-11-02T00:00:00      1   \n",
       "7              5   7915000.0       71.60  2019-04-18T00:00:00      2   \n",
       "8             20   2900000.0       33.16  2018-05-23T00:00:00      1   \n",
       "9             18   5400000.0       61.00  2017-02-26T00:00:00      3   \n",
       "10             5   5050000.0       39.60  2017-11-16T00:00:00      1   \n",
       "11             9   3300000.0       44.00  2018-08-27T00:00:00      2   \n",
       "12            10   3890000.0       54.00  2016-06-30T00:00:00      2   \n",
       "13            20   3550000.0       42.80  2017-07-01T00:00:00      2   \n",
       "14             1   4400000.0       36.00  2016-06-23T00:00:00      1   \n",
       "15            16   4650000.0       39.00  2017-11-18T00:00:00      1   \n",
       "16            11   6700000.0       82.00  2017-11-23T00:00:00      3   \n",
       "17             6   4180000.0       36.00  2016-09-09T00:00:00      1   \n",
       "18             8   3250000.0       31.00  2017-01-27T00:00:00      1   \n",
       "19            16  14200000.0      121.00  2019-01-09T00:00:00      3   \n",
       "\n",
       "    ceiling_height  floors_total  living_area  floor is_apartment  ...  \\\n",
       "0             2.70          16.0        51.00      8          NaN  ...   \n",
       "1              NaN          11.0        18.60      1          NaN  ...   \n",
       "2              NaN           5.0        34.30      4          NaN  ...   \n",
       "3              NaN          14.0          NaN      9          NaN  ...   \n",
       "4             3.03          14.0        32.00     13          NaN  ...   \n",
       "5              NaN          12.0        14.40      5          NaN  ...   \n",
       "6              NaN          26.0        10.60      6          NaN  ...   \n",
       "7              NaN          24.0          NaN     22          NaN  ...   \n",
       "8              NaN          27.0        15.43     26          NaN  ...   \n",
       "9             2.50           9.0        43.60      7          NaN  ...   \n",
       "10            2.67          12.0        20.30      3          NaN  ...   \n",
       "11             NaN           5.0        31.00      4        False  ...   \n",
       "12             NaN           5.0        30.00      5          NaN  ...   \n",
       "13            2.56           5.0        27.00      5          NaN  ...   \n",
       "14             NaN           6.0        17.00      1          NaN  ...   \n",
       "15             NaN          14.0        20.50      5          NaN  ...   \n",
       "16            3.05           5.0        55.60      1          NaN  ...   \n",
       "17             NaN          17.0        16.50      7          NaN  ...   \n",
       "18            2.50           5.0        19.40      2          NaN  ...   \n",
       "19            2.75          16.0        76.00      8          NaN  ...   \n",
       "\n",
       "    kitchen_area  balcony              locality_name  airports_nearest  \\\n",
       "0          25.00      NaN            Санкт-Петербург           18863.0   \n",
       "1          11.00      2.0             посёлок Шушары           12817.0   \n",
       "2           8.30      0.0            Санкт-Петербург           21741.0   \n",
       "3            NaN      0.0            Санкт-Петербург           28098.0   \n",
       "4          41.00      NaN            Санкт-Петербург           31856.0   \n",
       "5           9.10      NaN  городской посёлок Янино-1               NaN   \n",
       "6          14.40      1.0          посёлок Парголово           52996.0   \n",
       "7          18.90      2.0            Санкт-Петербург           23982.0   \n",
       "8           8.81      NaN             посёлок Мурино               NaN   \n",
       "9           6.50      2.0            Санкт-Петербург           50898.0   \n",
       "10          8.50      NaN            Санкт-Петербург           38357.0   \n",
       "11          6.00      1.0                  Ломоносов           48252.0   \n",
       "12          9.00      0.0                  Сертолово               NaN   \n",
       "13          5.20      1.0                   Петергоф           37868.0   \n",
       "14          8.00      0.0                     Пушкин           20782.0   \n",
       "15          7.60      1.0            Санкт-Петербург           12900.0   \n",
       "16          9.00      NaN            Санкт-Петербург           22108.0   \n",
       "17         11.00      1.0            Санкт-Петербург           33564.0   \n",
       "18          5.60      1.0            Санкт-Петербург           44060.0   \n",
       "19         12.00      NaN            Санкт-Петербург           38900.0   \n",
       "\n",
       "   cityCenters_nearest  parks_around3000  parks_nearest  ponds_around3000  \\\n",
       "0              16028.0               1.0          482.0               2.0   \n",
       "1              18603.0               0.0            NaN               0.0   \n",
       "2              13933.0               1.0           90.0               2.0   \n",
       "3               6800.0               2.0           84.0               3.0   \n",
       "4               8098.0               2.0          112.0               1.0   \n",
       "5                  NaN               NaN            NaN               NaN   \n",
       "6              19143.0               0.0            NaN               0.0   \n",
       "7              11634.0               0.0            NaN               0.0   \n",
       "8                  NaN               NaN            NaN               NaN   \n",
       "9              15008.0               0.0            NaN               0.0   \n",
       "10             13878.0               1.0          310.0               2.0   \n",
       "11             51677.0               0.0            NaN               0.0   \n",
       "12                 NaN               NaN            NaN               NaN   \n",
       "13             33058.0               1.0          294.0               3.0   \n",
       "14             30759.0               0.0            NaN               1.0   \n",
       "15             14259.0               1.0          590.0               1.0   \n",
       "16             10698.0               3.0          420.0               0.0   \n",
       "17             14616.0               0.0            NaN               1.0   \n",
       "18             10842.0               1.0          759.0               0.0   \n",
       "19             12843.0               0.0            NaN               0.0   \n",
       "\n",
       "    ponds_nearest  days_exposition  \n",
       "0           755.0              NaN  \n",
       "1             NaN             81.0  \n",
       "2           574.0            558.0  \n",
       "3           234.0            424.0  \n",
       "4            48.0            121.0  \n",
       "5             NaN             55.0  \n",
       "6             NaN            155.0  \n",
       "7             NaN              NaN  \n",
       "8             NaN            189.0  \n",
       "9             NaN            289.0  \n",
       "10          553.0            137.0  \n",
       "11            NaN              7.0  \n",
       "12            NaN             90.0  \n",
       "13          298.0            366.0  \n",
       "14           96.0            203.0  \n",
       "15          296.0             19.0  \n",
       "16            NaN            397.0  \n",
       "17          859.0            571.0  \n",
       "18            NaN            168.0  \n",
       "19            NaN             97.0  \n",
       "\n",
       "[20 rows x 22 columns]"
      ]
     },
     "execution_count": 1,
     "metadata": {},
     "output_type": "execute_result"
    }
   ],
   "source": [
    "import pandas as pd\n",
    "data = pd.read_csv('/datasets/real_estate_data.csv', sep = '\\t')\n",
    "data.head(20)"
   ]
  },
  {
   "cell_type": "code",
   "execution_count": 2,
   "metadata": {},
   "outputs": [
    {
     "name": "stdout",
     "output_type": "stream",
     "text": [
      "<class 'pandas.core.frame.DataFrame'>\n",
      "RangeIndex: 23699 entries, 0 to 23698\n",
      "Data columns (total 22 columns):\n",
      " #   Column                Non-Null Count  Dtype  \n",
      "---  ------                --------------  -----  \n",
      " 0   total_images          23699 non-null  int64  \n",
      " 1   last_price            23699 non-null  float64\n",
      " 2   total_area            23699 non-null  float64\n",
      " 3   first_day_exposition  23699 non-null  object \n",
      " 4   rooms                 23699 non-null  int64  \n",
      " 5   ceiling_height        14504 non-null  float64\n",
      " 6   floors_total          23613 non-null  float64\n",
      " 7   living_area           21796 non-null  float64\n",
      " 8   floor                 23699 non-null  int64  \n",
      " 9   is_apartment          2775 non-null   object \n",
      " 10  studio                23699 non-null  bool   \n",
      " 11  open_plan             23699 non-null  bool   \n",
      " 12  kitchen_area          21421 non-null  float64\n",
      " 13  balcony               12180 non-null  float64\n",
      " 14  locality_name         23650 non-null  object \n",
      " 15  airports_nearest      18157 non-null  float64\n",
      " 16  cityCenters_nearest   18180 non-null  float64\n",
      " 17  parks_around3000      18181 non-null  float64\n",
      " 18  parks_nearest         8079 non-null   float64\n",
      " 19  ponds_around3000      18181 non-null  float64\n",
      " 20  ponds_nearest         9110 non-null   float64\n",
      " 21  days_exposition       20518 non-null  float64\n",
      "dtypes: bool(2), float64(14), int64(3), object(3)\n",
      "memory usage: 3.7+ MB\n"
     ]
    }
   ],
   "source": [
    "data.info()"
   ]
  },
  {
   "cell_type": "markdown",
   "metadata": {
    "id": "9L3e0rs2uqj7"
   },
   "source": [
    "### Вывод"
   ]
  },
  {
   "cell_type": "markdown",
   "metadata": {
    "id": "xL2blF_Euqj8"
   },
   "source": [
    "RangeIndex: 23699 entries, 0 to 23698 - одна ячейка куда то делась? Скрыта или что?"
   ]
  },
  {
   "cell_type": "markdown",
   "id": "712da899",
   "metadata": {},
   "source": [
    "<div class=\"alert alert-block alert-success\">\n",
    "<b>✅Комментарий ревьюера:</b> Нумерация индексов начинается с 0, общее количество строк 23699. Все строки на месте</div>"
   ]
  },
  {
   "cell_type": "markdown",
   "metadata": {
    "id": "r6n1CZDuuqj8"
   },
   "source": [
    "## Предобработка данных"
   ]
  },
  {
   "cell_type": "code",
   "execution_count": 3,
   "metadata": {},
   "outputs": [
    {
     "name": "stdout",
     "output_type": "stream",
     "text": [
      "Index(['total_images', 'last_price', 'total_area', 'first_day_exposition',\n",
      "       'rooms', 'ceiling_height', 'floors_total', 'living_area', 'floor',\n",
      "       'is_apartment', 'studio', 'open_plan', 'kitchen_area', 'balcony',\n",
      "       'locality_name', 'airports_nearest', 'cityCenters_nearest',\n",
      "       'parks_around3000', 'parks_nearest', 'ponds_around3000',\n",
      "       'ponds_nearest', 'days_exposition'],\n",
      "      dtype='object')\n"
     ]
    }
   ],
   "source": [
    "print(data.columns)\n",
    "#посмотрпробелы или еще что может найду"
   ]
  },
  {
   "cell_type": "code",
   "execution_count": 4,
   "metadata": {},
   "outputs": [],
   "source": [
    "#заменю пропуски в days_exposition и тип на инт\n",
    "data['days_exposition'] = data['days_exposition'].fillna(0).astype('int')"
   ]
  },
  {
   "cell_type": "code",
   "execution_count": 5,
   "metadata": {},
   "outputs": [],
   "source": [
    "# заменю тип данных на datetime\n",
    "data['first_day_exposition'] = pd.to_datetime(data['first_day_exposition'], format='%Y-%m-%dT%H:%M:%S')"
   ]
  },
  {
   "cell_type": "code",
   "execution_count": 6,
   "metadata": {},
   "outputs": [],
   "source": [
    "# Надо сделать функцию чтоб смотреть все пропущеный занчения\n",
    "\n",
    "def missing_values(column):\n",
    "    return print('Пропущено {:.1%}'. format(data[column].isna().value_counts()[1] / len(data), 2) + ' значений')"
   ]
  },
  {
   "cell_type": "code",
   "execution_count": 7,
   "metadata": {},
   "outputs": [
    {
     "name": "stdout",
     "output_type": "stream",
     "text": [
      "Пропущено 38.8% значений\n"
     ]
    }
   ],
   "source": [
    "missing_values('ceiling_height')"
   ]
  },
  {
   "cell_type": "markdown",
   "metadata": {},
   "source": [
    "ceiling_height - слишком много пропущеных значений. Удалять эти строки не предаставляется возможным, тк их очень много. ПОэтому заполню средним значением :"
   ]
  },
  {
   "cell_type": "code",
   "execution_count": 8,
   "metadata": {
    "id": "F9Pk0zxGuqj8"
   },
   "outputs": [
    {
     "data": {
      "text/html": [
       "<div>\n",
       "<style scoped>\n",
       "    .dataframe tbody tr th:only-of-type {\n",
       "        vertical-align: middle;\n",
       "    }\n",
       "\n",
       "    .dataframe tbody tr th {\n",
       "        vertical-align: top;\n",
       "    }\n",
       "\n",
       "    .dataframe thead th {\n",
       "        text-align: right;\n",
       "    }\n",
       "</style>\n",
       "<table border=\"1\" class=\"dataframe\">\n",
       "  <thead>\n",
       "    <tr style=\"text-align: right;\">\n",
       "      <th></th>\n",
       "      <th>total_images</th>\n",
       "      <th>last_price</th>\n",
       "      <th>total_area</th>\n",
       "      <th>first_day_exposition</th>\n",
       "      <th>rooms</th>\n",
       "      <th>ceiling_height</th>\n",
       "      <th>floors_total</th>\n",
       "      <th>living_area</th>\n",
       "      <th>floor</th>\n",
       "      <th>is_apartment</th>\n",
       "      <th>...</th>\n",
       "      <th>kitchen_area</th>\n",
       "      <th>balcony</th>\n",
       "      <th>locality_name</th>\n",
       "      <th>airports_nearest</th>\n",
       "      <th>cityCenters_nearest</th>\n",
       "      <th>parks_around3000</th>\n",
       "      <th>parks_nearest</th>\n",
       "      <th>ponds_around3000</th>\n",
       "      <th>ponds_nearest</th>\n",
       "      <th>days_exposition</th>\n",
       "    </tr>\n",
       "  </thead>\n",
       "  <tbody>\n",
       "    <tr>\n",
       "      <th>22938</th>\n",
       "      <td>14</td>\n",
       "      <td>4000000.0</td>\n",
       "      <td>98.0</td>\n",
       "      <td>2018-03-15</td>\n",
       "      <td>4</td>\n",
       "      <td>27.0</td>\n",
       "      <td>2.0</td>\n",
       "      <td>73.0</td>\n",
       "      <td>2</td>\n",
       "      <td>True</td>\n",
       "      <td>...</td>\n",
       "      <td>9.0</td>\n",
       "      <td>1.0</td>\n",
       "      <td>деревня Нижняя</td>\n",
       "      <td>NaN</td>\n",
       "      <td>NaN</td>\n",
       "      <td>NaN</td>\n",
       "      <td>NaN</td>\n",
       "      <td>NaN</td>\n",
       "      <td>NaN</td>\n",
       "      <td>27</td>\n",
       "    </tr>\n",
       "    <tr>\n",
       "      <th>21377</th>\n",
       "      <td>19</td>\n",
       "      <td>4900000.0</td>\n",
       "      <td>42.0</td>\n",
       "      <td>2017-04-18</td>\n",
       "      <td>1</td>\n",
       "      <td>27.5</td>\n",
       "      <td>24.0</td>\n",
       "      <td>37.7</td>\n",
       "      <td>19</td>\n",
       "      <td>False</td>\n",
       "      <td>...</td>\n",
       "      <td>11.0</td>\n",
       "      <td>2.0</td>\n",
       "      <td>Санкт-Петербург</td>\n",
       "      <td>42742.0</td>\n",
       "      <td>9760.0</td>\n",
       "      <td>0.0</td>\n",
       "      <td>NaN</td>\n",
       "      <td>0.0</td>\n",
       "      <td>NaN</td>\n",
       "      <td>61</td>\n",
       "    </tr>\n",
       "    <tr>\n",
       "      <th>3148</th>\n",
       "      <td>14</td>\n",
       "      <td>2900000.0</td>\n",
       "      <td>75.0</td>\n",
       "      <td>2018-11-12</td>\n",
       "      <td>3</td>\n",
       "      <td>32.0</td>\n",
       "      <td>3.0</td>\n",
       "      <td>53.0</td>\n",
       "      <td>2</td>\n",
       "      <td>NaN</td>\n",
       "      <td>...</td>\n",
       "      <td>8.0</td>\n",
       "      <td>NaN</td>\n",
       "      <td>Волхов</td>\n",
       "      <td>NaN</td>\n",
       "      <td>NaN</td>\n",
       "      <td>NaN</td>\n",
       "      <td>NaN</td>\n",
       "      <td>NaN</td>\n",
       "      <td>NaN</td>\n",
       "      <td>0</td>\n",
       "    </tr>\n",
       "    <tr>\n",
       "      <th>22336</th>\n",
       "      <td>19</td>\n",
       "      <td>9999000.0</td>\n",
       "      <td>92.4</td>\n",
       "      <td>2019-04-05</td>\n",
       "      <td>2</td>\n",
       "      <td>32.0</td>\n",
       "      <td>6.0</td>\n",
       "      <td>55.5</td>\n",
       "      <td>5</td>\n",
       "      <td>False</td>\n",
       "      <td>...</td>\n",
       "      <td>16.5</td>\n",
       "      <td>4.0</td>\n",
       "      <td>Санкт-Петербург</td>\n",
       "      <td>18838.0</td>\n",
       "      <td>3506.0</td>\n",
       "      <td>0.0</td>\n",
       "      <td>NaN</td>\n",
       "      <td>3.0</td>\n",
       "      <td>511.0</td>\n",
       "      <td>0</td>\n",
       "    </tr>\n",
       "    <tr>\n",
       "      <th>22869</th>\n",
       "      <td>0</td>\n",
       "      <td>15000000.0</td>\n",
       "      <td>25.0</td>\n",
       "      <td>2018-07-25</td>\n",
       "      <td>1</td>\n",
       "      <td>100.0</td>\n",
       "      <td>5.0</td>\n",
       "      <td>14.0</td>\n",
       "      <td>5</td>\n",
       "      <td>True</td>\n",
       "      <td>...</td>\n",
       "      <td>11.0</td>\n",
       "      <td>5.0</td>\n",
       "      <td>Санкт-Петербург</td>\n",
       "      <td>34963.0</td>\n",
       "      <td>8283.0</td>\n",
       "      <td>1.0</td>\n",
       "      <td>223.0</td>\n",
       "      <td>3.0</td>\n",
       "      <td>30.0</td>\n",
       "      <td>19</td>\n",
       "    </tr>\n",
       "  </tbody>\n",
       "</table>\n",
       "<p>5 rows × 22 columns</p>\n",
       "</div>"
      ],
      "text/plain": [
       "       total_images  last_price  total_area first_day_exposition  rooms  \\\n",
       "22938            14   4000000.0        98.0           2018-03-15      4   \n",
       "21377            19   4900000.0        42.0           2017-04-18      1   \n",
       "3148             14   2900000.0        75.0           2018-11-12      3   \n",
       "22336            19   9999000.0        92.4           2019-04-05      2   \n",
       "22869             0  15000000.0        25.0           2018-07-25      1   \n",
       "\n",
       "       ceiling_height  floors_total  living_area  floor is_apartment  ...  \\\n",
       "22938            27.0           2.0         73.0      2         True  ...   \n",
       "21377            27.5          24.0         37.7     19        False  ...   \n",
       "3148             32.0           3.0         53.0      2          NaN  ...   \n",
       "22336            32.0           6.0         55.5      5        False  ...   \n",
       "22869           100.0           5.0         14.0      5         True  ...   \n",
       "\n",
       "       kitchen_area  balcony    locality_name  airports_nearest  \\\n",
       "22938           9.0      1.0   деревня Нижняя               NaN   \n",
       "21377          11.0      2.0  Санкт-Петербург           42742.0   \n",
       "3148            8.0      NaN           Волхов               NaN   \n",
       "22336          16.5      4.0  Санкт-Петербург           18838.0   \n",
       "22869          11.0      5.0  Санкт-Петербург           34963.0   \n",
       "\n",
       "      cityCenters_nearest  parks_around3000  parks_nearest  ponds_around3000  \\\n",
       "22938                 NaN               NaN            NaN               NaN   \n",
       "21377              9760.0               0.0            NaN               0.0   \n",
       "3148                  NaN               NaN            NaN               NaN   \n",
       "22336              3506.0               0.0            NaN               3.0   \n",
       "22869              8283.0               1.0          223.0               3.0   \n",
       "\n",
       "       ponds_nearest  days_exposition  \n",
       "22938            NaN               27  \n",
       "21377            NaN               61  \n",
       "3148             NaN                0  \n",
       "22336          511.0                0  \n",
       "22869           30.0               19  \n",
       "\n",
       "[5 rows x 22 columns]"
      ]
     },
     "execution_count": 8,
     "metadata": {},
     "output_type": "execute_result"
    },
    {
     "data": {
      "image/png": "[encoded data removed]",
      "text/plain": [
       "<Figure size 432x288 with 1 Axes>"
      ]
     },
     "metadata": {
      "needs_background": "light"
     },
     "output_type": "display_data"
    }
   ],
   "source": [
    "data['ceiling_height'].sort_values().plot(y = 'ceiling_height', kind = 'hist', bins = 30, range=(3,5))\n",
    "data[data['ceiling_height'] > 5].sort_values('ceiling_height').tail(5)\n",
    "#много потолков 27м, скорре всего точка не там стоит и высота 2.7, пока я хз что с этим делать"
   ]
  },
  {
   "cell_type": "code",
   "execution_count": 9,
   "metadata": {},
   "outputs": [
    {
     "data": {
      "text/plain": [
       "count    14504.000000\n",
       "mean         2.771499\n",
       "std          1.261056\n",
       "min          1.000000\n",
       "25%          2.520000\n",
       "50%          2.650000\n",
       "75%          2.800000\n",
       "max        100.000000\n",
       "Name: ceiling_height, dtype: float64"
      ]
     },
     "execution_count": 9,
     "metadata": {},
     "output_type": "execute_result"
    }
   ],
   "source": [
    "data['ceiling_height'].describe()"
   ]
  },
  {
   "cell_type": "code",
   "execution_count": 10,
   "metadata": {},
   "outputs": [
    {
     "data": {
      "text/plain": [
       "2.50     3515\n",
       "2.60     1646\n",
       "2.70     1574\n",
       "3.00     1112\n",
       "2.80      993\n",
       "         ... \n",
       "4.25        1\n",
       "3.39        1\n",
       "3.93        1\n",
       "10.30       1\n",
       "4.65        1\n",
       "Name: ceiling_height, Length: 183, dtype: int64"
      ]
     },
     "execution_count": 10,
     "metadata": {},
     "output_type": "execute_result"
    }
   ],
   "source": [
    "data['ceiling_height'].value_counts()"
   ]
  },
  {
   "cell_type": "markdown",
   "id": "712da899",
   "metadata": {},
   "source": [
    "<div class=\"alert alert-block alert-success\">\n",
    "<b>✅Комментарий ревьюера:</b> \n",
    "    \n",
    "В ячейке выше ты применила методы `value_counts` и `describe`, но результат их работы не был выведен на экран. Чтобы это исправить нужно писать их в отдельных ячейках или передать в функцию `display()`</div>"
   ]
  },
  {
   "cell_type": "code",
   "execution_count": 11,
   "metadata": {},
   "outputs": [],
   "source": [
    "#число проп этажей \n",
    "data.dropna(subset=['floors_total'], inplace=True)"
   ]
  },
  {
   "cell_type": "code",
   "execution_count": 12,
   "metadata": {},
   "outputs": [],
   "source": [
    "#жилая площадь\n",
    "#все пропущенные значения living_area заменим на False \n",
    "data['living_area'] = data['living_area'].fillna(False)"
   ]
  },
  {
   "cell_type": "code",
   "execution_count": 13,
   "metadata": {},
   "outputs": [
    {
     "data": {
      "text/plain": [
       "False    23613\n",
       "Name: living_area, dtype: int64"
      ]
     },
     "execution_count": 13,
     "metadata": {},
     "output_type": "execute_result"
    }
   ],
   "source": [
    "data['living_area'].isna().value_counts()"
   ]
  },
  {
   "cell_type": "code",
   "execution_count": 14,
   "metadata": {},
   "outputs": [],
   "source": [
    "data['balcony'].value_counts()\n",
    "data['balcony'] = data['balcony'].fillna(0)\n",
    "data['balcony'] = data['balcony'].astype('int')"
   ]
  },
  {
   "cell_type": "code",
   "execution_count": 15,
   "metadata": {},
   "outputs": [],
   "source": [
    "#все пропущенные значения is_apartment заменим на False \n",
    "data['is_apartment'] = data['is_apartment'].fillna(False)"
   ]
  },
  {
   "cell_type": "code",
   "execution_count": 16,
   "metadata": {},
   "outputs": [],
   "source": [
    "#все пропущенные значения is_apartment заменим на False \n",
    "data['last_price'] = data['last_price'].fillna(False)"
   ]
  },
  {
   "cell_type": "code",
   "execution_count": 17,
   "metadata": {},
   "outputs": [
    {
     "name": "stdout",
     "output_type": "stream",
     "text": [
      "Пропущено 61.6% значений\n"
     ]
    }
   ],
   "source": [
    "missing_values('ponds_nearest')"
   ]
  },
  {
   "cell_type": "code",
   "execution_count": 18,
   "metadata": {},
   "outputs": [
    {
     "name": "stdout",
     "output_type": "stream",
     "text": [
      "Пропущено 23.4% значений\n"
     ]
    }
   ],
   "source": [
    "missing_values('airports_nearest')"
   ]
  },
  {
   "cell_type": "code",
   "execution_count": 19,
   "metadata": {},
   "outputs": [
    {
     "name": "stdout",
     "output_type": "stream",
     "text": [
      "Пропущено 23.3% значений\n"
     ]
    }
   ],
   "source": [
    "missing_values('cityCenters_nearest')"
   ]
  },
  {
   "cell_type": "code",
   "execution_count": 20,
   "metadata": {},
   "outputs": [
    {
     "name": "stdout",
     "output_type": "stream",
     "text": [
      "Пропущено 9.4% значений\n"
     ]
    }
   ],
   "source": [
    "missing_values('kitchen_area')"
   ]
  },
  {
   "cell_type": "code",
   "execution_count": 21,
   "metadata": {},
   "outputs": [
    {
     "name": "stdout",
     "output_type": "stream",
     "text": [
      "Пропущено 0.2% значений\n"
     ]
    }
   ],
   "source": [
    "missing_values('locality_name')"
   ]
  },
  {
   "cell_type": "markdown",
   "id": "240e31f5",
   "metadata": {},
   "source": [
    "<div class=\"alert alert-block alert-warning\">\n",
    "<b>🔁Комментарий ревьюера:</b>\n",
    "\n",
    "Почему остальные столбцы решила не рассматривать?.</div>"
   ]
  },
  {
   "cell_type": "markdown",
   "id": "c3c24969",
   "metadata": {},
   "source": [
    "<div class=\"alert alert-block alert-success\">\n",
    "<b>✅Комментарий ревьюера 2:</b> Отлично, исправлено!👍  Но хотелось бы еще увидеть твои мысли по поводу пропущенных значений в этих столбцах)</div>"
   ]
  },
  {
   "cell_type": "markdown",
   "metadata": {
    "id": "NDkb4wRMuqj9"
   },
   "source": [
    "## Расчёты и добавление результатов в таблицу"
   ]
  },
  {
   "cell_type": "markdown",
   "metadata": {
    "id": "qWGaSUbGuqj9"
   },
   "source": [
    "1. Посчитаю цену кв метра:"
   ]
  },
  {
   "cell_type": "code",
   "execution_count": 22,
   "metadata": {},
   "outputs": [],
   "source": [
    "data['price_one_metr'] = data['last_price'] / data['total_area'] #нужно привести к инт, слишком много числел после точки\n",
    "data['price_one_metr'] = data['price_one_metr'].astype('int')\n",
    "#data.head(5)"
   ]
  },
  {
   "cell_type": "markdown",
   "metadata": {},
   "source": [
    "1. Столбец для дня недели, месяца и года объявления:"
   ]
  },
  {
   "cell_type": "code",
   "execution_count": 23,
   "metadata": {},
   "outputs": [
    {
     "data": {
      "text/html": [
       "<div>\n",
       "<style scoped>\n",
       "    .dataframe tbody tr th:only-of-type {\n",
       "        vertical-align: middle;\n",
       "    }\n",
       "\n",
       "    .dataframe tbody tr th {\n",
       "        vertical-align: top;\n",
       "    }\n",
       "\n",
       "    .dataframe thead th {\n",
       "        text-align: right;\n",
       "    }\n",
       "</style>\n",
       "<table border=\"1\" class=\"dataframe\">\n",
       "  <thead>\n",
       "    <tr style=\"text-align: right;\">\n",
       "      <th></th>\n",
       "      <th>total_images</th>\n",
       "      <th>last_price</th>\n",
       "      <th>total_area</th>\n",
       "      <th>first_day_exposition</th>\n",
       "      <th>rooms</th>\n",
       "      <th>ceiling_height</th>\n",
       "      <th>floors_total</th>\n",
       "      <th>living_area</th>\n",
       "      <th>floor</th>\n",
       "      <th>is_apartment</th>\n",
       "      <th>...</th>\n",
       "      <th>cityCenters_nearest</th>\n",
       "      <th>parks_around3000</th>\n",
       "      <th>parks_nearest</th>\n",
       "      <th>ponds_around3000</th>\n",
       "      <th>ponds_nearest</th>\n",
       "      <th>days_exposition</th>\n",
       "      <th>price_one_metr</th>\n",
       "      <th>weekday_public</th>\n",
       "      <th>month_public</th>\n",
       "      <th>year_public</th>\n",
       "    </tr>\n",
       "  </thead>\n",
       "  <tbody>\n",
       "    <tr>\n",
       "      <th>0</th>\n",
       "      <td>20</td>\n",
       "      <td>13000000.0</td>\n",
       "      <td>108.0</td>\n",
       "      <td>2019-03-07</td>\n",
       "      <td>3</td>\n",
       "      <td>2.70</td>\n",
       "      <td>16.0</td>\n",
       "      <td>51.0</td>\n",
       "      <td>8</td>\n",
       "      <td>False</td>\n",
       "      <td>...</td>\n",
       "      <td>16028.0</td>\n",
       "      <td>1.0</td>\n",
       "      <td>482.0</td>\n",
       "      <td>2.0</td>\n",
       "      <td>755.0</td>\n",
       "      <td>0</td>\n",
       "      <td>120370</td>\n",
       "      <td>3</td>\n",
       "      <td>3</td>\n",
       "      <td>2019</td>\n",
       "    </tr>\n",
       "    <tr>\n",
       "      <th>1</th>\n",
       "      <td>7</td>\n",
       "      <td>3350000.0</td>\n",
       "      <td>40.4</td>\n",
       "      <td>2018-12-04</td>\n",
       "      <td>1</td>\n",
       "      <td>NaN</td>\n",
       "      <td>11.0</td>\n",
       "      <td>18.6</td>\n",
       "      <td>1</td>\n",
       "      <td>False</td>\n",
       "      <td>...</td>\n",
       "      <td>18603.0</td>\n",
       "      <td>0.0</td>\n",
       "      <td>NaN</td>\n",
       "      <td>0.0</td>\n",
       "      <td>NaN</td>\n",
       "      <td>81</td>\n",
       "      <td>82920</td>\n",
       "      <td>1</td>\n",
       "      <td>12</td>\n",
       "      <td>2018</td>\n",
       "    </tr>\n",
       "    <tr>\n",
       "      <th>2</th>\n",
       "      <td>10</td>\n",
       "      <td>5196000.0</td>\n",
       "      <td>56.0</td>\n",
       "      <td>2015-08-20</td>\n",
       "      <td>2</td>\n",
       "      <td>NaN</td>\n",
       "      <td>5.0</td>\n",
       "      <td>34.3</td>\n",
       "      <td>4</td>\n",
       "      <td>False</td>\n",
       "      <td>...</td>\n",
       "      <td>13933.0</td>\n",
       "      <td>1.0</td>\n",
       "      <td>90.0</td>\n",
       "      <td>2.0</td>\n",
       "      <td>574.0</td>\n",
       "      <td>558</td>\n",
       "      <td>92785</td>\n",
       "      <td>3</td>\n",
       "      <td>8</td>\n",
       "      <td>2015</td>\n",
       "    </tr>\n",
       "    <tr>\n",
       "      <th>3</th>\n",
       "      <td>0</td>\n",
       "      <td>64900000.0</td>\n",
       "      <td>159.0</td>\n",
       "      <td>2015-07-24</td>\n",
       "      <td>3</td>\n",
       "      <td>NaN</td>\n",
       "      <td>14.0</td>\n",
       "      <td>False</td>\n",
       "      <td>9</td>\n",
       "      <td>False</td>\n",
       "      <td>...</td>\n",
       "      <td>6800.0</td>\n",
       "      <td>2.0</td>\n",
       "      <td>84.0</td>\n",
       "      <td>3.0</td>\n",
       "      <td>234.0</td>\n",
       "      <td>424</td>\n",
       "      <td>408176</td>\n",
       "      <td>4</td>\n",
       "      <td>7</td>\n",
       "      <td>2015</td>\n",
       "    </tr>\n",
       "    <tr>\n",
       "      <th>4</th>\n",
       "      <td>2</td>\n",
       "      <td>10000000.0</td>\n",
       "      <td>100.0</td>\n",
       "      <td>2018-06-19</td>\n",
       "      <td>2</td>\n",
       "      <td>3.03</td>\n",
       "      <td>14.0</td>\n",
       "      <td>32.0</td>\n",
       "      <td>13</td>\n",
       "      <td>False</td>\n",
       "      <td>...</td>\n",
       "      <td>8098.0</td>\n",
       "      <td>2.0</td>\n",
       "      <td>112.0</td>\n",
       "      <td>1.0</td>\n",
       "      <td>48.0</td>\n",
       "      <td>121</td>\n",
       "      <td>100000</td>\n",
       "      <td>1</td>\n",
       "      <td>6</td>\n",
       "      <td>2018</td>\n",
       "    </tr>\n",
       "  </tbody>\n",
       "</table>\n",
       "<p>5 rows × 26 columns</p>\n",
       "</div>"
      ],
      "text/plain": [
       "   total_images  last_price  total_area first_day_exposition  rooms  \\\n",
       "0            20  13000000.0       108.0           2019-03-07      3   \n",
       "1             7   3350000.0        40.4           2018-12-04      1   \n",
       "2            10   5196000.0        56.0           2015-08-20      2   \n",
       "3             0  64900000.0       159.0           2015-07-24      3   \n",
       "4             2  10000000.0       100.0           2018-06-19      2   \n",
       "\n",
       "   ceiling_height  floors_total living_area  floor  is_apartment  ...  \\\n",
       "0            2.70          16.0        51.0      8         False  ...   \n",
       "1             NaN          11.0        18.6      1         False  ...   \n",
       "2             NaN           5.0        34.3      4         False  ...   \n",
       "3             NaN          14.0       False      9         False  ...   \n",
       "4            3.03          14.0        32.0     13         False  ...   \n",
       "\n",
       "   cityCenters_nearest  parks_around3000  parks_nearest  ponds_around3000  \\\n",
       "0              16028.0               1.0          482.0               2.0   \n",
       "1              18603.0               0.0            NaN               0.0   \n",
       "2              13933.0               1.0           90.0               2.0   \n",
       "3               6800.0               2.0           84.0               3.0   \n",
       "4               8098.0               2.0          112.0               1.0   \n",
       "\n",
       "  ponds_nearest  days_exposition  price_one_metr  weekday_public  \\\n",
       "0         755.0                0          120370               3   \n",
       "1           NaN               81           82920               1   \n",
       "2         574.0              558           92785               3   \n",
       "3         234.0              424          408176               4   \n",
       "4          48.0              121          100000               1   \n",
       "\n",
       "   month_public  year_public  \n",
       "0             3         2019  \n",
       "1            12         2018  \n",
       "2             8         2015  \n",
       "3             7         2015  \n",
       "4             6         2018  \n",
       "\n",
       "[5 rows x 26 columns]"
      ]
     },
     "execution_count": 23,
     "metadata": {},
     "output_type": "execute_result"
    }
   ],
   "source": [
    "data['weekday_public'] = data['first_day_exposition'].dt.weekday\n",
    "data['month_public'] = data['first_day_exposition'].dt.month\n",
    "data['year_public'] = data['first_day_exposition'].dt.year\n",
    "data.head(5)"
   ]
  },
  {
   "cell_type": "markdown",
   "metadata": {},
   "source": [
    "3. Создам функцию вариантов этажей квартиры"
   ]
  },
  {
   "cell_type": "code",
   "execution_count": 24,
   "metadata": {},
   "outputs": [],
   "source": [
    "def floor_category(row):\n",
    "    floors_total = row['floors_total']\n",
    "    floor = row['floor']\n",
    "    if floor == 1:\n",
    "        return 'первый'\n",
    "    elif floor == floors_total:\n",
    "        return 'последний'\n",
    "    elif 1 < floor < floors_total:\n",
    "        return 'другой'\n",
    "    \n",
    "#и категориация этажей\n",
    "data['floor_category'] = data.apply(floor_category, axis = 1)"
   ]
  },
  {
   "cell_type": "markdown",
   "metadata": {},
   "source": [
    "4. Соотношение жилой и общей площади, а также отношение площади кухни к общей."
   ]
  },
  {
   "cell_type": "code",
   "execution_count": 25,
   "metadata": {},
   "outputs": [],
   "source": [
    "# снчала добавлю столбец соотн жилой площади к общей\n",
    "data['useful_area_ratio'] = data['living_area'] / data['total_area']"
   ]
  },
  {
   "cell_type": "code",
   "execution_count": 26,
   "metadata": {},
   "outputs": [],
   "source": [
    "#и потом столбец отношения площади кухни к общей площади\n",
    "data['kitchen_area_ratio'] = data['kitchen_area'] / data['total_area']\n",
    "#data.head(5)"
   ]
  },
  {
   "cell_type": "markdown",
   "id": "72d3658e",
   "metadata": {},
   "source": [
    "<div class=\"alert alert-block alert-success\">\n",
    "<b>✅Комментарий ревьюера:</b> Дополнительные данные рассчитаны и добавлены верно! Можно приступать к исследованию🙂 </div>"
   ]
  },
  {
   "cell_type": "markdown",
   "metadata": {
    "id": "bbkJiMpRuqj9"
   },
   "source": [
    "## Исследовательский анализ данных"
   ]
  },
  {
   "cell_type": "markdown",
   "metadata": {
    "id": "evjMydACuqj9"
   },
   "source": [
    "Изучите следующие параметры: площадь, цена, число комнат, высота потолков. Постройте гистограммы для каждого параметра."
   ]
  },
  {
   "cell_type": "code",
   "execution_count": 27,
   "metadata": {},
   "outputs": [
    {
     "data": {
      "text/plain": [
       "count    23613.000000\n",
       "mean        60.340678\n",
       "std         35.648988\n",
       "min         12.000000\n",
       "25%         40.000000\n",
       "50%         52.000000\n",
       "75%         69.800000\n",
       "max        900.000000\n",
       "Name: total_area, dtype: float64"
      ]
     },
     "execution_count": 27,
     "metadata": {},
     "output_type": "execute_result"
    },
    {
     "data": {
      "image/png": "[encoded data removed]",
      "text/plain": [
       "<Figure size 360x288 with 1 Axes>"
      ]
     },
     "metadata": {
      "needs_background": "light"
     },
     "output_type": "display_data"
    }
   ],
   "source": [
    "#общая площадь\n",
    "data.plot(y = 'total_area', kind = 'hist', bins = 100, grid=True, figsize = (5,4), range = (0,200))\n",
    "data['total_area'].describe()\n",
    "#распределение данных ок, небольшие вбросы сильно не повлияют на результат"
   ]
  },
  {
   "cell_type": "code",
   "execution_count": 28,
   "metadata": {},
   "outputs": [
    {
     "data": {
      "text/plain": [
       "count    2.361300e+04\n",
       "mean     6.540555e+06\n",
       "std      1.090172e+07\n",
       "min      1.219000e+04\n",
       "25%      3.400000e+06\n",
       "50%      4.650000e+06\n",
       "75%      6.799000e+06\n",
       "max      7.630000e+08\n",
       "Name: last_price, dtype: float64"
      ]
     },
     "execution_count": 28,
     "metadata": {},
     "output_type": "execute_result"
    },
    {
     "data": {
      "image/png": "[encoded data removed]",
      "text/plain": [
       "<Figure size 360x288 with 1 Axes>"
      ]
     },
     "metadata": {
      "needs_background": "light"
     },
     "output_type": "display_data"
    }
   ],
   "source": [
    "#цена\n",
    "data.plot(y = 'last_price', kind = 'hist', bins = 100, grid=True, range = (0,15000000), figsize = (5,4))\n",
    "data['last_price'].describe()"
   ]
  },
  {
   "cell_type": "code",
   "execution_count": 29,
   "metadata": {},
   "outputs": [
    {
     "data": {
      "text/plain": [
       "count    23613.000000\n",
       "mean         2.071147\n",
       "std          1.078380\n",
       "min          0.000000\n",
       "25%          1.000000\n",
       "50%          2.000000\n",
       "75%          3.000000\n",
       "max         19.000000\n",
       "Name: rooms, dtype: float64"
      ]
     },
     "execution_count": 29,
     "metadata": {},
     "output_type": "execute_result"
    },
    {
     "data": {
      "image/png": "[encoded data removed]",
      "text/plain": [
       "<Figure size 360x288 with 1 Axes>"
      ]
     },
     "metadata": {
      "needs_background": "light"
     },
     "output_type": "display_data"
    }
   ],
   "source": [
    "#колво комнат\n",
    "data\n",
    "data.plot(y = 'rooms', kind = 'hist', bins = 20, grid=True, figsize = (5,4))\n",
    "data['rooms'].describe()  #с данными все ок"
   ]
  },
  {
   "cell_type": "code",
   "execution_count": 30,
   "metadata": {},
   "outputs": [
    {
     "data": {
      "text/plain": [
       "count    14495.000000\n",
       "mean         2.771495\n",
       "std          1.261445\n",
       "min          1.000000\n",
       "25%          2.520000\n",
       "50%          2.650000\n",
       "75%          2.800000\n",
       "max        100.000000\n",
       "Name: ceiling_height, dtype: float64"
      ]
     },
     "execution_count": 30,
     "metadata": {},
     "output_type": "execute_result"
    },
    {
     "data": {
      "image/png": "[encoded data removed]",
      "text/plain": [
       "<Figure size 360x288 with 1 Axes>"
      ]
     },
     "metadata": {
      "needs_background": "light"
     },
     "output_type": "display_data"
    }
   ],
   "source": [
    "#высота потолков\n",
    "data\n",
    "data.plot(y = 'ceiling_height', kind = 'hist', bins = 20, range = (2,5), grid=True, figsize = (5,4))\n",
    "data['ceiling_height'].describe() #с данными все ок"
   ]
  },
  {
   "cell_type": "code",
   "execution_count": 31,
   "metadata": {},
   "outputs": [
    {
     "data": {
      "text/html": [
       "<div>\n",
       "<style scoped>\n",
       "    .dataframe tbody tr th:only-of-type {\n",
       "        vertical-align: middle;\n",
       "    }\n",
       "\n",
       "    .dataframe tbody tr th {\n",
       "        vertical-align: top;\n",
       "    }\n",
       "\n",
       "    .dataframe thead th {\n",
       "        text-align: right;\n",
       "    }\n",
       "</style>\n",
       "<table border=\"1\" class=\"dataframe\">\n",
       "  <thead>\n",
       "    <tr style=\"text-align: right;\">\n",
       "      <th></th>\n",
       "      <th>median</th>\n",
       "      <th>count</th>\n",
       "    </tr>\n",
       "    <tr>\n",
       "      <th>floors_total</th>\n",
       "      <th></th>\n",
       "      <th></th>\n",
       "    </tr>\n",
       "  </thead>\n",
       "  <tbody>\n",
       "    <tr>\n",
       "      <th>1.0</th>\n",
       "      <td>2.80</td>\n",
       "      <td>10</td>\n",
       "    </tr>\n",
       "    <tr>\n",
       "      <th>2.0</th>\n",
       "      <td>2.70</td>\n",
       "      <td>215</td>\n",
       "    </tr>\n",
       "    <tr>\n",
       "      <th>3.0</th>\n",
       "      <td>2.80</td>\n",
       "      <td>399</td>\n",
       "    </tr>\n",
       "    <tr>\n",
       "      <th>4.0</th>\n",
       "      <td>3.00</td>\n",
       "      <td>789</td>\n",
       "    </tr>\n",
       "    <tr>\n",
       "      <th>5.0</th>\n",
       "      <td>2.55</td>\n",
       "      <td>3666</td>\n",
       "    </tr>\n",
       "  </tbody>\n",
       "</table>\n",
       "</div>"
      ],
      "text/plain": [
       "              median  count\n",
       "floors_total               \n",
       "1.0             2.80     10\n",
       "2.0             2.70    215\n",
       "3.0             2.80    399\n",
       "4.0             3.00    789\n",
       "5.0             2.55   3666"
      ]
     },
     "execution_count": 31,
     "metadata": {},
     "output_type": "execute_result"
    }
   ],
   "source": [
    "ceiling_height1 = data.pivot_table(index='floors_total', values='ceiling_height', aggfunc=['median', 'count'])\n",
    "ceiling_height1.columns = ['median', 'count']\n",
    "ceiling_height1.head()"
   ]
  },
  {
   "cell_type": "code",
   "execution_count": 32,
   "metadata": {},
   "outputs": [],
   "source": [
    "# заменяю пропущ значения высоты потолков на  медиану:\n",
    "for floor in ceiling_height1.index:\n",
    "    data.loc[(data['floors_total'].isna()) | \n",
    "             ((data['floors_total'] == floor) & (ceiling_height1.loc[floor, 'count'] == 0)), \n",
    "             'ceiling_height'] = data['ceiling_height'].describe()[5]\n",
    "\n",
    "# вставлю вместо пропущ значений высоты потолков для дома соотв этажности\n",
    "for floor in ceiling_height1.index:\n",
    "    data.loc[(data['ceiling_height'].isna()) & \n",
    "             (data['floors_total'] == floor), \n",
    "             'ceiling_height'] = ceiling_height1.loc[floor, 'median']"
   ]
  },
  {
   "cell_type": "markdown",
   "id": "2fe77c62",
   "metadata": {},
   "source": [
    "<div class=\"alert alert-block alert-success\">\n",
    "<b>✅Комментарий ревьюера:</b> \n",
    "    \n",
    "Кстати, для подобного рода заполнения пропусков с группировкой отлично подходит метод `transform`.\n",
    "\n",
    "Вот [отличная статья](https://dfedorov.spb.ru/pandas/Понимание%20функции%20transform%20в%20Pandas.html), которая объясняет принцип работы метода. Очень советую)\n",
    "\n",
    "Пример кода написал ниже</div>\n",
    "\n",
    "```python\n",
    "\n",
    "ceiling_medians = data.groupby('floors_total')['ceiling_height'].transform('median')\n",
    "data['ceiling_height'].fillna(ceiling_medians, inplace=True)\n",
    "                              \n",
    "```"
   ]
  },
  {
   "cell_type": "code",
   "execution_count": 64,
   "metadata": {},
   "outputs": [
    {
     "data": {
      "text/plain": [
       "False    23613\n",
       "Name: ceiling_height, dtype: int64"
      ]
     },
     "execution_count": 64,
     "metadata": {},
     "output_type": "execute_result"
    }
   ],
   "source": [
    "# посчитаем количество пропущенных значений после проделанной замены\n",
    "data['ceiling_height'].isna().value_counts()"
   ]
  },
  {
   "cell_type": "markdown",
   "id": "240e31f5",
   "metadata": {},
   "source": [
    "<div class=\"alert alert-block alert-warning\">\n",
    "<b>🔁Комментарий ревьюера:</b>\n",
    "\n",
    "Пропуски в высоте потолков мы кажется хотели заполнить🤔</div>"
   ]
  },
  {
   "cell_type": "markdown",
   "id": "c3c24969",
   "metadata": {},
   "source": [
    "<div class=\"alert alert-block alert-success\">\n",
    "<b>✅Комментарий ревьюера 2:</b> Отлично, исправлено!👍  </div>"
   ]
  },
  {
   "cell_type": "markdown",
   "metadata": {},
   "source": [
    "\n",
    "\n",
    "Вывод:\n",
    "\n",
    "    Общая площадь квартир колеблется от 12 до 900 метров кв, среднее значение 60, а медиана 52. \n",
    "    Цена квартир колеблется от 1,2 до 7,6 млн, среднее значение 6,5 млн, а медиана 4,6.\n",
    "    Количество комнат от 1 до 19, преобладают однокомнатные квартиры.\n",
    "    Высота потолков в среднем 2,7м, медиана 2,65 м.\n",
    "\n",
    "Так же есть значения типа 0 комнат, высоты потолков в 1 или 100 метров или цена квартиры в 12190 рублей. Пока хз что с ними делать, я же не могу спросить у сотрудников тк это проект, удалять не буду , дальше видно будет.\n"
   ]
  },
  {
   "cell_type": "markdown",
   "metadata": {},
   "source": [
    "2.Изучите время продажи квартиры. Постройте гистограмму. Посчитайте среднее и медиану. Опишите, сколько обычно занимает продажа. Когда можно считать, что продажи прошли очень быстро, а когда необычно долго?"
   ]
  },
  {
   "cell_type": "markdown",
   "id": "240e31f5",
   "metadata": {},
   "source": [
    "<div class=\"alert alert-block alert-warning\">\n",
    "<b>🔁Комментарий ревьюера:</b>\n",
    "\n",
    "Все библиотеки лучше импортировать в самом начале в отдельной ячейке. Если в процессе работы появилась необходимость добавить библиотеку, то ее можно дописать в эту ячейку и исполнить.</div>"
   ]
  },
  {
   "cell_type": "code",
   "execution_count": 34,
   "metadata": {},
   "outputs": [
    {
     "name": "stdout",
     "output_type": "stream",
     "text": [
      "Index(['total_images', 'last_price', 'total_area', 'first_day_exposition',\n",
      "       'rooms', 'ceiling_height', 'floors_total', 'living_area', 'floor',\n",
      "       'is_apartment', 'studio', 'open_plan', 'kitchen_area', 'balcony',\n",
      "       'locality_name', 'airports_nearest', 'cityCenters_nearest',\n",
      "       'parks_around3000', 'parks_nearest', 'ponds_around3000',\n",
      "       'ponds_nearest', 'days_exposition', 'price_one_metr', 'weekday_public',\n",
      "       'month_public', 'year_public', 'floor_category', 'useful_area_ratio',\n",
      "       'kitchen_area_ratio'],\n",
      "      dtype='object')\n"
     ]
    },
    {
     "data": {
      "text/plain": [
       "count    20441.000000\n",
       "mean       180.884839\n",
       "std        219.685543\n",
       "min          1.000000\n",
       "25%         45.000000\n",
       "50%         95.000000\n",
       "75%        232.000000\n",
       "max       1580.000000\n",
       "Name: days_exposition, dtype: float64"
      ]
     },
     "execution_count": 34,
     "metadata": {},
     "output_type": "execute_result"
    },
    {
     "data": {
      "image/png": "[encoded data removed]",
      "text/plain": [
       "<Figure size 432x288 with 1 Axes>"
      ]
     },
     "metadata": {
      "needs_background": "light"
     },
     "output_type": "display_data"
    },
    {
     "data": {
      "image/png": "[encoded data removed]",
      "text/plain": [
       "<Figure size 432x288 with 1 Axes>"
      ]
     },
     "metadata": {
      "needs_background": "light"
     },
     "output_type": "display_data"
    },
    {
     "data": {
      "image/png": "[encoded data removed]",
      "text/plain": [
       "<Figure size 432x288 with 1 Axes>"
      ]
     },
     "metadata": {
      "needs_background": "light"
     },
     "output_type": "display_data"
    },
    {
     "data": {
      "image/png": "[encoded data removed]",
      "text/plain": [
       "<Figure size 432x288 with 1 Axes>"
      ]
     },
     "metadata": {
      "needs_background": "light"
     },
     "output_type": "display_data"
    }
   ],
   "source": [
    "print(data.columns)\n",
    "\n",
    "import matplotlib.pyplot as plt\n",
    "plt.boxplot(data[data['days_exposition']!=0]['days_exposition'])\n",
    "plt.ylim(1,1000)\n",
    "data.plot(y = 'days_exposition', kind = 'hist', bins = 200, grid = True, range = (1,500))\n",
    "data.plot(y = 'days_exposition', kind = 'hist', bins = 50, grid = True, range = (1,1500))\n",
    "data.plot(y = 'days_exposition', kind = 'hist', bins = 100, grid = True, range = (1,200))\n",
    "\n",
    "#срзначение\n",
    "data[data['days_exposition']!=0]['days_exposition'].describe()"
   ]
  },
  {
   "cell_type": "markdown",
   "metadata": {},
   "source": [
    "Вывод: среднее значение 180 дней, медиана - 95 дней, минимальное 1 день. Но есть выбивающиеся значения на определенных днях, мб просто автоматич система удаляет их, непонятно пока. МОжет система удалила, а квартирка не продана. Если так, то такие данные как раз и надо убирать из анализа (как 30,45,60, 90 дней)"
   ]
  },
  {
   "cell_type": "markdown",
   "id": "ec9ed47f",
   "metadata": {},
   "source": [
    "<div class=\"alert alert-block alert-success\">\n",
    "<b>✅Комментарий ревьюера:</b> \n",
    "    \n",
    "Молодец, что перед анализом количества дней размещения исключила нулевые значения, которыми мы заполнили пропуски!\n",
    "\n",
    "Выбивающиеся значения это автоматические снятия объявлений с публикации после истечения установленного срока размещения</div>"
   ]
  },
  {
   "cell_type": "markdown",
   "metadata": {},
   "source": [
    "3. Уберите редкие и выбивающиеся значения. Опишите, какие особенности обнаружили."
   ]
  },
  {
   "cell_type": "code",
   "execution_count": 35,
   "metadata": {},
   "outputs": [
    {
     "data": {
      "text/plain": [
       "<AxesSubplot:ylabel='Frequency'>"
      ]
     },
     "execution_count": 35,
     "metadata": {},
     "output_type": "execute_result"
    },
    {
     "data": {
      "image/png": "[encoded data removed]",
      "text/plain": [
       "<Figure size 432x288 with 1 Axes>"
      ]
     },
     "metadata": {
      "needs_background": "light"
     },
     "output_type": "display_data"
    },
    {
     "data": {
      "image/png": "[encoded data removed]",
      "text/plain": [
       "<Figure size 432x288 with 1 Axes>"
      ]
     },
     "metadata": {
      "needs_background": "light"
     },
     "output_type": "display_data"
    },
    {
     "data": {
      "image/png": "[encoded data removed]",
      "text/plain": [
       "<Figure size 432x288 with 1 Axes>"
      ]
     },
     "metadata": {
      "needs_background": "light"
     },
     "output_type": "display_data"
    }
   ],
   "source": [
    "#удаляю выбивающие значения\n",
    "new_data = data.query('days_exposition != 45 and days_exposition != 30 and days_exposition != 60 and days_exposition != 90')\n",
    "\n",
    "#диаграмма размаха\n",
    "plt.boxplot(new_data['days_exposition'])\n",
    "plt.ylim(1,1000)\n",
    "\n",
    "#гистограммы\n",
    "new_data.plot(y = 'days_exposition', kind = 'hist', bins = 30, grid = True, range = (1,1600))\n",
    "new_data.plot(y = 'days_exposition', kind = 'hist', bins = 100, grid = True, range = (1,200))"
   ]
  },
  {
   "cell_type": "code",
   "execution_count": 36,
   "metadata": {},
   "outputs": [
    {
     "data": {
      "text/plain": [
       "count    21786.000000\n",
       "mean       165.301432\n",
       "std        220.006740\n",
       "min          0.000000\n",
       "25%         19.000000\n",
       "50%         84.000000\n",
       "75%        216.000000\n",
       "max       1580.000000\n",
       "Name: days_exposition, dtype: float64"
      ]
     },
     "execution_count": 36,
     "metadata": {},
     "output_type": "execute_result"
    }
   ],
   "source": [
    "new_data['days_exposition'].describe()"
   ]
  },
  {
   "cell_type": "markdown",
   "id": "240e31f5",
   "metadata": {},
   "source": [
    "<div class=\"alert alert-block alert-warning\">\n",
    "<b>🔁Комментарий ревьюера:</b>\n",
    "\n",
    "А тут нули забыла исключить((</div>"
   ]
  },
  {
   "cell_type": "markdown",
   "metadata": {},
   "source": [
    "Вывод: теперь все значения возрасли"
   ]
  },
  {
   "cell_type": "markdown",
   "id": "1813f725",
   "metadata": {},
   "source": [
    "<div class=\"alert alert-block alert-warning\">\n",
    "<b>🔁Комментарий ревьюера:</b> \n",
    "    \n",
    "А как же выбивающиеся значения в высоте потолков, площади, цене?\n",
    "</div>"
   ]
  },
  {
   "cell_type": "markdown",
   "metadata": {},
   "source": [
    "Какие факторы больше всего влияют на стоимость квартиры? Изучите, зависит ли цена от площади, числа комнат, удалённости от центра. Изучите зависимость цены от того, на каком этаже расположена квартира: первом, последнем или другом. Также изучите зависимость от даты размещения: дня недели, месяца и года."
   ]
  },
  {
   "cell_type": "code",
   "execution_count": 37,
   "metadata": {},
   "outputs": [
    {
     "data": {
      "text/plain": [
       "0.30239704158417774"
      ]
     },
     "execution_count": 37,
     "metadata": {},
     "output_type": "execute_result"
    },
    {
     "data": {
      "image/png": "[encoded data removed]",
      "text/plain": [
       "<Figure size 432x288 with 1 Axes>"
      ]
     },
     "metadata": {
      "needs_background": "light"
     },
     "output_type": "display_data"
    }
   ],
   "source": [
    "#зависит ли цена от площади\n",
    "new_total_area = data.pivot_table(index = 'total_area', values = 'last_price', aggfunc = ['mean', 'count', 'median'])\n",
    "new_total_area.columns = ['mean', 'count', 'median']\n",
    "new_total_area.plot(y = 'median', style = 'o')\n",
    "new_total_area.sort_values('median', ascending = False)\n",
    "data['total_area'].corr(data['price_one_metr'])"
   ]
  },
  {
   "cell_type": "markdown",
   "metadata": {},
   "source": [
    "Есть зависимость, чем больше площадь тем выше цена, что понятно и ребенку без анализа конечно ))"
   ]
  },
  {
   "cell_type": "markdown",
   "id": "1813f725",
   "metadata": {},
   "source": [
    "<div class=\"alert alert-block alert-danger\">\n",
    "<b>❌Комментарий ревьюера:</b> \n",
    "    \n",
    "Почему ты решила взять для анализа стоимость квадратного метра? Ведь в задании написано изучить зависимости цены квартиры.\n",
    "</div>"
   ]
  },
  {
   "cell_type": "markdown",
   "id": "c3c24969",
   "metadata": {},
   "source": [
    "<div class=\"alert alert-block alert-success\">\n",
    "<b>✅Комментарий ревьюера 2:</b> Отлично, исправлено!👍  </div>"
   ]
  },
  {
   "cell_type": "code",
   "execution_count": 38,
   "metadata": {},
   "outputs": [
    {
     "data": {
      "text/plain": [
       "0.05566894858321389"
      ]
     },
     "execution_count": 38,
     "metadata": {},
     "output_type": "execute_result"
    },
    {
     "data": {
      "image/png": "[encoded data removed]",
      "text/plain": [
       "<Figure size 432x288 with 1 Axes>"
      ]
     },
     "metadata": {
      "needs_background": "light"
     },
     "output_type": "display_data"
    }
   ],
   "source": [
    "#зависимость цены от числа комнат.\n",
    "new_rooms = data.pivot_table(index = 'rooms', values = 'last_price', aggfunc = ['mean', 'count', 'median'])\n",
    "new_rooms.columns = ['mean', 'count', 'median']\n",
    "new_rooms.query('count > 50').plot(y = 'median')\n",
    "new_rooms.query('count > 50').sort_values('median', ascending = False)\n",
    "data['rooms'].corr(data['price_one_metr'])"
   ]
  },
  {
   "cell_type": "markdown",
   "metadata": {},
   "source": [
    "Самый дешевый кв метр у трехкомнатных квартир, но удивительно что он так сильно повышается у 4,5 и 7 комнатных, наверное элитка"
   ]
  },
  {
   "cell_type": "code",
   "execution_count": 39,
   "metadata": {},
   "outputs": [
    {
     "data": {
      "text/html": [
       "<div>\n",
       "<style scoped>\n",
       "    .dataframe tbody tr th:only-of-type {\n",
       "        vertical-align: middle;\n",
       "    }\n",
       "\n",
       "    .dataframe tbody tr th {\n",
       "        vertical-align: top;\n",
       "    }\n",
       "\n",
       "    .dataframe thead th {\n",
       "        text-align: right;\n",
       "    }\n",
       "</style>\n",
       "<table border=\"1\" class=\"dataframe\">\n",
       "  <thead>\n",
       "    <tr style=\"text-align: right;\">\n",
       "      <th></th>\n",
       "      <th>mean</th>\n",
       "      <th>count</th>\n",
       "      <th>median</th>\n",
       "    </tr>\n",
       "    <tr>\n",
       "      <th>floor_category</th>\n",
       "      <th></th>\n",
       "      <th></th>\n",
       "      <th></th>\n",
       "    </tr>\n",
       "  </thead>\n",
       "  <tbody>\n",
       "    <tr>\n",
       "      <th>первый</th>\n",
       "      <td>4.805699e+06</td>\n",
       "      <td>2914</td>\n",
       "      <td>3900000.0</td>\n",
       "    </tr>\n",
       "    <tr>\n",
       "      <th>последний</th>\n",
       "      <td>7.361025e+06</td>\n",
       "      <td>3336</td>\n",
       "      <td>4300000.0</td>\n",
       "    </tr>\n",
       "  </tbody>\n",
       "</table>\n",
       "</div>"
      ],
      "text/plain": [
       "                        mean  count     median\n",
       "floor_category                                \n",
       "первый          4.805699e+06   2914  3900000.0\n",
       "последний       7.361025e+06   3336  4300000.0"
      ]
     },
     "execution_count": 39,
     "metadata": {},
     "output_type": "execute_result"
    },
    {
     "data": {
      "image/png": "[encoded data removed]",
      "text/plain": [
       "<Figure size 432x288 with 1 Axes>"
      ]
     },
     "metadata": {
      "needs_background": "light"
     },
     "output_type": "display_data"
    }
   ],
   "source": [
    "#зависимость цены квадратного метра от этажа\n",
    "new_floor_category = data.query('floor_category != \"другой\"').pivot_table(index = 'floor_category', values = 'last_price', aggfunc = ['mean', 'count', 'median'])\n",
    "new_floor_category.columns = ['mean', 'count', 'median']\n",
    "new_floor_category.plot(y = 'median')\n",
    "new_floor_category"
   ]
  },
  {
   "cell_type": "markdown",
   "id": "1813f725",
   "metadata": {},
   "source": [
    "<div class=\"alert alert-block alert-danger\">\n",
    "<b>❌Комментарий ревьюера:</b> \n",
    "    \n",
    "На ячейке выше код падает, проверь пожалуйста, по какому датафрейму должен строиться график?\n",
    "</div>"
   ]
  },
  {
   "cell_type": "markdown",
   "id": "c3c24969",
   "metadata": {},
   "source": [
    "<div class=\"alert alert-block alert-success\">\n",
    "<b>✅Комментарий ревьюера 2:</b> Отлично, исправлено!👍  </div>"
   ]
  },
  {
   "cell_type": "markdown",
   "metadata": {},
   "source": [
    "Пентхаусы всегда стоят дорого, никто не хочет жить с мышками в подвале."
   ]
  },
  {
   "cell_type": "code",
   "execution_count": 40,
   "metadata": {},
   "outputs": [
    {
     "data": {
      "text/plain": [
       "-0.3173561309592831"
      ]
     },
     "execution_count": 40,
     "metadata": {},
     "output_type": "execute_result"
    },
    {
     "data": {
      "image/png": "[encoded data removed]",
      "text/plain": [
       "<Figure size 432x288 with 1 Axes>"
      ]
     },
     "metadata": {
      "needs_background": "light"
     },
     "output_type": "display_data"
    }
   ],
   "source": [
    "#зависимость цены  от удалённости от центра.\n",
    "data.plot(kind = 'scatter', y = 'last_price', x = 'cityCenters_nearest', alpha = 0.3)\n",
    "data['cityCenters_nearest'].corr(data['price_one_metr'])"
   ]
  },
  {
   "cell_type": "markdown",
   "metadata": {},
   "source": [
    "Чем ближе к центру, тем выше стоимость, невероятно конечно )"
   ]
  },
  {
   "cell_type": "markdown",
   "id": "3c320ba8",
   "metadata": {},
   "source": [
    "<div class=\"alert alert-block alert-success\">\n",
    "<b>✅Комментарий ревьюера:</b> Ну а вдруг было бы наоборот)) </div>"
   ]
  },
  {
   "cell_type": "code",
   "execution_count": 41,
   "metadata": {},
   "outputs": [
    {
     "data": {
      "text/html": [
       "<div>\n",
       "<style scoped>\n",
       "    .dataframe tbody tr th:only-of-type {\n",
       "        vertical-align: middle;\n",
       "    }\n",
       "\n",
       "    .dataframe tbody tr th {\n",
       "        vertical-align: top;\n",
       "    }\n",
       "\n",
       "    .dataframe thead th {\n",
       "        text-align: right;\n",
       "    }\n",
       "</style>\n",
       "<table border=\"1\" class=\"dataframe\">\n",
       "  <thead>\n",
       "    <tr style=\"text-align: right;\">\n",
       "      <th></th>\n",
       "      <th>mean</th>\n",
       "      <th>count</th>\n",
       "      <th>median</th>\n",
       "    </tr>\n",
       "    <tr>\n",
       "      <th>weekday_public</th>\n",
       "      <th></th>\n",
       "      <th></th>\n",
       "      <th></th>\n",
       "    </tr>\n",
       "  </thead>\n",
       "  <tbody>\n",
       "    <tr>\n",
       "      <th>1</th>\n",
       "      <td>6.390112e+06</td>\n",
       "      <td>4170</td>\n",
       "      <td>4725000.0</td>\n",
       "    </tr>\n",
       "    <tr>\n",
       "      <th>2</th>\n",
       "      <td>6.631800e+06</td>\n",
       "      <td>3956</td>\n",
       "      <td>4700000.0</td>\n",
       "    </tr>\n",
       "    <tr>\n",
       "      <th>0</th>\n",
       "      <td>6.519120e+06</td>\n",
       "      <td>3602</td>\n",
       "      <td>4650000.0</td>\n",
       "    </tr>\n",
       "    <tr>\n",
       "      <th>3</th>\n",
       "      <td>6.703666e+06</td>\n",
       "      <td>4285</td>\n",
       "      <td>4650000.0</td>\n",
       "    </tr>\n",
       "    <tr>\n",
       "      <th>4</th>\n",
       "      <td>6.367272e+06</td>\n",
       "      <td>3988</td>\n",
       "      <td>4577500.0</td>\n",
       "    </tr>\n",
       "    <tr>\n",
       "      <th>5</th>\n",
       "      <td>6.980411e+06</td>\n",
       "      <td>1922</td>\n",
       "      <td>4550000.0</td>\n",
       "    </tr>\n",
       "    <tr>\n",
       "      <th>6</th>\n",
       "      <td>6.238971e+06</td>\n",
       "      <td>1690</td>\n",
       "      <td>4540000.0</td>\n",
       "    </tr>\n",
       "  </tbody>\n",
       "</table>\n",
       "</div>"
      ],
      "text/plain": [
       "                        mean  count     median\n",
       "weekday_public                                \n",
       "1               6.390112e+06   4170  4725000.0\n",
       "2               6.631800e+06   3956  4700000.0\n",
       "0               6.519120e+06   3602  4650000.0\n",
       "3               6.703666e+06   4285  4650000.0\n",
       "4               6.367272e+06   3988  4577500.0\n",
       "5               6.980411e+06   1922  4550000.0\n",
       "6               6.238971e+06   1690  4540000.0"
      ]
     },
     "execution_count": 41,
     "metadata": {},
     "output_type": "execute_result"
    },
    {
     "data": {
      "image/png": "[encoded data removed]",
      "text/plain": [
       "<Figure size 432x288 with 1 Axes>"
      ]
     },
     "metadata": {
      "needs_background": "light"
     },
     "output_type": "display_data"
    }
   ],
   "source": [
    "#зависимость цены от даты размещения (день недели)\n",
    "new_weekday_exposition = data.pivot_table(index = 'weekday_public', values = 'last_price', aggfunc = ['mean', 'count', 'median'])\n",
    "new_weekday_exposition.columns = ['mean', 'count', 'median']\n",
    "new_weekday_exposition.plot(y = 'median')\n",
    "\n",
    "new_weekday_exposition.sort_values('median', ascending = False)\n",
    "\n"
   ]
  },
  {
   "cell_type": "code",
   "execution_count": 42,
   "metadata": {},
   "outputs": [
    {
     "data": {
      "text/html": [
       "<div>\n",
       "<style scoped>\n",
       "    .dataframe tbody tr th:only-of-type {\n",
       "        vertical-align: middle;\n",
       "    }\n",
       "\n",
       "    .dataframe tbody tr th {\n",
       "        vertical-align: top;\n",
       "    }\n",
       "\n",
       "    .dataframe thead th {\n",
       "        text-align: right;\n",
       "    }\n",
       "</style>\n",
       "<table border=\"1\" class=\"dataframe\">\n",
       "  <thead>\n",
       "    <tr style=\"text-align: right;\">\n",
       "      <th></th>\n",
       "      <th>mean</th>\n",
       "      <th>count</th>\n",
       "      <th>median</th>\n",
       "    </tr>\n",
       "    <tr>\n",
       "      <th>month_public</th>\n",
       "      <th></th>\n",
       "      <th></th>\n",
       "      <th></th>\n",
       "    </tr>\n",
       "  </thead>\n",
       "  <tbody>\n",
       "    <tr>\n",
       "      <th>4</th>\n",
       "      <td>6.737882e+06</td>\n",
       "      <td>2362</td>\n",
       "      <td>4800000.0</td>\n",
       "    </tr>\n",
       "    <tr>\n",
       "      <th>9</th>\n",
       "      <td>6.835426e+06</td>\n",
       "      <td>1974</td>\n",
       "      <td>4700000.0</td>\n",
       "    </tr>\n",
       "    <tr>\n",
       "      <th>11</th>\n",
       "      <td>6.449008e+06</td>\n",
       "      <td>2364</td>\n",
       "      <td>4700000.0</td>\n",
       "    </tr>\n",
       "    <tr>\n",
       "      <th>12</th>\n",
       "      <td>7.011731e+06</td>\n",
       "      <td>1641</td>\n",
       "      <td>4700000.0</td>\n",
       "    </tr>\n",
       "    <tr>\n",
       "      <th>2</th>\n",
       "      <td>6.467983e+06</td>\n",
       "      <td>2637</td>\n",
       "      <td>4650000.0</td>\n",
       "    </tr>\n",
       "    <tr>\n",
       "      <th>3</th>\n",
       "      <td>6.356274e+06</td>\n",
       "      <td>2580</td>\n",
       "      <td>4650000.0</td>\n",
       "    </tr>\n",
       "    <tr>\n",
       "      <th>7</th>\n",
       "      <td>6.648568e+06</td>\n",
       "      <td>1690</td>\n",
       "      <td>4650000.0</td>\n",
       "    </tr>\n",
       "    <tr>\n",
       "      <th>1</th>\n",
       "      <td>6.665449e+06</td>\n",
       "      <td>1496</td>\n",
       "      <td>4600000.0</td>\n",
       "    </tr>\n",
       "    <tr>\n",
       "      <th>8</th>\n",
       "      <td>6.343181e+06</td>\n",
       "      <td>1741</td>\n",
       "      <td>4570000.0</td>\n",
       "    </tr>\n",
       "    <tr>\n",
       "      <th>10</th>\n",
       "      <td>6.236619e+06</td>\n",
       "      <td>2111</td>\n",
       "      <td>4570000.0</td>\n",
       "    </tr>\n",
       "    <tr>\n",
       "      <th>5</th>\n",
       "      <td>6.596837e+06</td>\n",
       "      <td>1265</td>\n",
       "      <td>4500000.0</td>\n",
       "    </tr>\n",
       "    <tr>\n",
       "      <th>6</th>\n",
       "      <td>6.315977e+06</td>\n",
       "      <td>1752</td>\n",
       "      <td>4400000.0</td>\n",
       "    </tr>\n",
       "  </tbody>\n",
       "</table>\n",
       "</div>"
      ],
      "text/plain": [
       "                      mean  count     median\n",
       "month_public                                \n",
       "4             6.737882e+06   2362  4800000.0\n",
       "9             6.835426e+06   1974  4700000.0\n",
       "11            6.449008e+06   2364  4700000.0\n",
       "12            7.011731e+06   1641  4700000.0\n",
       "2             6.467983e+06   2637  4650000.0\n",
       "3             6.356274e+06   2580  4650000.0\n",
       "7             6.648568e+06   1690  4650000.0\n",
       "1             6.665449e+06   1496  4600000.0\n",
       "8             6.343181e+06   1741  4570000.0\n",
       "10            6.236619e+06   2111  4570000.0\n",
       "5             6.596837e+06   1265  4500000.0\n",
       "6             6.315977e+06   1752  4400000.0"
      ]
     },
     "execution_count": 42,
     "metadata": {},
     "output_type": "execute_result"
    },
    {
     "data": {
      "image/png": "[encoded data removed]",
      "text/plain": [
       "<Figure size 432x288 with 1 Axes>"
      ]
     },
     "metadata": {
      "needs_background": "light"
     },
     "output_type": "display_data"
    }
   ],
   "source": [
    "#зависимость цены кв метра от даты размещения (месяц)\n",
    "new_month_exposition = data.pivot_table(index = 'month_public', values = 'last_price', aggfunc = ['mean', 'count', 'median'])\n",
    "new_month_exposition.columns = ['mean', 'count', 'median']\n",
    "new_month_exposition.plot(y = 'median')\n",
    "new_month_exposition.sort_values('median', ascending = False)"
   ]
  },
  {
   "cell_type": "markdown",
   "metadata": {},
   "source": [
    "Cамая высокая стоимость в апреле, августе и ноябре, самая низкая стоимость в мае и июне (сезонность)"
   ]
  },
  {
   "cell_type": "code",
   "execution_count": 43,
   "metadata": {},
   "outputs": [
    {
     "data": {
      "text/html": [
       "<div>\n",
       "<style scoped>\n",
       "    .dataframe tbody tr th:only-of-type {\n",
       "        vertical-align: middle;\n",
       "    }\n",
       "\n",
       "    .dataframe tbody tr th {\n",
       "        vertical-align: top;\n",
       "    }\n",
       "\n",
       "    .dataframe thead th {\n",
       "        text-align: right;\n",
       "    }\n",
       "</style>\n",
       "<table border=\"1\" class=\"dataframe\">\n",
       "  <thead>\n",
       "    <tr style=\"text-align: right;\">\n",
       "      <th></th>\n",
       "      <th>mean</th>\n",
       "      <th>count</th>\n",
       "      <th>median</th>\n",
       "    </tr>\n",
       "    <tr>\n",
       "      <th>year_public</th>\n",
       "      <th></th>\n",
       "      <th></th>\n",
       "      <th></th>\n",
       "    </tr>\n",
       "  </thead>\n",
       "  <tbody>\n",
       "    <tr>\n",
       "      <th>2014</th>\n",
       "      <td>1.208714e+07</td>\n",
       "      <td>137</td>\n",
       "      <td>7700000.0</td>\n",
       "    </tr>\n",
       "    <tr>\n",
       "      <th>2015</th>\n",
       "      <td>8.575612e+06</td>\n",
       "      <td>1184</td>\n",
       "      <td>5312500.0</td>\n",
       "    </tr>\n",
       "    <tr>\n",
       "      <th>2019</th>\n",
       "      <td>6.779324e+06</td>\n",
       "      <td>2871</td>\n",
       "      <td>5050000.0</td>\n",
       "    </tr>\n",
       "    <tr>\n",
       "      <th>2016</th>\n",
       "      <td>6.827605e+06</td>\n",
       "      <td>2763</td>\n",
       "      <td>4550000.0</td>\n",
       "    </tr>\n",
       "    <tr>\n",
       "      <th>2018</th>\n",
       "      <td>5.952940e+06</td>\n",
       "      <td>8492</td>\n",
       "      <td>4550000.0</td>\n",
       "    </tr>\n",
       "    <tr>\n",
       "      <th>2017</th>\n",
       "      <td>6.582439e+06</td>\n",
       "      <td>8166</td>\n",
       "      <td>4500000.0</td>\n",
       "    </tr>\n",
       "  </tbody>\n",
       "</table>\n",
       "</div>"
      ],
      "text/plain": [
       "                     mean  count     median\n",
       "year_public                                \n",
       "2014         1.208714e+07    137  7700000.0\n",
       "2015         8.575612e+06   1184  5312500.0\n",
       "2019         6.779324e+06   2871  5050000.0\n",
       "2016         6.827605e+06   2763  4550000.0\n",
       "2018         5.952940e+06   8492  4550000.0\n",
       "2017         6.582439e+06   8166  4500000.0"
      ]
     },
     "execution_count": 43,
     "metadata": {},
     "output_type": "execute_result"
    },
    {
     "data": {
      "image/png": "[encoded data removed]",
      "text/plain": [
       "<Figure size 432x288 with 1 Axes>"
      ]
     },
     "metadata": {
      "needs_background": "light"
     },
     "output_type": "display_data"
    }
   ],
   "source": [
    "#зависимость цены от года размещения\n",
    "new_year_exposition = data.pivot_table(index = 'year_public', values = 'last_price', aggfunc = ['mean', 'count', 'median'])\n",
    "new_year_exposition.columns = ['mean', 'count', 'median']\n",
    "new_year_exposition.plot(y = 'median')\n",
    "new_year_exposition.sort_values('median', ascending = False)"
   ]
  },
  {
   "cell_type": "markdown",
   "metadata": {},
   "source": [
    "Да уж, вот это интересно как просел рынок в 2014-2017 годах. Жаль что я покупала свою кв в 2019м"
   ]
  },
  {
   "cell_type": "markdown",
   "metadata": {},
   "source": [
    "Выберите 10 населённых пунктов с наибольшим числом объявлений. Посчитайте среднюю цену квадратного метра в этих населённых пунктах. Выделите населённые пункты с самой высокой и низкой стоимостью жилья. Эти данные можно найти по имени в столбце locality_name."
   ]
  },
  {
   "cell_type": "code",
   "execution_count": 44,
   "metadata": {},
   "outputs": [
    {
     "data": {
      "text/html": [
       "<div>\n",
       "<style scoped>\n",
       "    .dataframe tbody tr th:only-of-type {\n",
       "        vertical-align: middle;\n",
       "    }\n",
       "\n",
       "    .dataframe tbody tr th {\n",
       "        vertical-align: top;\n",
       "    }\n",
       "\n",
       "    .dataframe thead th {\n",
       "        text-align: right;\n",
       "    }\n",
       "</style>\n",
       "<table border=\"1\" class=\"dataframe\">\n",
       "  <thead>\n",
       "    <tr style=\"text-align: right;\">\n",
       "      <th></th>\n",
       "      <th>count</th>\n",
       "      <th>mean</th>\n",
       "    </tr>\n",
       "    <tr>\n",
       "      <th>locality_name</th>\n",
       "      <th></th>\n",
       "      <th></th>\n",
       "    </tr>\n",
       "  </thead>\n",
       "  <tbody>\n",
       "    <tr>\n",
       "      <th>Санкт-Петербург</th>\n",
       "      <td>15651</td>\n",
       "      <td>114868.433902</td>\n",
       "    </tr>\n",
       "    <tr>\n",
       "      <th>посёлок Мурино</th>\n",
       "      <td>520</td>\n",
       "      <td>85672.803846</td>\n",
       "    </tr>\n",
       "    <tr>\n",
       "      <th>посёлок Шушары</th>\n",
       "      <td>439</td>\n",
       "      <td>78550.883827</td>\n",
       "    </tr>\n",
       "    <tr>\n",
       "      <th>Всеволожск</th>\n",
       "      <td>398</td>\n",
       "      <td>68654.007538</td>\n",
       "    </tr>\n",
       "    <tr>\n",
       "      <th>Пушкин</th>\n",
       "      <td>369</td>\n",
       "      <td>103125.373984</td>\n",
       "    </tr>\n",
       "    <tr>\n",
       "      <th>Колпино</th>\n",
       "      <td>338</td>\n",
       "      <td>75424.150888</td>\n",
       "    </tr>\n",
       "    <tr>\n",
       "      <th>посёлок Парголово</th>\n",
       "      <td>327</td>\n",
       "      <td>90175.489297</td>\n",
       "    </tr>\n",
       "    <tr>\n",
       "      <th>Гатчина</th>\n",
       "      <td>307</td>\n",
       "      <td>68745.693811</td>\n",
       "    </tr>\n",
       "    <tr>\n",
       "      <th>деревня Кудрово</th>\n",
       "      <td>299</td>\n",
       "      <td>92473.086957</td>\n",
       "    </tr>\n",
       "    <tr>\n",
       "      <th>Выборг</th>\n",
       "      <td>237</td>\n",
       "      <td>58141.489451</td>\n",
       "    </tr>\n",
       "  </tbody>\n",
       "</table>\n",
       "</div>"
      ],
      "text/plain": [
       "                   count           mean\n",
       "locality_name                          \n",
       "Санкт-Петербург    15651  114868.433902\n",
       "посёлок Мурино       520   85672.803846\n",
       "посёлок Шушары       439   78550.883827\n",
       "Всеволожск           398   68654.007538\n",
       "Пушкин               369  103125.373984\n",
       "Колпино              338   75424.150888\n",
       "посёлок Парголово    327   90175.489297\n",
       "Гатчина              307   68745.693811\n",
       "деревня Кудрово      299   92473.086957\n",
       "Выборг               237   58141.489451"
      ]
     },
     "execution_count": 44,
     "metadata": {},
     "output_type": "execute_result"
    }
   ],
   "source": [
    "local_city = data.pivot_table(index = 'locality_name', values = 'price_one_metr', aggfunc=['count', 'mean'])\n",
    "local_city.columns = ['count', 'mean']\n",
    "local_city = local_city.sort_values('count', ascending = False).head(10)\n",
    "local_city"
   ]
  },
  {
   "cell_type": "code",
   "execution_count": 45,
   "metadata": {},
   "outputs": [
    {
     "data": {
      "text/html": [
       "<div>\n",
       "<style scoped>\n",
       "    .dataframe tbody tr th:only-of-type {\n",
       "        vertical-align: middle;\n",
       "    }\n",
       "\n",
       "    .dataframe tbody tr th {\n",
       "        vertical-align: top;\n",
       "    }\n",
       "\n",
       "    .dataframe thead th {\n",
       "        text-align: right;\n",
       "    }\n",
       "</style>\n",
       "<table border=\"1\" class=\"dataframe\">\n",
       "  <thead>\n",
       "    <tr style=\"text-align: right;\">\n",
       "      <th></th>\n",
       "      <th>count</th>\n",
       "      <th>mean</th>\n",
       "    </tr>\n",
       "    <tr>\n",
       "      <th>locality_name</th>\n",
       "      <th></th>\n",
       "      <th></th>\n",
       "    </tr>\n",
       "  </thead>\n",
       "  <tbody>\n",
       "    <tr>\n",
       "      <th>Санкт-Петербург</th>\n",
       "      <td>15651</td>\n",
       "      <td>114868.433902</td>\n",
       "    </tr>\n",
       "  </tbody>\n",
       "</table>\n",
       "</div>"
      ],
      "text/plain": [
       "                 count           mean\n",
       "locality_name                        \n",
       "Санкт-Петербург  15651  114868.433902"
      ]
     },
     "execution_count": 45,
     "metadata": {},
     "output_type": "execute_result"
    }
   ],
   "source": [
    "#самая высокая стоимость\n",
    "local_city[local_city['mean']==local_city['mean'].max()]"
   ]
  },
  {
   "cell_type": "code",
   "execution_count": 46,
   "metadata": {},
   "outputs": [
    {
     "data": {
      "text/html": [
       "<div>\n",
       "<style scoped>\n",
       "    .dataframe tbody tr th:only-of-type {\n",
       "        vertical-align: middle;\n",
       "    }\n",
       "\n",
       "    .dataframe tbody tr th {\n",
       "        vertical-align: top;\n",
       "    }\n",
       "\n",
       "    .dataframe thead th {\n",
       "        text-align: right;\n",
       "    }\n",
       "</style>\n",
       "<table border=\"1\" class=\"dataframe\">\n",
       "  <thead>\n",
       "    <tr style=\"text-align: right;\">\n",
       "      <th></th>\n",
       "      <th>count</th>\n",
       "      <th>mean</th>\n",
       "    </tr>\n",
       "    <tr>\n",
       "      <th>locality_name</th>\n",
       "      <th></th>\n",
       "      <th></th>\n",
       "    </tr>\n",
       "  </thead>\n",
       "  <tbody>\n",
       "    <tr>\n",
       "      <th>Выборг</th>\n",
       "      <td>237</td>\n",
       "      <td>58141.489451</td>\n",
       "    </tr>\n",
       "  </tbody>\n",
       "</table>\n",
       "</div>"
      ],
      "text/plain": [
       "               count          mean\n",
       "locality_name                     \n",
       "Выборг           237  58141.489451"
      ]
     },
     "execution_count": 46,
     "metadata": {},
     "output_type": "execute_result"
    }
   ],
   "source": [
    "#самая низкая стоимость\n",
    "local_city[local_city['mean']==local_city['mean'].min()]"
   ]
  },
  {
   "cell_type": "markdown",
   "metadata": {},
   "source": [
    "Самая высокая стоимость из 10 населённых пунктов в Санкт-Петербурге со средней ценой 115 тыс за кв метр,  самая низкая - в Выборге (58к за кв метр)."
   ]
  },
  {
   "cell_type": "markdown",
   "metadata": {},
   "source": [
    "Изучите предложения квартир: для каждой квартиры есть информация о расстоянии до центра. Выделите квартиры в Санкт-Петербурге (locality_name). Ваша задача — выяснить, какая область входит в центр. Создайте столбец с расстоянием до центра в километрах: округлите до целых значений. После этого посчитайте среднюю цену для каждого километра. Постройте график: он должен показывать, как цена зависит от удалённости от центра. Определите границу, где график сильно меняется, — это и будет центральная зона."
   ]
  },
  {
   "cell_type": "code",
   "execution_count": 47,
   "metadata": {},
   "outputs": [
    {
     "data": {
      "text/html": [
       "<div>\n",
       "<style scoped>\n",
       "    .dataframe tbody tr th:only-of-type {\n",
       "        vertical-align: middle;\n",
       "    }\n",
       "\n",
       "    .dataframe tbody tr th {\n",
       "        vertical-align: top;\n",
       "    }\n",
       "\n",
       "    .dataframe thead th {\n",
       "        text-align: right;\n",
       "    }\n",
       "</style>\n",
       "<table border=\"1\" class=\"dataframe\">\n",
       "  <thead>\n",
       "    <tr style=\"text-align: right;\">\n",
       "      <th></th>\n",
       "      <th>price_one_metr</th>\n",
       "    </tr>\n",
       "    <tr>\n",
       "      <th>downrown_km</th>\n",
       "      <th></th>\n",
       "    </tr>\n",
       "  </thead>\n",
       "  <tbody>\n",
       "    <tr>\n",
       "      <th>0</th>\n",
       "      <td>187323.674419</td>\n",
       "    </tr>\n",
       "    <tr>\n",
       "      <th>1</th>\n",
       "      <td>166603.312500</td>\n",
       "    </tr>\n",
       "    <tr>\n",
       "      <th>2</th>\n",
       "      <td>146662.420195</td>\n",
       "    </tr>\n",
       "    <tr>\n",
       "      <th>3</th>\n",
       "      <td>129526.480916</td>\n",
       "    </tr>\n",
       "    <tr>\n",
       "      <th>4</th>\n",
       "      <td>137412.971207</td>\n",
       "    </tr>\n",
       "    <tr>\n",
       "      <th>5</th>\n",
       "      <td>146977.869792</td>\n",
       "    </tr>\n",
       "    <tr>\n",
       "      <th>6</th>\n",
       "      <td>152277.455319</td>\n",
       "    </tr>\n",
       "    <tr>\n",
       "      <th>7</th>\n",
       "      <td>141399.287469</td>\n",
       "    </tr>\n",
       "    <tr>\n",
       "      <th>8</th>\n",
       "      <td>120538.701649</td>\n",
       "    </tr>\n",
       "    <tr>\n",
       "      <th>9</th>\n",
       "      <td>110027.380814</td>\n",
       "    </tr>\n",
       "    <tr>\n",
       "      <th>10</th>\n",
       "      <td>111489.727974</td>\n",
       "    </tr>\n",
       "    <tr>\n",
       "      <th>11</th>\n",
       "      <td>106617.914712</td>\n",
       "    </tr>\n",
       "    <tr>\n",
       "      <th>12</th>\n",
       "      <td>108283.601588</td>\n",
       "    </tr>\n",
       "    <tr>\n",
       "      <th>13</th>\n",
       "      <td>107140.412903</td>\n",
       "    </tr>\n",
       "    <tr>\n",
       "      <th>14</th>\n",
       "      <td>104979.087101</td>\n",
       "    </tr>\n",
       "    <tr>\n",
       "      <th>15</th>\n",
       "      <td>101859.372449</td>\n",
       "    </tr>\n",
       "    <tr>\n",
       "      <th>16</th>\n",
       "      <td>100082.875113</td>\n",
       "    </tr>\n",
       "    <tr>\n",
       "      <th>17</th>\n",
       "      <td>94665.973129</td>\n",
       "    </tr>\n",
       "    <tr>\n",
       "      <th>18</th>\n",
       "      <td>94814.537572</td>\n",
       "    </tr>\n",
       "    <tr>\n",
       "      <th>19</th>\n",
       "      <td>95433.951220</td>\n",
       "    </tr>\n",
       "    <tr>\n",
       "      <th>20</th>\n",
       "      <td>107045.773810</td>\n",
       "    </tr>\n",
       "    <tr>\n",
       "      <th>21</th>\n",
       "      <td>91492.220513</td>\n",
       "    </tr>\n",
       "    <tr>\n",
       "      <th>22</th>\n",
       "      <td>88714.237410</td>\n",
       "    </tr>\n",
       "    <tr>\n",
       "      <th>23</th>\n",
       "      <td>92720.233333</td>\n",
       "    </tr>\n",
       "    <tr>\n",
       "      <th>24</th>\n",
       "      <td>82439.909091</td>\n",
       "    </tr>\n",
       "    <tr>\n",
       "      <th>25</th>\n",
       "      <td>90436.553846</td>\n",
       "    </tr>\n",
       "    <tr>\n",
       "      <th>26</th>\n",
       "      <td>75171.333333</td>\n",
       "    </tr>\n",
       "    <tr>\n",
       "      <th>27</th>\n",
       "      <td>132115.000000</td>\n",
       "    </tr>\n",
       "    <tr>\n",
       "      <th>28</th>\n",
       "      <td>81840.200000</td>\n",
       "    </tr>\n",
       "    <tr>\n",
       "      <th>29</th>\n",
       "      <td>62481.666667</td>\n",
       "    </tr>\n",
       "  </tbody>\n",
       "</table>\n",
       "</div>"
      ],
      "text/plain": [
       "             price_one_metr\n",
       "downrown_km                \n",
       "0             187323.674419\n",
       "1             166603.312500\n",
       "2             146662.420195\n",
       "3             129526.480916\n",
       "4             137412.971207\n",
       "5             146977.869792\n",
       "6             152277.455319\n",
       "7             141399.287469\n",
       "8             120538.701649\n",
       "9             110027.380814\n",
       "10            111489.727974\n",
       "11            106617.914712\n",
       "12            108283.601588\n",
       "13            107140.412903\n",
       "14            104979.087101\n",
       "15            101859.372449\n",
       "16            100082.875113\n",
       "17             94665.973129\n",
       "18             94814.537572\n",
       "19             95433.951220\n",
       "20            107045.773810\n",
       "21             91492.220513\n",
       "22             88714.237410\n",
       "23             92720.233333\n",
       "24             82439.909091\n",
       "25             90436.553846\n",
       "26             75171.333333\n",
       "27            132115.000000\n",
       "28             81840.200000\n",
       "29             62481.666667"
      ]
     },
     "execution_count": 47,
     "metadata": {},
     "output_type": "execute_result"
    }
   ],
   "source": [
    "data['downrown_km'] = data['cityCenters_nearest']/1000\n",
    "data['downrown_km'] = data['downrown_km'].fillna(999999)\n",
    "data['downrown_km'] = data['downrown_km'].astype('int')\n",
    "table_downrown_km = data.query('locality_name == \"Санкт-Петербург\" and downrown_km !=999999').pivot_table(index = 'downrown_km', values = 'price_one_metr', aggfunc = 'mean')\n",
    "table_downrown_km"
   ]
  },
  {
   "cell_type": "code",
   "execution_count": 48,
   "metadata": {},
   "outputs": [
    {
     "data": {
      "text/plain": [
       "<AxesSubplot:xlabel='downrown_km'>"
      ]
     },
     "execution_count": 48,
     "metadata": {},
     "output_type": "execute_result"
    },
    {
     "data": {
      "image/png": "[encoded data removed]",
      "text/plain": [
       "<Figure size 432x288 with 1 Axes>"
      ]
     },
     "metadata": {
      "needs_background": "light"
     },
     "output_type": "display_data"
    }
   ],
   "source": [
    "table_downrown_km.plot()"
   ]
  },
  {
   "cell_type": "markdown",
   "metadata": {},
   "source": [
    "Ничего непонятно, но очень инетерсно... Судя по графику, центр - в пределах 10 км удаленности цена высокая. Потом падает. Потом видимо загородная элитная недвижка опять дорогая, 27 км от центра. Хотя график больше всего меняется от 0 до 3 км. В общем, непонятно, возьму 8 км"
   ]
  },
  {
   "cell_type": "markdown",
   "id": "3c320ba8",
   "metadata": {},
   "source": [
    "<div class=\"alert alert-block alert-success\">\n",
    "<b>✅Комментарий ревьюера:</b> Ты верно определила центральную зону в пределах 10км и радиус в 8км нам отлично подходит для исследования! </div>"
   ]
  },
  {
   "cell_type": "markdown",
   "metadata": {},
   "source": [
    "Выделите сегмент квартир в центре. Проанализируйте эту территорию и изучите следующие параметры: площадь, цена, число комнат, высота потолков. Также выделите факторы, которые влияют на стоимость квартиры (число комнат, этаж, удалённость от центра, дата размещения объявления). Сделайте выводы. Отличаются ли они от общих выводов по всей базе?"
   ]
  },
  {
   "cell_type": "code",
   "execution_count": 49,
   "metadata": {},
   "outputs": [
    {
     "data": {
      "text/plain": [
       "count    4372.000000\n",
       "mean       88.492855\n",
       "std        57.903388\n",
       "min        12.000000\n",
       "25%        53.075000\n",
       "50%        75.000000\n",
       "75%       104.425000\n",
       "max       900.000000\n",
       "Name: total_area, dtype: float64"
      ]
     },
     "execution_count": 49,
     "metadata": {},
     "output_type": "execute_result"
    }
   ],
   "source": [
    "#выделю квартиры в центре с радиусом 8 км\n",
    "downtown_spb = data.query('downrown_km <= 8 and locality_name == \"Санкт-Петербург\"')\n",
    "#downtown_spb\n",
    "downtown_spb['total_area'].describe()"
   ]
  },
  {
   "cell_type": "code",
   "execution_count": 50,
   "metadata": {},
   "outputs": [
    {
     "data": {
      "text/plain": [
       "0.020782213663027203"
      ]
     },
     "execution_count": 50,
     "metadata": {},
     "output_type": "execute_result"
    },
    {
     "data": {
      "image/png": "[encoded data removed]",
      "text/plain": [
       "<Figure size 432x288 with 1 Axes>"
      ]
     },
     "metadata": {
      "needs_background": "light"
     },
     "output_type": "display_data"
    }
   ],
   "source": [
    "#Влияние числа кмнат на стоимость:\n",
    "downtown_spb_rooms = downtown_spb.pivot_table(index = 'rooms', values = 'price_one_metr', aggfunc = ['mean', 'count', 'median'])\n",
    "downtown_spb_rooms.columns = ['mean', 'count', 'median']\n",
    "downtown_spb_rooms.query('count > 50').plot(y = 'median')\n",
    "downtown_spb_rooms.query('count > 50').sort_values('median', ascending = False)\n",
    "downtown_spb['rooms'].corr(downtown_spb['price_one_metr'])"
   ]
  },
  {
   "cell_type": "markdown",
   "metadata": {},
   "source": [
    "В центре Питера чем меньше комнат, тем дешевле кв метр, а по общему графику была другая ккартина, там стоимость росла у 4, 5 и 6 комнатных. Странненько конечно"
   ]
  },
  {
   "cell_type": "code",
   "execution_count": 51,
   "metadata": {},
   "outputs": [
    {
     "data": {
      "text/html": [
       "<div>\n",
       "<style scoped>\n",
       "    .dataframe tbody tr th:only-of-type {\n",
       "        vertical-align: middle;\n",
       "    }\n",
       "\n",
       "    .dataframe tbody tr th {\n",
       "        vertical-align: top;\n",
       "    }\n",
       "\n",
       "    .dataframe thead th {\n",
       "        text-align: right;\n",
       "    }\n",
       "</style>\n",
       "<table border=\"1\" class=\"dataframe\">\n",
       "  <thead>\n",
       "    <tr style=\"text-align: right;\">\n",
       "      <th></th>\n",
       "      <th>mean</th>\n",
       "      <th>count</th>\n",
       "      <th>median</th>\n",
       "    </tr>\n",
       "    <tr>\n",
       "      <th>floor_category</th>\n",
       "      <th></th>\n",
       "      <th></th>\n",
       "      <th></th>\n",
       "    </tr>\n",
       "  </thead>\n",
       "  <tbody>\n",
       "    <tr>\n",
       "      <th>первый</th>\n",
       "      <td>120247.641631</td>\n",
       "      <td>466</td>\n",
       "      <td>106670.0</td>\n",
       "    </tr>\n",
       "    <tr>\n",
       "      <th>последний</th>\n",
       "      <td>141931.068120</td>\n",
       "      <td>734</td>\n",
       "      <td>115764.5</td>\n",
       "    </tr>\n",
       "  </tbody>\n",
       "</table>\n",
       "</div>"
      ],
      "text/plain": [
       "                         mean  count    median\n",
       "floor_category                                \n",
       "первый          120247.641631    466  106670.0\n",
       "последний       141931.068120    734  115764.5"
      ]
     },
     "execution_count": 51,
     "metadata": {},
     "output_type": "execute_result"
    }
   ],
   "source": [
    "#Влияние этажность на стоимость\n",
    "downtown_spb_floor = downtown_spb.query('floor_category != \"другой\"').pivot_table(index = 'floor_category', values = 'price_one_metr', aggfunc = ['mean', 'count', 'median'])\n",
    "downtown_spb_floor.columns = ['mean', 'count', 'median']\n",
    "downtown_spb_floor"
   ]
  },
  {
   "cell_type": "code",
   "execution_count": 52,
   "metadata": {},
   "outputs": [
    {
     "data": {
      "text/plain": [
       "<AxesSubplot:xlabel='floor_category'>"
      ]
     },
     "execution_count": 52,
     "metadata": {},
     "output_type": "execute_result"
    },
    {
     "data": {
      "image/png": "[encoded data removed]",
      "text/plain": [
       "<Figure size 432x288 with 1 Axes>"
      ]
     },
     "metadata": {
      "needs_background": "light"
     },
     "output_type": "display_data"
    }
   ],
   "source": [
    "downtown_spb_floor.plot(y = 'median')"
   ]
  },
  {
   "cell_type": "markdown",
   "metadata": {},
   "source": [
    "Чем выше этаж тем дороже. Ну, так в общем и было."
   ]
  },
  {
   "cell_type": "code",
   "execution_count": 53,
   "metadata": {},
   "outputs": [
    {
     "data": {
      "text/plain": [
       "<AxesSubplot:xlabel='cityCenters_nearest', ylabel='price_one_metr'>"
      ]
     },
     "execution_count": 53,
     "metadata": {},
     "output_type": "execute_result"
    },
    {
     "data": {
      "image/png": "[encoded data removed]",
      "text/plain": [
       "<Figure size 432x288 with 1 Axes>"
      ]
     },
     "metadata": {
      "needs_background": "light"
     },
     "output_type": "display_data"
    }
   ],
   "source": [
    "#Влияние стоимость от удаленности от центра\n",
    "downtown_spb.plot(kind = 'scatter', y = 'price_one_metr', x = 'cityCenters_nearest', alpha = 0.3)"
   ]
  },
  {
   "cell_type": "markdown",
   "metadata": {},
   "source": [
    "Удаленность от центра в центре - такое себе исследование, нет никакой зависимости."
   ]
  },
  {
   "cell_type": "markdown",
   "metadata": {},
   "source": [
    " Дата размещения объявления:"
   ]
  },
  {
   "cell_type": "code",
   "execution_count": 54,
   "metadata": {},
   "outputs": [
    {
     "data": {
      "text/html": [
       "<div>\n",
       "<style scoped>\n",
       "    .dataframe tbody tr th:only-of-type {\n",
       "        vertical-align: middle;\n",
       "    }\n",
       "\n",
       "    .dataframe tbody tr th {\n",
       "        vertical-align: top;\n",
       "    }\n",
       "\n",
       "    .dataframe thead th {\n",
       "        text-align: right;\n",
       "    }\n",
       "</style>\n",
       "<table border=\"1\" class=\"dataframe\">\n",
       "  <thead>\n",
       "    <tr style=\"text-align: right;\">\n",
       "      <th></th>\n",
       "      <th>mean</th>\n",
       "      <th>count</th>\n",
       "      <th>median</th>\n",
       "    </tr>\n",
       "    <tr>\n",
       "      <th>weekday_public</th>\n",
       "      <th></th>\n",
       "      <th></th>\n",
       "      <th></th>\n",
       "    </tr>\n",
       "  </thead>\n",
       "  <tbody>\n",
       "    <tr>\n",
       "      <th>6</th>\n",
       "      <td>141502.653696</td>\n",
       "      <td>257</td>\n",
       "      <td>125482.0</td>\n",
       "    </tr>\n",
       "    <tr>\n",
       "      <th>5</th>\n",
       "      <td>149421.301538</td>\n",
       "      <td>325</td>\n",
       "      <td>124742.0</td>\n",
       "    </tr>\n",
       "    <tr>\n",
       "      <th>0</th>\n",
       "      <td>141433.592145</td>\n",
       "      <td>662</td>\n",
       "      <td>123329.5</td>\n",
       "    </tr>\n",
       "    <tr>\n",
       "      <th>2</th>\n",
       "      <td>139560.625668</td>\n",
       "      <td>748</td>\n",
       "      <td>122896.0</td>\n",
       "    </tr>\n",
       "    <tr>\n",
       "      <th>4</th>\n",
       "      <td>138994.263587</td>\n",
       "      <td>736</td>\n",
       "      <td>122300.5</td>\n",
       "    </tr>\n",
       "    <tr>\n",
       "      <th>3</th>\n",
       "      <td>140222.921875</td>\n",
       "      <td>896</td>\n",
       "      <td>121339.5</td>\n",
       "    </tr>\n",
       "    <tr>\n",
       "      <th>1</th>\n",
       "      <td>139820.866310</td>\n",
       "      <td>748</td>\n",
       "      <td>120078.5</td>\n",
       "    </tr>\n",
       "  </tbody>\n",
       "</table>\n",
       "</div>"
      ],
      "text/plain": [
       "                         mean  count    median\n",
       "weekday_public                                \n",
       "6               141502.653696    257  125482.0\n",
       "5               149421.301538    325  124742.0\n",
       "0               141433.592145    662  123329.5\n",
       "2               139560.625668    748  122896.0\n",
       "4               138994.263587    736  122300.5\n",
       "3               140222.921875    896  121339.5\n",
       "1               139820.866310    748  120078.5"
      ]
     },
     "execution_count": 54,
     "metadata": {},
     "output_type": "execute_result"
    }
   ],
   "source": [
    "#Зависимость от дня недели размещения\n",
    "downtown_spb_weekday = downtown_spb.pivot_table(index = 'weekday_public', values = 'price_one_metr', aggfunc = ['mean', 'count', 'median'])\n",
    "downtown_spb_weekday.columns = ['mean', 'count', 'median']\n",
    "downtown_spb_weekday.sort_values('median', ascending = False)"
   ]
  },
  {
   "cell_type": "code",
   "execution_count": 55,
   "metadata": {},
   "outputs": [
    {
     "data": {
      "text/plain": [
       "<AxesSubplot:xlabel='weekday_public'>"
      ]
     },
     "execution_count": 55,
     "metadata": {},
     "output_type": "execute_result"
    },
    {
     "data": {
      "image/png": "[encoded data removed]",
      "text/plain": [
       "<Figure size 432x288 with 1 Axes>"
      ]
     },
     "metadata": {
      "needs_background": "light"
     },
     "output_type": "display_data"
    }
   ],
   "source": [
    "downtown_spb_weekday.plot(y = 'median')"
   ]
  },
  {
   "cell_type": "markdown",
   "metadata": {},
   "source": [
    "В понедельник и в воскресенье публикуют самый дорогой по стоимости кв метр"
   ]
  },
  {
   "cell_type": "code",
   "execution_count": 56,
   "metadata": {},
   "outputs": [
    {
     "data": {
      "text/html": [
       "<div>\n",
       "<style scoped>\n",
       "    .dataframe tbody tr th:only-of-type {\n",
       "        vertical-align: middle;\n",
       "    }\n",
       "\n",
       "    .dataframe tbody tr th {\n",
       "        vertical-align: top;\n",
       "    }\n",
       "\n",
       "    .dataframe thead th {\n",
       "        text-align: right;\n",
       "    }\n",
       "</style>\n",
       "<table border=\"1\" class=\"dataframe\">\n",
       "  <thead>\n",
       "    <tr style=\"text-align: right;\">\n",
       "      <th></th>\n",
       "      <th>mean</th>\n",
       "      <th>count</th>\n",
       "      <th>median</th>\n",
       "    </tr>\n",
       "    <tr>\n",
       "      <th>month_public</th>\n",
       "      <th></th>\n",
       "      <th></th>\n",
       "      <th></th>\n",
       "    </tr>\n",
       "  </thead>\n",
       "  <tbody>\n",
       "    <tr>\n",
       "      <th>3</th>\n",
       "      <td>142074.197034</td>\n",
       "      <td>472</td>\n",
       "      <td>129373.0</td>\n",
       "    </tr>\n",
       "    <tr>\n",
       "      <th>1</th>\n",
       "      <td>141893.376384</td>\n",
       "      <td>271</td>\n",
       "      <td>126966.0</td>\n",
       "    </tr>\n",
       "    <tr>\n",
       "      <th>5</th>\n",
       "      <td>135570.062016</td>\n",
       "      <td>258</td>\n",
       "      <td>125112.0</td>\n",
       "    </tr>\n",
       "    <tr>\n",
       "      <th>8</th>\n",
       "      <td>141548.260062</td>\n",
       "      <td>323</td>\n",
       "      <td>125000.0</td>\n",
       "    </tr>\n",
       "    <tr>\n",
       "      <th>4</th>\n",
       "      <td>149139.548544</td>\n",
       "      <td>412</td>\n",
       "      <td>122756.5</td>\n",
       "    </tr>\n",
       "    <tr>\n",
       "      <th>9</th>\n",
       "      <td>139280.407216</td>\n",
       "      <td>388</td>\n",
       "      <td>122448.0</td>\n",
       "    </tr>\n",
       "    <tr>\n",
       "      <th>11</th>\n",
       "      <td>137899.188811</td>\n",
       "      <td>429</td>\n",
       "      <td>120978.0</td>\n",
       "    </tr>\n",
       "    <tr>\n",
       "      <th>2</th>\n",
       "      <td>140404.456522</td>\n",
       "      <td>460</td>\n",
       "      <td>120746.5</td>\n",
       "    </tr>\n",
       "    <tr>\n",
       "      <th>10</th>\n",
       "      <td>135596.120643</td>\n",
       "      <td>373</td>\n",
       "      <td>120000.0</td>\n",
       "    </tr>\n",
       "    <tr>\n",
       "      <th>12</th>\n",
       "      <td>143756.135135</td>\n",
       "      <td>296</td>\n",
       "      <td>119836.0</td>\n",
       "    </tr>\n",
       "    <tr>\n",
       "      <th>7</th>\n",
       "      <td>140583.242165</td>\n",
       "      <td>351</td>\n",
       "      <td>119569.0</td>\n",
       "    </tr>\n",
       "    <tr>\n",
       "      <th>6</th>\n",
       "      <td>140294.230088</td>\n",
       "      <td>339</td>\n",
       "      <td>116872.0</td>\n",
       "    </tr>\n",
       "  </tbody>\n",
       "</table>\n",
       "</div>"
      ],
      "text/plain": [
       "                       mean  count    median\n",
       "month_public                                \n",
       "3             142074.197034    472  129373.0\n",
       "1             141893.376384    271  126966.0\n",
       "5             135570.062016    258  125112.0\n",
       "8             141548.260062    323  125000.0\n",
       "4             149139.548544    412  122756.5\n",
       "9             139280.407216    388  122448.0\n",
       "11            137899.188811    429  120978.0\n",
       "2             140404.456522    460  120746.5\n",
       "10            135596.120643    373  120000.0\n",
       "12            143756.135135    296  119836.0\n",
       "7             140583.242165    351  119569.0\n",
       "6             140294.230088    339  116872.0"
      ]
     },
     "execution_count": 56,
     "metadata": {},
     "output_type": "execute_result"
    }
   ],
   "source": [
    "#Зависимость от месяца размещения\n",
    "downtown_spb_month = downtown_spb.pivot_table(index = 'month_public', values = 'price_one_metr', aggfunc = ['mean', 'count', 'median'])\n",
    "downtown_spb_month.columns = ['mean', 'count', 'median']\n",
    "downtown_spb_month.sort_values('median', ascending = False)"
   ]
  },
  {
   "cell_type": "code",
   "execution_count": 57,
   "metadata": {},
   "outputs": [
    {
     "data": {
      "text/plain": [
       "<AxesSubplot:xlabel='month_public'>"
      ]
     },
     "execution_count": 57,
     "metadata": {},
     "output_type": "execute_result"
    },
    {
     "data": {
      "image/png": "[encoded data removed]",
      "text/plain": [
       "<Figure size 432x288 with 1 Axes>"
      ]
     },
     "metadata": {
      "needs_background": "light"
     },
     "output_type": "display_data"
    }
   ],
   "source": [
    "downtown_spb_month.plot(y = 'median')"
   ]
  },
  {
   "cell_type": "markdown",
   "metadata": {},
   "source": [
    "Самая высокая стоимость метра в марте и августе, самая низкая в июне"
   ]
  },
  {
   "cell_type": "code",
   "execution_count": 58,
   "metadata": {},
   "outputs": [
    {
     "data": {
      "text/html": [
       "<div>\n",
       "<style scoped>\n",
       "    .dataframe tbody tr th:only-of-type {\n",
       "        vertical-align: middle;\n",
       "    }\n",
       "\n",
       "    .dataframe tbody tr th {\n",
       "        vertical-align: top;\n",
       "    }\n",
       "\n",
       "    .dataframe thead th {\n",
       "        text-align: right;\n",
       "    }\n",
       "</style>\n",
       "<table border=\"1\" class=\"dataframe\">\n",
       "  <thead>\n",
       "    <tr style=\"text-align: right;\">\n",
       "      <th></th>\n",
       "      <th>mean</th>\n",
       "      <th>count</th>\n",
       "      <th>median</th>\n",
       "    </tr>\n",
       "    <tr>\n",
       "      <th>year_public</th>\n",
       "      <th></th>\n",
       "      <th></th>\n",
       "      <th></th>\n",
       "    </tr>\n",
       "  </thead>\n",
       "  <tbody>\n",
       "    <tr>\n",
       "      <th>2019</th>\n",
       "      <td>153215.878351</td>\n",
       "      <td>485</td>\n",
       "      <td>133333.0</td>\n",
       "    </tr>\n",
       "    <tr>\n",
       "      <th>2018</th>\n",
       "      <td>136969.869888</td>\n",
       "      <td>1345</td>\n",
       "      <td>123043.0</td>\n",
       "    </tr>\n",
       "    <tr>\n",
       "      <th>2015</th>\n",
       "      <td>142295.945504</td>\n",
       "      <td>367</td>\n",
       "      <td>119771.0</td>\n",
       "    </tr>\n",
       "    <tr>\n",
       "      <th>2017</th>\n",
       "      <td>138551.482558</td>\n",
       "      <td>1548</td>\n",
       "      <td>119382.5</td>\n",
       "    </tr>\n",
       "    <tr>\n",
       "      <th>2016</th>\n",
       "      <td>141649.899830</td>\n",
       "      <td>589</td>\n",
       "      <td>118954.0</td>\n",
       "    </tr>\n",
       "  </tbody>\n",
       "</table>\n",
       "</div>"
      ],
      "text/plain": [
       "                      mean  count    median\n",
       "year_public                                \n",
       "2019         153215.878351    485  133333.0\n",
       "2018         136969.869888   1345  123043.0\n",
       "2015         142295.945504    367  119771.0\n",
       "2017         138551.482558   1548  119382.5\n",
       "2016         141649.899830    589  118954.0"
      ]
     },
     "execution_count": 58,
     "metadata": {},
     "output_type": "execute_result"
    }
   ],
   "source": [
    "#Зависимость от года размещения\n",
    "center_spb_year_exposition = downtown_spb.pivot_table(index = 'year_public', values = 'price_one_metr', aggfunc = ['mean', 'count', 'median'])\n",
    "center_spb_year_exposition.columns = ['mean', 'count', 'median']\n",
    "center_spb_year_exposition.query('count > 50').sort_values('median', ascending = False)"
   ]
  },
  {
   "cell_type": "code",
   "execution_count": 59,
   "metadata": {},
   "outputs": [
    {
     "data": {
      "text/plain": [
       "<AxesSubplot:xlabel='year_public'>"
      ]
     },
     "execution_count": 59,
     "metadata": {},
     "output_type": "execute_result"
    },
    {
     "data": {
      "image/png": "[encoded data removed]",
      "text/plain": [
       "<Figure size 432x288 with 1 Axes>"
      ]
     },
     "metadata": {
      "needs_background": "light"
     },
     "output_type": "display_data"
    }
   ],
   "source": [
    "center_spb_year_exposition.query('count > 50').plot(y = 'median')"
   ]
  },
  {
   "cell_type": "markdown",
   "metadata": {},
   "source": [
    "Рост цен с каждым годом в центре Питера, но особенно сильный с 2018 по 2019"
   ]
  },
  {
   "cell_type": "markdown",
   "id": "60300fa1",
   "metadata": {},
   "source": [
    "<div class=\"alert alert-block alert-success\">\n",
    "<b>✅Комментарий ревьюера:</b>\n",
    "    \n",
    "Все верно.\n",
    "\n",
    "Кстати, в будущем тебе нужно будет подписывать каждый график и оси на нем для удобства восприятия. Есть [хорошая статья](https://devpractice.ru/matplotlib-lesson-3-3-text-elements/) на эту тему</div>"
   ]
  },
  {
   "cell_type": "markdown",
   "metadata": {
    "id": "hNQPMhQ5uqj-"
   },
   "source": [
    "## Общий вывод"
   ]
  },
  {
   "cell_type": "markdown",
   "metadata": {
    "id": "TBk94gYfuqj-"
   },
   "source": [
    "Итак, были определены аномалии в изначальных данных.\n",
    "При анализе сроков продажи квартир учтены возможные снятия с публикаций автоматически площадкой. \n",
    "На стоимость квартир влияют общая площадь, этаж, кол-во комнат и удаленность от центра.\n",
    "Стоимость квартир до 2018 год была значительно ниже, но это касается в меньшей степень квартир в центре.\n",
    "\n",
    "Рост цен на квартиры в центре был более планомерным, в то время как в общем по Питеру и области после падения цен в 2014 году рост начался только с 2018 года.\n",
    "В плане зависимости цены от этажности - здесь аналогия.\n",
    "Важное отличие - зависимость цены от кол-ва комнат (у квартир по городу и области чем больше комнат, тем выше цена кв метра, в то время как в центре города это правило не работает)."
   ]
  },
  {
   "cell_type": "markdown",
   "id": "240e31f5",
   "metadata": {},
   "source": [
    "<div class=\"alert alert-block alert-warning\">\n",
    "<b>🔁Комментарий ревьюера:</b>\n",
    "\n",
    "Отличаются ли основными параметрами и зависимостями цен квартиры в центре от остальных квартир?</div>"
   ]
  },
  {
   "cell_type": "markdown",
   "id": "c3c24969",
   "metadata": {},
   "source": [
    "<div class=\"alert alert-block alert-success\">\n",
    "<b>✅Комментарий ревьюера 2:</b> Отлично, исправлено!👍  </div>"
   ]
  },
  {
   "cell_type": "markdown",
   "metadata": {
    "id": "8j_BxJubuqj-"
   },
   "source": [
    "## Чек-лист готовности проекта\n",
    "\n",
    "Поставьте 'x' в выполненных пунктах. Далее нажмите Shift+Enter."
   ]
  },
  {
   "cell_type": "markdown",
   "metadata": {
    "id": "Ff1Nx3nouqj-"
   },
   "source": [
    "- [x]  открыт файл\n",
    "- [х]  файлы изучены (выведены первые строки, метод `info()`)\n",
    "- [х]  определены пропущенные значения\n",
    "- [х]  заполнены пропущенные значения\n",
    "- [х]  есть пояснение, какие пропущенные значения обнаружены\n",
    "- [х]  изменены типы данных\n",
    "- [х]  есть пояснение, в каких столбцах изменены типы и почему\n",
    "- [х]  посчитано и добавлено в таблицу: цена квадратного метра\n",
    "- [х]  посчитано и добавлено в таблицу: день недели, месяц и год публикации объявления\n",
    "- [х]  посчитано и добавлено в таблицу: этаж квартиры; варианты — первый, последний, другой\n",
    "- [х]  посчитано и добавлено в таблицу: соотношение жилой и общей площади, а также отношение площади кухни к общей\n",
    "- [х]  изучены следующие параметры: площадь, цена, число комнат, высота потолков\n",
    "- [х]  построены гистограммы для каждого параметра\n",
    "- [х]  выполнено задание: «Изучите время продажи квартиры. Постройте гистограмму. Посчитайте среднее и медиану. Опишите, сколько обычно занимает продажа. Когда можно считать, что продажи прошли очень быстро, а когда необычно долго?»\n",
    "- [х]  выполнено задание: «Уберите редкие и выбивающиеся значения. Опишите, какие особенности обнаружили».\n",
    "- [х]  выполнено задание: «Какие факторы больше всего влияют на стоимость квартиры? Изучите, зависит ли цена от площади, числа комнат, удалённости от центра. Изучите зависимость цены от того, на каком этаже расположена квартира: первом, последнем или другом. Также изучите зависимость от даты размещения: дня недели, месяца и года». \n",
    "- [х]  выполнено задание: «Выберите 10 населённых пунктов с наибольшим числом объявлений. Посчитайте среднюю цену квадратного метра в этих населённых пунктах. Выделите населённые пункты с самой высокой и низкой стоимостью жилья. Эти данные можно найти по имени в столбце `locality_name`».\n",
    "- [х]  выполнено задание: «Изучите предложения квартир: для каждой квартиры есть информация о расстоянии до центра. Выделите квартиры в Санкт-Петербурге (`locality_name`). Ваша задача — выяснить, какая область входит в центр. Создайте столбец с расстоянием до центра в километрах: округлите до целых значений. После этого посчитайте среднюю цену для каждого километра. Постройте график: он должен показывать, как цена зависит от удалённости от центра. Определите границу, где график сильно меняется — это и будет центральная зона».\n",
    "- [х]  выполнено задание: «Выделите сегмент квартир в центре. Проанализируйте эту территорию и изучите следующие параметры: площадь, цена, число комнат, высота потолков. Также выделите факторы, которые влияют на стоимость квартиры (число комнат, этаж, удалённость от центра, дата размещения объявления). Сделайте выводы. Отличаются ли они от общих выводов по всей базе?»\n",
    "- [х]  в каждом этапе есть выводы\n",
    "- [х]  есть общий вывод"
   ]
  }
 ],
 "metadata": {
  "ExecuteTimeLog": [
   {
    "duration": 958,
    "start_time": "2022-06-19T11:57:35.819Z"
   },
   {
    "duration": 116,
    "start_time": "2022-06-19T11:57:50.797Z"
   },
   {
    "duration": 118,
    "start_time": "2022-06-19T11:58:02.346Z"
   },
   {
    "duration": 17,
    "start_time": "2022-06-19T11:58:37.487Z"
   },
   {
    "duration": 147,
    "start_time": "2022-06-19T12:10:44.004Z"
   },
   {
    "duration": 607,
    "start_time": "2022-06-19T12:16:58.171Z"
   },
   {
    "duration": 233,
    "start_time": "2022-06-19T12:17:32.860Z"
   },
   {
    "duration": 228,
    "start_time": "2022-06-19T12:17:51.431Z"
   },
   {
    "duration": 292,
    "start_time": "2022-06-19T12:20:34.327Z"
   },
   {
    "duration": 7,
    "start_time": "2022-06-19T12:24:10.011Z"
   },
   {
    "duration": 4,
    "start_time": "2022-06-19T12:24:12.490Z"
   },
   {
    "duration": 2,
    "start_time": "2022-06-19T12:24:47.109Z"
   },
   {
    "duration": 5,
    "start_time": "2022-06-19T12:26:58.798Z"
   },
   {
    "duration": 83,
    "start_time": "2022-06-19T12:30:50.923Z"
   },
   {
    "duration": 3,
    "start_time": "2022-06-19T12:34:19.896Z"
   },
   {
    "duration": 4,
    "start_time": "2022-06-19T12:34:21.653Z"
   },
   {
    "duration": 408,
    "start_time": "2022-06-19T12:34:22.285Z"
   },
   {
    "duration": 6,
    "start_time": "2022-06-19T12:35:08.044Z"
   },
   {
    "duration": 259,
    "start_time": "2022-06-19T12:37:37.188Z"
   },
   {
    "duration": 10,
    "start_time": "2022-06-19T12:39:43.523Z"
   },
   {
    "duration": 7,
    "start_time": "2022-06-19T12:40:27.167Z"
   },
   {
    "duration": 305,
    "start_time": "2022-06-19T12:41:12.268Z"
   },
   {
    "duration": 338,
    "start_time": "2022-06-19T12:41:21.860Z"
   },
   {
    "duration": 419,
    "start_time": "2022-06-19T12:41:51.378Z"
   },
   {
    "duration": 406,
    "start_time": "2022-06-19T12:42:21.229Z"
   },
   {
    "duration": 356,
    "start_time": "2022-06-19T12:42:40.093Z"
   },
   {
    "duration": 5,
    "start_time": "2022-06-19T12:43:14.305Z"
   },
   {
    "duration": 342,
    "start_time": "2022-06-19T12:43:16.421Z"
   },
   {
    "duration": 5,
    "start_time": "2022-06-19T12:43:38.329Z"
   },
   {
    "duration": 329,
    "start_time": "2022-06-19T12:43:40.497Z"
   },
   {
    "duration": 5,
    "start_time": "2022-06-19T12:44:01.680Z"
   },
   {
    "duration": 415,
    "start_time": "2022-06-19T12:44:15.633Z"
   },
   {
    "duration": 6,
    "start_time": "2022-06-19T12:45:22.293Z"
   },
   {
    "duration": 537,
    "start_time": "2022-06-19T12:46:51.947Z"
   },
   {
    "duration": 13,
    "start_time": "2022-06-19T12:46:52.486Z"
   },
   {
    "duration": 3,
    "start_time": "2022-06-19T12:46:52.501Z"
   },
   {
    "duration": 14,
    "start_time": "2022-06-19T12:46:52.506Z"
   },
   {
    "duration": 7,
    "start_time": "2022-06-19T12:46:52.522Z"
   },
   {
    "duration": 6,
    "start_time": "2022-06-19T12:46:52.531Z"
   },
   {
    "duration": 446,
    "start_time": "2022-06-19T12:46:52.539Z"
   },
   {
    "duration": 11,
    "start_time": "2022-06-19T12:46:52.986Z"
   },
   {
    "duration": 5,
    "start_time": "2022-06-19T12:46:52.999Z"
   },
   {
    "duration": 8,
    "start_time": "2022-06-19T12:46:53.006Z"
   },
   {
    "duration": 122,
    "start_time": "2022-06-19T12:46:53.015Z"
   },
   {
    "duration": 0,
    "start_time": "2022-06-19T12:46:53.139Z"
   },
   {
    "duration": 24,
    "start_time": "2022-06-19T12:46:58.840Z"
   },
   {
    "duration": 5,
    "start_time": "2022-06-19T12:47:22.698Z"
   },
   {
    "duration": 7,
    "start_time": "2022-06-19T13:02:31.184Z"
   },
   {
    "duration": 2,
    "start_time": "2022-06-19T13:02:32.816Z"
   },
   {
    "duration": 5,
    "start_time": "2022-06-19T13:02:33.482Z"
   },
   {
    "duration": 198,
    "start_time": "2022-06-19T13:02:36.208Z"
   },
   {
    "duration": 347,
    "start_time": "2022-06-19T13:02:39.407Z"
   },
   {
    "duration": 5,
    "start_time": "2022-06-19T13:02:46.489Z"
   },
   {
    "duration": 11,
    "start_time": "2022-06-19T13:02:49.482Z"
   },
   {
    "duration": 11,
    "start_time": "2022-06-19T13:02:50.779Z"
   },
   {
    "duration": 471,
    "start_time": "2022-06-19T13:03:01.889Z"
   },
   {
    "duration": 5,
    "start_time": "2022-06-19T13:03:03.290Z"
   },
   {
    "duration": 7,
    "start_time": "2022-06-19T13:03:06.085Z"
   },
   {
    "duration": 11,
    "start_time": "2022-06-19T13:03:28.679Z"
   },
   {
    "duration": 5,
    "start_time": "2022-06-19T13:03:31.538Z"
   },
   {
    "duration": 5,
    "start_time": "2022-06-19T13:03:32.567Z"
   },
   {
    "duration": 4,
    "start_time": "2022-06-19T13:03:50.307Z"
   },
   {
    "duration": 312,
    "start_time": "2022-06-19T13:04:53.142Z"
   },
   {
    "duration": 5,
    "start_time": "2022-06-19T13:07:11.861Z"
   },
   {
    "duration": 289,
    "start_time": "2022-06-19T13:07:15.433Z"
   },
   {
    "duration": 3,
    "start_time": "2022-06-19T13:07:21.901Z"
   },
   {
    "duration": 3,
    "start_time": "2022-06-19T13:07:51.358Z"
   },
   {
    "duration": 4,
    "start_time": "2022-06-19T13:07:54.381Z"
   },
   {
    "duration": 5,
    "start_time": "2022-06-19T13:11:19.677Z"
   },
   {
    "duration": 5,
    "start_time": "2022-06-19T13:11:48.324Z"
   },
   {
    "duration": 9,
    "start_time": "2022-06-19T13:12:21.184Z"
   },
   {
    "duration": 12,
    "start_time": "2022-06-19T13:13:10.563Z"
   },
   {
    "duration": 8,
    "start_time": "2022-06-19T13:13:21.300Z"
   },
   {
    "duration": 36,
    "start_time": "2022-06-19T13:15:03.743Z"
   },
   {
    "duration": 4,
    "start_time": "2022-06-19T13:15:20.759Z"
   },
   {
    "duration": 38,
    "start_time": "2022-06-19T13:15:28.739Z"
   },
   {
    "duration": 21,
    "start_time": "2022-06-19T13:15:31.272Z"
   },
   {
    "duration": 40,
    "start_time": "2022-06-19T13:15:48.573Z"
   },
   {
    "duration": 36,
    "start_time": "2022-06-19T13:16:17.706Z"
   },
   {
    "duration": 19,
    "start_time": "2022-06-19T13:20:37.888Z"
   },
   {
    "duration": 397,
    "start_time": "2022-06-19T13:25:59.845Z"
   },
   {
    "duration": 280,
    "start_time": "2022-06-19T13:26:25.733Z"
   },
   {
    "duration": 42,
    "start_time": "2022-06-19T13:26:52.751Z"
   },
   {
    "duration": 296,
    "start_time": "2022-06-19T13:27:25.137Z"
   },
   {
    "duration": 378,
    "start_time": "2022-06-19T13:27:36.878Z"
   },
   {
    "duration": 30,
    "start_time": "2022-06-19T13:27:49.695Z"
   },
   {
    "duration": 337,
    "start_time": "2022-06-19T13:28:11.496Z"
   },
   {
    "duration": 42,
    "start_time": "2022-06-19T13:28:31.385Z"
   },
   {
    "duration": 44,
    "start_time": "2022-06-19T13:29:20.493Z"
   },
   {
    "duration": 29,
    "start_time": "2022-06-19T13:29:37.841Z"
   },
   {
    "duration": 348,
    "start_time": "2022-06-19T13:33:03.705Z"
   },
   {
    "duration": 5,
    "start_time": "2022-06-19T13:35:05.474Z"
   },
   {
    "duration": 5,
    "start_time": "2022-06-19T13:35:07.333Z"
   },
   {
    "duration": 37,
    "start_time": "2022-06-19T13:35:13.957Z"
   },
   {
    "duration": 22,
    "start_time": "2022-06-19T13:35:35.409Z"
   },
   {
    "duration": 4,
    "start_time": "2022-06-19T13:35:43.100Z"
   },
   {
    "duration": 4,
    "start_time": "2022-06-19T13:36:23.388Z"
   },
   {
    "duration": 41,
    "start_time": "2022-06-20T10:55:01.244Z"
   },
   {
    "duration": 7,
    "start_time": "2022-06-20T10:55:26.617Z"
   },
   {
    "duration": 5,
    "start_time": "2022-06-20T10:55:45.415Z"
   },
   {
    "duration": 553,
    "start_time": "2022-06-20T10:55:54.202Z"
   },
   {
    "duration": 12,
    "start_time": "2022-06-20T10:55:58.402Z"
   },
   {
    "duration": 3,
    "start_time": "2022-06-20T10:56:01.086Z"
   },
   {
    "duration": 4,
    "start_time": "2022-06-20T10:56:02.990Z"
   },
   {
    "duration": 6,
    "start_time": "2022-06-20T10:56:03.369Z"
   },
   {
    "duration": 3,
    "start_time": "2022-06-20T10:56:03.622Z"
   },
   {
    "duration": 5,
    "start_time": "2022-06-20T10:56:03.822Z"
   },
   {
    "duration": 521,
    "start_time": "2022-06-20T10:56:04.631Z"
   },
   {
    "duration": 7,
    "start_time": "2022-06-20T10:56:05.154Z"
   },
   {
    "duration": 5,
    "start_time": "2022-06-20T10:56:07.323Z"
   },
   {
    "duration": 6,
    "start_time": "2022-06-20T10:56:07.819Z"
   },
   {
    "duration": 5,
    "start_time": "2022-06-20T10:56:09.353Z"
   },
   {
    "duration": 4,
    "start_time": "2022-06-20T10:56:09.931Z"
   },
   {
    "duration": 4,
    "start_time": "2022-06-20T10:56:13.800Z"
   },
   {
    "duration": 28,
    "start_time": "2022-06-20T10:56:14.853Z"
   },
   {
    "duration": 283,
    "start_time": "2022-06-20T10:56:19.273Z"
   },
   {
    "duration": 4,
    "start_time": "2022-06-20T10:56:20.603Z"
   },
   {
    "duration": 3,
    "start_time": "2022-06-20T10:56:23.655Z"
   },
   {
    "duration": 4,
    "start_time": "2022-06-20T10:56:24.224Z"
   },
   {
    "duration": 238,
    "start_time": "2022-06-20T10:56:28.144Z"
   },
   {
    "duration": 226,
    "start_time": "2022-06-20T10:56:50.698Z"
   },
   {
    "duration": 254,
    "start_time": "2022-06-20T10:56:57.692Z"
   },
   {
    "duration": 229,
    "start_time": "2022-06-20T10:57:07.409Z"
   },
   {
    "duration": 268,
    "start_time": "2022-06-20T10:57:12.652Z"
   },
   {
    "duration": 311,
    "start_time": "2022-06-20T10:59:58.654Z"
   },
   {
    "duration": 155,
    "start_time": "2022-06-20T11:02:19.773Z"
   },
   {
    "duration": 171,
    "start_time": "2022-06-20T11:02:28.503Z"
   },
   {
    "duration": 156,
    "start_time": "2022-06-20T11:03:04.562Z"
   },
   {
    "duration": 183,
    "start_time": "2022-06-20T11:03:09.355Z"
   },
   {
    "duration": 158,
    "start_time": "2022-06-20T11:03:14.608Z"
   },
   {
    "duration": 177,
    "start_time": "2022-06-20T11:03:28.603Z"
   },
   {
    "duration": 134,
    "start_time": "2022-06-20T11:03:33.442Z"
   },
   {
    "duration": 154,
    "start_time": "2022-06-20T11:03:38.413Z"
   },
   {
    "duration": 151,
    "start_time": "2022-06-20T11:04:13.032Z"
   },
   {
    "duration": 218,
    "start_time": "2022-06-20T11:04:19.030Z"
   },
   {
    "duration": 173,
    "start_time": "2022-06-20T11:04:30.088Z"
   },
   {
    "duration": 163,
    "start_time": "2022-06-20T11:04:35.895Z"
   },
   {
    "duration": 122,
    "start_time": "2022-06-20T11:04:44.404Z"
   },
   {
    "duration": 157,
    "start_time": "2022-06-20T11:04:49.043Z"
   },
   {
    "duration": 145,
    "start_time": "2022-06-20T11:04:55.763Z"
   },
   {
    "duration": 75,
    "start_time": "2022-06-20T11:15:07.916Z"
   },
   {
    "duration": 461,
    "start_time": "2022-06-20T11:23:54.704Z"
   },
   {
    "duration": 572,
    "start_time": "2022-06-20T11:24:15.865Z"
   },
   {
    "duration": 450,
    "start_time": "2022-06-20T11:24:50.999Z"
   },
   {
    "duration": 496,
    "start_time": "2022-06-20T11:28:59.166Z"
   },
   {
    "duration": 647,
    "start_time": "2022-06-20T11:33:38.019Z"
   },
   {
    "duration": 906,
    "start_time": "2022-06-20T11:33:51.257Z"
   },
   {
    "duration": 935,
    "start_time": "2022-06-20T11:44:53.117Z"
   },
   {
    "duration": 74,
    "start_time": "2022-06-20T11:53:33.109Z"
   },
   {
    "duration": 72,
    "start_time": "2022-06-20T11:53:52.367Z"
   },
   {
    "duration": 106,
    "start_time": "2022-06-20T11:54:04.526Z"
   },
   {
    "duration": 548,
    "start_time": "2022-06-20T11:54:15.417Z"
   },
   {
    "duration": 494,
    "start_time": "2022-06-20T11:55:32.435Z"
   },
   {
    "duration": 551,
    "start_time": "2022-06-20T11:55:53.800Z"
   },
   {
    "duration": 626,
    "start_time": "2022-06-20T11:56:06.256Z"
   },
   {
    "duration": 12,
    "start_time": "2022-06-20T11:56:45.089Z"
   },
   {
    "duration": 13,
    "start_time": "2022-06-20T12:15:34.490Z"
   },
   {
    "duration": 129,
    "start_time": "2022-06-20T12:16:26.854Z"
   },
   {
    "duration": 198,
    "start_time": "2022-06-20T12:49:39.983Z"
   },
   {
    "duration": 11,
    "start_time": "2022-06-20T12:54:01.231Z"
   },
   {
    "duration": 155,
    "start_time": "2022-06-20T12:54:06.093Z"
   },
   {
    "duration": 14,
    "start_time": "2022-06-20T12:58:19.955Z"
   },
   {
    "duration": 129,
    "start_time": "2022-06-20T12:58:35.648Z"
   },
   {
    "duration": 138,
    "start_time": "2022-06-20T12:59:00.639Z"
   },
   {
    "duration": 170,
    "start_time": "2022-06-20T13:01:05.444Z"
   },
   {
    "duration": 20,
    "start_time": "2022-06-20T13:08:57.101Z"
   },
   {
    "duration": 158,
    "start_time": "2022-06-20T13:10:22.221Z"
   },
   {
    "duration": 202,
    "start_time": "2022-06-20T13:27:42.417Z"
   },
   {
    "duration": 173,
    "start_time": "2022-06-20T13:34:11.626Z"
   },
   {
    "duration": 46,
    "start_time": "2022-06-21T09:09:09.817Z"
   },
   {
    "duration": 9,
    "start_time": "2022-06-21T09:09:42.770Z"
   },
   {
    "duration": 762,
    "start_time": "2022-06-21T09:09:49.494Z"
   },
   {
    "duration": 26,
    "start_time": "2022-06-21T09:09:50.258Z"
   },
   {
    "duration": 7,
    "start_time": "2022-06-21T09:09:50.286Z"
   },
   {
    "duration": 7,
    "start_time": "2022-06-21T09:09:50.294Z"
   },
   {
    "duration": 13,
    "start_time": "2022-06-21T09:09:50.303Z"
   },
   {
    "duration": 7,
    "start_time": "2022-06-21T09:09:50.317Z"
   },
   {
    "duration": 7,
    "start_time": "2022-06-21T09:09:50.325Z"
   },
   {
    "duration": 651,
    "start_time": "2022-06-21T09:09:50.333Z"
   },
   {
    "duration": 9,
    "start_time": "2022-06-21T09:09:50.987Z"
   },
   {
    "duration": 42,
    "start_time": "2022-06-21T09:09:50.998Z"
   },
   {
    "duration": 9,
    "start_time": "2022-06-21T09:09:51.041Z"
   },
   {
    "duration": 17,
    "start_time": "2022-06-21T09:09:51.051Z"
   },
   {
    "duration": 7,
    "start_time": "2022-06-21T09:09:51.078Z"
   },
   {
    "duration": 5,
    "start_time": "2022-06-21T09:09:51.088Z"
   },
   {
    "duration": 33,
    "start_time": "2022-06-21T09:09:51.095Z"
   },
   {
    "duration": 355,
    "start_time": "2022-06-21T09:09:51.130Z"
   },
   {
    "duration": 5,
    "start_time": "2022-06-21T09:09:51.487Z"
   },
   {
    "duration": 13,
    "start_time": "2022-06-21T09:09:51.494Z"
   },
   {
    "duration": 349,
    "start_time": "2022-06-21T09:09:51.509Z"
   },
   {
    "duration": 346,
    "start_time": "2022-06-21T09:09:51.860Z"
   },
   {
    "duration": 201,
    "start_time": "2022-06-21T09:09:52.208Z"
   },
   {
    "duration": 179,
    "start_time": "2022-06-21T09:09:52.411Z"
   },
   {
    "duration": 1194,
    "start_time": "2022-06-21T09:09:52.592Z"
   },
   {
    "duration": 637,
    "start_time": "2022-06-21T09:09:53.788Z"
   },
   {
    "duration": 11,
    "start_time": "2022-06-21T09:09:54.426Z"
   },
   {
    "duration": 186,
    "start_time": "2022-06-21T09:09:54.439Z"
   },
   {
    "duration": 201,
    "start_time": "2022-06-21T09:09:54.627Z"
   },
   {
    "duration": 110,
    "start_time": "2022-06-21T09:09:54.830Z"
   },
   {
    "duration": 0,
    "start_time": "2022-06-21T09:09:54.942Z"
   },
   {
    "duration": 0,
    "start_time": "2022-06-21T09:09:54.943Z"
   },
   {
    "duration": 0,
    "start_time": "2022-06-21T09:09:54.945Z"
   },
   {
    "duration": 0,
    "start_time": "2022-06-21T09:09:54.946Z"
   },
   {
    "duration": 0,
    "start_time": "2022-06-21T09:09:54.947Z"
   },
   {
    "duration": 37,
    "start_time": "2022-06-21T09:09:58.303Z"
   },
   {
    "duration": 23,
    "start_time": "2022-06-21T09:10:17.741Z"
   },
   {
    "duration": 8,
    "start_time": "2022-06-21T09:11:09.826Z"
   },
   {
    "duration": 9,
    "start_time": "2022-06-21T09:11:37.386Z"
   },
   {
    "duration": 23,
    "start_time": "2022-06-21T09:15:09.879Z"
   },
   {
    "duration": 157,
    "start_time": "2022-06-21T09:15:26.778Z"
   },
   {
    "duration": 19,
    "start_time": "2022-06-21T09:15:35.727Z"
   },
   {
    "duration": 23,
    "start_time": "2022-06-21T09:15:47.587Z"
   },
   {
    "duration": 131,
    "start_time": "2022-06-21T09:16:24.430Z"
   },
   {
    "duration": 1809,
    "start_time": "2022-06-21T09:17:03.017Z"
   },
   {
    "duration": 0,
    "start_time": "2022-06-21T09:17:04.827Z"
   },
   {
    "duration": 23,
    "start_time": "2022-06-21T09:17:36.906Z"
   },
   {
    "duration": 23,
    "start_time": "2022-06-21T09:18:04.427Z"
   },
   {
    "duration": 155,
    "start_time": "2022-06-21T09:18:08.537Z"
   },
   {
    "duration": 25,
    "start_time": "2022-06-21T09:18:38.027Z"
   },
   {
    "duration": 138,
    "start_time": "2022-06-21T09:18:48.187Z"
   },
   {
    "duration": 31,
    "start_time": "2022-06-21T09:18:51.716Z"
   },
   {
    "duration": 240,
    "start_time": "2022-06-21T09:18:55.039Z"
   },
   {
    "duration": 8,
    "start_time": "2022-06-21T09:25:59.683Z"
   },
   {
    "duration": 35,
    "start_time": "2022-06-21T09:26:13.610Z"
   },
   {
    "duration": 44,
    "start_time": "2022-06-21T09:27:00.744Z"
   },
   {
    "duration": 12,
    "start_time": "2022-06-21T09:31:45.753Z"
   },
   {
    "duration": 9,
    "start_time": "2022-06-21T09:31:48.347Z"
   },
   {
    "duration": 41,
    "start_time": "2022-06-21T09:31:51.747Z"
   },
   {
    "duration": 110,
    "start_time": "2022-06-21T09:32:28.619Z"
   },
   {
    "duration": 108,
    "start_time": "2022-06-21T09:32:35.917Z"
   },
   {
    "duration": 38,
    "start_time": "2022-06-21T09:32:44.827Z"
   },
   {
    "duration": 11,
    "start_time": "2022-06-21T09:33:16.093Z"
   },
   {
    "duration": 12,
    "start_time": "2022-06-21T09:33:29.897Z"
   },
   {
    "duration": 25,
    "start_time": "2022-06-21T09:35:51.397Z"
   },
   {
    "duration": 147,
    "start_time": "2022-06-21T09:35:52.191Z"
   },
   {
    "duration": 147,
    "start_time": "2022-06-21T09:35:59.940Z"
   },
   {
    "duration": 833,
    "start_time": "2022-06-21T09:36:06.310Z"
   },
   {
    "duration": 13,
    "start_time": "2022-06-21T09:36:17.977Z"
   },
   {
    "duration": 27,
    "start_time": "2022-06-21T09:36:23.827Z"
   },
   {
    "duration": 64,
    "start_time": "2022-06-21T09:37:00.348Z"
   },
   {
    "duration": 24,
    "start_time": "2022-06-21T09:37:22.659Z"
   },
   {
    "duration": 12,
    "start_time": "2022-06-21T09:37:39.515Z"
   },
   {
    "duration": 11,
    "start_time": "2022-06-21T09:37:43.249Z"
   },
   {
    "duration": 131,
    "start_time": "2022-06-21T09:40:02.128Z"
   },
   {
    "duration": 55,
    "start_time": "2022-06-21T09:40:44.856Z"
   },
   {
    "duration": 64,
    "start_time": "2022-06-21T09:41:11.157Z"
   },
   {
    "duration": 16,
    "start_time": "2022-06-21T09:41:28.481Z"
   },
   {
    "duration": 47,
    "start_time": "2022-06-21T09:41:54.197Z"
   },
   {
    "duration": 198,
    "start_time": "2022-06-21T09:42:03.596Z"
   },
   {
    "duration": 164,
    "start_time": "2022-06-21T09:42:26.746Z"
   },
   {
    "duration": 15,
    "start_time": "2022-06-21T09:48:41.213Z"
   },
   {
    "duration": 14,
    "start_time": "2022-06-21T09:48:56.190Z"
   },
   {
    "duration": 157,
    "start_time": "2022-06-21T09:49:05.223Z"
   },
   {
    "duration": 146,
    "start_time": "2022-06-21T09:49:29.116Z"
   },
   {
    "duration": 27,
    "start_time": "2022-06-21T09:49:41.935Z"
   },
   {
    "duration": 118,
    "start_time": "2022-06-21T09:49:44.516Z"
   },
   {
    "duration": 163,
    "start_time": "2022-06-21T09:54:27.587Z"
   },
   {
    "duration": 5,
    "start_time": "2022-06-21T09:54:44.656Z"
   },
   {
    "duration": 6,
    "start_time": "2022-06-21T09:54:47.374Z"
   },
   {
    "duration": 226,
    "start_time": "2022-06-21T09:54:55.605Z"
   },
   {
    "duration": 166,
    "start_time": "2022-06-21T09:55:40.943Z"
   },
   {
    "duration": 172,
    "start_time": "2022-06-21T09:59:00.606Z"
   },
   {
    "duration": 22,
    "start_time": "2022-06-21T09:59:10.002Z"
   },
   {
    "duration": 169,
    "start_time": "2022-06-21T09:59:13.053Z"
   },
   {
    "duration": 25,
    "start_time": "2022-06-21T10:01:41.841Z"
   },
   {
    "duration": 133,
    "start_time": "2022-06-21T10:01:46.085Z"
   },
   {
    "duration": 150,
    "start_time": "2022-06-21T10:03:03.302Z"
   },
   {
    "duration": 18,
    "start_time": "2022-06-21T10:04:19.194Z"
   },
   {
    "duration": 25,
    "start_time": "2022-06-21T10:05:01.880Z"
   },
   {
    "duration": 135,
    "start_time": "2022-06-21T10:05:11.326Z"
   },
   {
    "duration": 26,
    "start_time": "2022-06-21T10:05:39.093Z"
   },
   {
    "duration": 135,
    "start_time": "2022-06-21T10:05:44.096Z"
   },
   {
    "duration": 33,
    "start_time": "2022-06-21T10:30:06.447Z"
   },
   {
    "duration": 29,
    "start_time": "2022-06-21T10:30:35.222Z"
   },
   {
    "duration": 150,
    "start_time": "2022-06-21T10:30:39.337Z"
   },
   {
    "duration": 43,
    "start_time": "2022-06-21T10:32:55.866Z"
   },
   {
    "duration": 170,
    "start_time": "2022-06-21T10:32:58.489Z"
   },
   {
    "duration": 33,
    "start_time": "2022-06-21T10:33:22.964Z"
   },
   {
    "duration": 196,
    "start_time": "2022-06-21T10:33:26.235Z"
   },
   {
    "duration": 562,
    "start_time": "2022-06-21T10:41:37.385Z"
   },
   {
    "duration": 32,
    "start_time": "2022-06-21T10:41:37.949Z"
   },
   {
    "duration": 3,
    "start_time": "2022-06-21T10:41:37.983Z"
   },
   {
    "duration": 8,
    "start_time": "2022-06-21T10:41:37.987Z"
   },
   {
    "duration": 12,
    "start_time": "2022-06-21T10:41:37.997Z"
   },
   {
    "duration": 7,
    "start_time": "2022-06-21T10:41:38.010Z"
   },
   {
    "duration": 6,
    "start_time": "2022-06-21T10:41:38.019Z"
   },
   {
    "duration": 486,
    "start_time": "2022-06-21T10:41:38.027Z"
   },
   {
    "duration": 9,
    "start_time": "2022-06-21T10:41:38.515Z"
   },
   {
    "duration": 5,
    "start_time": "2022-06-21T10:41:38.525Z"
   },
   {
    "duration": 6,
    "start_time": "2022-06-21T10:41:38.532Z"
   },
   {
    "duration": 6,
    "start_time": "2022-06-21T10:41:38.540Z"
   },
   {
    "duration": 33,
    "start_time": "2022-06-21T10:41:38.547Z"
   },
   {
    "duration": 6,
    "start_time": "2022-06-21T10:41:38.584Z"
   },
   {
    "duration": 32,
    "start_time": "2022-06-21T10:41:38.592Z"
   },
   {
    "duration": 329,
    "start_time": "2022-06-21T10:41:38.626Z"
   },
   {
    "duration": 8,
    "start_time": "2022-06-21T10:41:38.958Z"
   },
   {
    "duration": 20,
    "start_time": "2022-06-21T10:41:38.968Z"
   },
   {
    "duration": 421,
    "start_time": "2022-06-21T10:41:38.990Z"
   },
   {
    "duration": 369,
    "start_time": "2022-06-21T10:41:39.413Z"
   },
   {
    "duration": 217,
    "start_time": "2022-06-21T10:41:39.784Z"
   },
   {
    "duration": 203,
    "start_time": "2022-06-21T10:41:40.003Z"
   },
   {
    "duration": 1241,
    "start_time": "2022-06-21T10:41:40.208Z"
   },
   {
    "duration": 658,
    "start_time": "2022-06-21T10:41:41.451Z"
   },
   {
    "duration": 10,
    "start_time": "2022-06-21T10:41:42.111Z"
   },
   {
    "duration": 176,
    "start_time": "2022-06-21T10:41:42.123Z"
   },
   {
    "duration": 188,
    "start_time": "2022-06-21T10:41:42.301Z"
   },
   {
    "duration": 105,
    "start_time": "2022-06-21T10:41:42.491Z"
   },
   {
    "duration": 0,
    "start_time": "2022-06-21T10:41:42.598Z"
   },
   {
    "duration": 1,
    "start_time": "2022-06-21T10:41:42.599Z"
   },
   {
    "duration": 0,
    "start_time": "2022-06-21T10:41:42.601Z"
   },
   {
    "duration": 0,
    "start_time": "2022-06-21T10:41:42.603Z"
   },
   {
    "duration": 0,
    "start_time": "2022-06-21T10:41:42.604Z"
   },
   {
    "duration": 0,
    "start_time": "2022-06-21T10:41:42.606Z"
   },
   {
    "duration": 0,
    "start_time": "2022-06-21T10:41:42.607Z"
   },
   {
    "duration": 0,
    "start_time": "2022-06-21T10:41:42.609Z"
   },
   {
    "duration": 0,
    "start_time": "2022-06-21T10:41:42.610Z"
   },
   {
    "duration": 0,
    "start_time": "2022-06-21T10:41:42.612Z"
   },
   {
    "duration": 0,
    "start_time": "2022-06-21T10:41:42.613Z"
   },
   {
    "duration": 0,
    "start_time": "2022-06-21T10:41:42.614Z"
   },
   {
    "duration": 0,
    "start_time": "2022-06-21T10:41:42.616Z"
   },
   {
    "duration": 0,
    "start_time": "2022-06-21T10:41:42.618Z"
   },
   {
    "duration": 0,
    "start_time": "2022-06-21T10:41:42.620Z"
   },
   {
    "duration": 0,
    "start_time": "2022-06-21T10:41:42.622Z"
   },
   {
    "duration": 0,
    "start_time": "2022-06-21T10:41:42.623Z"
   },
   {
    "duration": 0,
    "start_time": "2022-06-21T10:41:42.625Z"
   },
   {
    "duration": 0,
    "start_time": "2022-06-21T10:41:42.626Z"
   },
   {
    "duration": 0,
    "start_time": "2022-06-21T10:41:42.668Z"
   },
   {
    "duration": 692,
    "start_time": "2022-06-21T13:20:15.506Z"
   },
   {
    "duration": 15,
    "start_time": "2022-06-21T13:20:16.200Z"
   },
   {
    "duration": 4,
    "start_time": "2022-06-21T13:20:16.216Z"
   },
   {
    "duration": 6,
    "start_time": "2022-06-21T13:20:16.221Z"
   },
   {
    "duration": 7,
    "start_time": "2022-06-21T13:20:16.230Z"
   },
   {
    "duration": 6,
    "start_time": "2022-06-21T13:20:16.238Z"
   },
   {
    "duration": 4,
    "start_time": "2022-06-21T13:20:16.268Z"
   },
   {
    "duration": 604,
    "start_time": "2022-06-21T13:20:16.273Z"
   },
   {
    "duration": 9,
    "start_time": "2022-06-21T13:20:16.878Z"
   },
   {
    "duration": 5,
    "start_time": "2022-06-21T13:20:16.888Z"
   },
   {
    "duration": 10,
    "start_time": "2022-06-21T13:20:16.895Z"
   },
   {
    "duration": 9,
    "start_time": "2022-06-21T13:20:16.907Z"
   },
   {
    "duration": 7,
    "start_time": "2022-06-21T13:20:16.917Z"
   },
   {
    "duration": 6,
    "start_time": "2022-06-21T13:20:16.928Z"
   },
   {
    "duration": 59,
    "start_time": "2022-06-21T13:20:16.935Z"
   },
   {
    "duration": 329,
    "start_time": "2022-06-21T13:20:16.995Z"
   },
   {
    "duration": 4,
    "start_time": "2022-06-21T13:20:17.326Z"
   },
   {
    "duration": 5,
    "start_time": "2022-06-21T13:20:17.332Z"
   },
   {
    "duration": 310,
    "start_time": "2022-06-21T13:20:17.339Z"
   },
   {
    "duration": 313,
    "start_time": "2022-06-21T13:20:17.651Z"
   },
   {
    "duration": 201,
    "start_time": "2022-06-21T13:20:17.966Z"
   },
   {
    "duration": 183,
    "start_time": "2022-06-21T13:20:18.169Z"
   },
   {
    "duration": 1263,
    "start_time": "2022-06-21T13:20:18.354Z"
   },
   {
    "duration": 574,
    "start_time": "2022-06-21T13:20:19.619Z"
   },
   {
    "duration": 9,
    "start_time": "2022-06-21T13:20:20.195Z"
   },
   {
    "duration": 161,
    "start_time": "2022-06-21T13:20:20.206Z"
   },
   {
    "duration": 169,
    "start_time": "2022-06-21T13:20:20.369Z"
   },
   {
    "duration": 92,
    "start_time": "2022-06-21T13:20:20.540Z"
   },
   {
    "duration": 0,
    "start_time": "2022-06-21T13:20:20.634Z"
   },
   {
    "duration": 0,
    "start_time": "2022-06-21T13:20:20.635Z"
   },
   {
    "duration": 0,
    "start_time": "2022-06-21T13:20:20.636Z"
   },
   {
    "duration": 0,
    "start_time": "2022-06-21T13:20:20.637Z"
   },
   {
    "duration": 0,
    "start_time": "2022-06-21T13:20:20.638Z"
   },
   {
    "duration": 0,
    "start_time": "2022-06-21T13:20:20.639Z"
   },
   {
    "duration": 0,
    "start_time": "2022-06-21T13:20:20.640Z"
   },
   {
    "duration": 0,
    "start_time": "2022-06-21T13:20:20.641Z"
   },
   {
    "duration": 0,
    "start_time": "2022-06-21T13:20:20.643Z"
   },
   {
    "duration": 0,
    "start_time": "2022-06-21T13:20:20.644Z"
   },
   {
    "duration": 0,
    "start_time": "2022-06-21T13:20:20.667Z"
   },
   {
    "duration": 0,
    "start_time": "2022-06-21T13:20:20.668Z"
   },
   {
    "duration": 0,
    "start_time": "2022-06-21T13:20:20.669Z"
   },
   {
    "duration": 0,
    "start_time": "2022-06-21T13:20:20.670Z"
   },
   {
    "duration": 0,
    "start_time": "2022-06-21T13:20:20.672Z"
   },
   {
    "duration": 0,
    "start_time": "2022-06-21T13:20:20.673Z"
   },
   {
    "duration": 0,
    "start_time": "2022-06-21T13:20:20.674Z"
   },
   {
    "duration": 0,
    "start_time": "2022-06-21T13:20:20.675Z"
   },
   {
    "duration": 0,
    "start_time": "2022-06-21T13:20:20.677Z"
   },
   {
    "duration": 0,
    "start_time": "2022-06-21T13:20:20.678Z"
   },
   {
    "duration": 152,
    "start_time": "2022-06-21T13:20:47.902Z"
   },
   {
    "duration": 32,
    "start_time": "2022-06-21T13:21:21.214Z"
   },
   {
    "duration": 207,
    "start_time": "2022-06-21T13:21:24.630Z"
   },
   {
    "duration": 173,
    "start_time": "2022-06-21T13:21:25.128Z"
   },
   {
    "duration": 155,
    "start_time": "2022-06-21T13:21:25.354Z"
   },
   {
    "duration": 263,
    "start_time": "2022-06-21T13:21:25.885Z"
   },
   {
    "duration": 23,
    "start_time": "2022-06-21T13:21:26.394Z"
   },
   {
    "duration": 8,
    "start_time": "2022-06-21T13:21:26.982Z"
   },
   {
    "duration": 12,
    "start_time": "2022-06-21T13:21:26.992Z"
   },
   {
    "duration": 22,
    "start_time": "2022-06-21T13:21:27.302Z"
   },
   {
    "duration": 143,
    "start_time": "2022-06-21T13:21:27.464Z"
   },
   {
    "duration": 17,
    "start_time": "2022-06-21T13:21:28.079Z"
   },
   {
    "duration": 159,
    "start_time": "2022-06-21T13:21:28.297Z"
   },
   {
    "duration": 28,
    "start_time": "2022-06-21T13:21:28.709Z"
   },
   {
    "duration": 114,
    "start_time": "2022-06-21T13:21:29.102Z"
   },
   {
    "duration": 140,
    "start_time": "2022-06-21T13:21:29.693Z"
   },
   {
    "duration": 26,
    "start_time": "2022-06-21T13:21:30.490Z"
   },
   {
    "duration": 128,
    "start_time": "2022-06-21T13:21:30.942Z"
   },
   {
    "duration": 27,
    "start_time": "2022-06-21T13:21:31.362Z"
   },
   {
    "duration": 132,
    "start_time": "2022-06-21T13:21:31.530Z"
   },
   {
    "duration": 32,
    "start_time": "2022-06-21T13:21:32.298Z"
   },
   {
    "duration": 147,
    "start_time": "2022-06-21T13:21:32.493Z"
   },
   {
    "duration": 468,
    "start_time": "2022-06-21T14:25:41.825Z"
   },
   {
    "duration": 14,
    "start_time": "2022-06-21T14:25:42.295Z"
   },
   {
    "duration": 4,
    "start_time": "2022-06-21T14:25:42.310Z"
   },
   {
    "duration": 10,
    "start_time": "2022-06-21T14:25:42.316Z"
   },
   {
    "duration": 8,
    "start_time": "2022-06-21T14:25:42.328Z"
   },
   {
    "duration": 5,
    "start_time": "2022-06-21T14:25:42.338Z"
   },
   {
    "duration": 24,
    "start_time": "2022-06-21T14:25:42.344Z"
   },
   {
    "duration": 469,
    "start_time": "2022-06-21T14:25:42.370Z"
   },
   {
    "duration": 8,
    "start_time": "2022-06-21T14:25:42.841Z"
   },
   {
    "duration": 16,
    "start_time": "2022-06-21T14:25:42.852Z"
   },
   {
    "duration": 6,
    "start_time": "2022-06-21T14:25:42.870Z"
   },
   {
    "duration": 9,
    "start_time": "2022-06-21T14:25:42.877Z"
   },
   {
    "duration": 11,
    "start_time": "2022-06-21T14:25:42.887Z"
   },
   {
    "duration": 11,
    "start_time": "2022-06-21T14:25:42.899Z"
   },
   {
    "duration": 37,
    "start_time": "2022-06-21T14:25:42.911Z"
   },
   {
    "duration": 287,
    "start_time": "2022-06-21T14:25:42.950Z"
   },
   {
    "duration": 4,
    "start_time": "2022-06-21T14:25:43.239Z"
   },
   {
    "duration": 11,
    "start_time": "2022-06-21T14:25:43.244Z"
   },
   {
    "duration": 339,
    "start_time": "2022-06-21T14:25:43.256Z"
   },
   {
    "duration": 341,
    "start_time": "2022-06-21T14:25:43.597Z"
   },
   {
    "duration": 215,
    "start_time": "2022-06-21T14:25:43.941Z"
   },
   {
    "duration": 185,
    "start_time": "2022-06-21T14:25:44.158Z"
   },
   {
    "duration": 1155,
    "start_time": "2022-06-21T14:25:44.345Z"
   },
   {
    "duration": 599,
    "start_time": "2022-06-21T14:25:45.502Z"
   },
   {
    "duration": 9,
    "start_time": "2022-06-21T14:25:46.102Z"
   },
   {
    "duration": 158,
    "start_time": "2022-06-21T14:25:46.112Z"
   },
   {
    "duration": 171,
    "start_time": "2022-06-21T14:25:46.272Z"
   },
   {
    "duration": 101,
    "start_time": "2022-06-21T14:25:46.447Z"
   },
   {
    "duration": 0,
    "start_time": "2022-06-21T14:25:46.551Z"
   },
   {
    "duration": 0,
    "start_time": "2022-06-21T14:25:46.552Z"
   },
   {
    "duration": 1,
    "start_time": "2022-06-21T14:25:46.553Z"
   },
   {
    "duration": 0,
    "start_time": "2022-06-21T14:25:46.555Z"
   },
   {
    "duration": 0,
    "start_time": "2022-06-21T14:25:46.568Z"
   },
   {
    "duration": 0,
    "start_time": "2022-06-21T14:25:46.570Z"
   },
   {
    "duration": 0,
    "start_time": "2022-06-21T14:25:46.573Z"
   },
   {
    "duration": 0,
    "start_time": "2022-06-21T14:25:46.575Z"
   },
   {
    "duration": 0,
    "start_time": "2022-06-21T14:25:46.577Z"
   },
   {
    "duration": 0,
    "start_time": "2022-06-21T14:25:46.579Z"
   },
   {
    "duration": 0,
    "start_time": "2022-06-21T14:25:46.581Z"
   },
   {
    "duration": 0,
    "start_time": "2022-06-21T14:25:46.583Z"
   },
   {
    "duration": 0,
    "start_time": "2022-06-21T14:25:46.584Z"
   },
   {
    "duration": 0,
    "start_time": "2022-06-21T14:25:46.585Z"
   },
   {
    "duration": 0,
    "start_time": "2022-06-21T14:25:46.586Z"
   },
   {
    "duration": 0,
    "start_time": "2022-06-21T14:25:46.587Z"
   },
   {
    "duration": 0,
    "start_time": "2022-06-21T14:25:46.589Z"
   },
   {
    "duration": 1,
    "start_time": "2022-06-21T14:25:46.589Z"
   },
   {
    "duration": 0,
    "start_time": "2022-06-21T14:25:46.591Z"
   },
   {
    "duration": 0,
    "start_time": "2022-06-21T14:25:46.592Z"
   },
   {
    "duration": 48,
    "start_time": "2022-06-22T09:29:28.572Z"
   },
   {
    "duration": 8,
    "start_time": "2022-06-22T09:30:42.576Z"
   },
   {
    "duration": 1194,
    "start_time": "2022-06-22T09:30:52.302Z"
   },
   {
    "duration": 16,
    "start_time": "2022-06-22T09:30:53.498Z"
   },
   {
    "duration": 4,
    "start_time": "2022-06-22T09:30:53.516Z"
   },
   {
    "duration": 6,
    "start_time": "2022-06-22T09:30:53.526Z"
   },
   {
    "duration": 31,
    "start_time": "2022-06-22T09:30:53.535Z"
   },
   {
    "duration": 15,
    "start_time": "2022-06-22T09:30:53.567Z"
   },
   {
    "duration": 22,
    "start_time": "2022-06-22T09:30:53.583Z"
   },
   {
    "duration": 643,
    "start_time": "2022-06-22T09:30:53.607Z"
   },
   {
    "duration": 10,
    "start_time": "2022-06-22T09:30:54.252Z"
   },
   {
    "duration": 16,
    "start_time": "2022-06-22T09:30:54.263Z"
   },
   {
    "duration": 16,
    "start_time": "2022-06-22T09:30:54.281Z"
   },
   {
    "duration": 26,
    "start_time": "2022-06-22T09:30:54.298Z"
   },
   {
    "duration": 19,
    "start_time": "2022-06-22T09:30:54.326Z"
   },
   {
    "duration": 19,
    "start_time": "2022-06-22T09:30:54.348Z"
   },
   {
    "duration": 50,
    "start_time": "2022-06-22T09:30:54.369Z"
   },
   {
    "duration": 347,
    "start_time": "2022-06-22T09:30:54.420Z"
   },
   {
    "duration": 5,
    "start_time": "2022-06-22T09:30:54.769Z"
   },
   {
    "duration": 18,
    "start_time": "2022-06-22T09:30:54.776Z"
   },
   {
    "duration": 339,
    "start_time": "2022-06-22T09:30:54.796Z"
   },
   {
    "duration": 325,
    "start_time": "2022-06-22T09:30:55.136Z"
   },
   {
    "duration": 198,
    "start_time": "2022-06-22T09:30:55.463Z"
   },
   {
    "duration": 179,
    "start_time": "2022-06-22T09:30:55.663Z"
   },
   {
    "duration": 1329,
    "start_time": "2022-06-22T09:30:55.844Z"
   },
   {
    "duration": 625,
    "start_time": "2022-06-22T09:30:57.175Z"
   },
   {
    "duration": 8,
    "start_time": "2022-06-22T09:30:57.802Z"
   },
   {
    "duration": 167,
    "start_time": "2022-06-22T09:30:57.811Z"
   },
   {
    "duration": 192,
    "start_time": "2022-06-22T09:30:57.980Z"
   },
   {
    "duration": 156,
    "start_time": "2022-06-22T09:30:58.173Z"
   },
   {
    "duration": 199,
    "start_time": "2022-06-22T09:30:58.330Z"
   },
   {
    "duration": 182,
    "start_time": "2022-06-22T09:30:58.531Z"
   },
   {
    "duration": 199,
    "start_time": "2022-06-22T09:30:58.715Z"
   },
   {
    "duration": 277,
    "start_time": "2022-06-22T09:30:58.916Z"
   },
   {
    "duration": 33,
    "start_time": "2022-06-22T09:30:59.195Z"
   },
   {
    "duration": 8,
    "start_time": "2022-06-22T09:30:59.229Z"
   },
   {
    "duration": 9,
    "start_time": "2022-06-22T09:30:59.239Z"
   },
   {
    "duration": 29,
    "start_time": "2022-06-22T09:30:59.250Z"
   },
   {
    "duration": 170,
    "start_time": "2022-06-22T09:30:59.281Z"
   },
   {
    "duration": 14,
    "start_time": "2022-06-22T09:30:59.452Z"
   },
   {
    "duration": 170,
    "start_time": "2022-06-22T09:30:59.468Z"
   },
   {
    "duration": 33,
    "start_time": "2022-06-22T09:30:59.641Z"
   },
   {
    "duration": 195,
    "start_time": "2022-06-22T09:30:59.677Z"
   },
   {
    "duration": 197,
    "start_time": "2022-06-22T09:30:59.874Z"
   },
   {
    "duration": 27,
    "start_time": "2022-06-22T09:31:00.073Z"
   },
   {
    "duration": 177,
    "start_time": "2022-06-22T09:31:00.102Z"
   },
   {
    "duration": 27,
    "start_time": "2022-06-22T09:31:00.281Z"
   },
   {
    "duration": 159,
    "start_time": "2022-06-22T09:31:00.310Z"
   },
   {
    "duration": 37,
    "start_time": "2022-06-22T09:31:00.471Z"
   },
   {
    "duration": 190,
    "start_time": "2022-06-22T09:31:00.510Z"
   },
   {
    "duration": 241,
    "start_time": "2022-06-22T09:31:43.475Z"
   },
   {
    "duration": 167,
    "start_time": "2022-06-22T09:33:17.030Z"
   },
   {
    "duration": 182,
    "start_time": "2022-06-22T09:33:45.478Z"
   },
   {
    "duration": 214,
    "start_time": "2022-06-22T09:34:47.765Z"
   },
   {
    "duration": 199,
    "start_time": "2022-06-22T09:34:53.373Z"
   },
   {
    "duration": 178,
    "start_time": "2022-06-22T09:35:05.254Z"
   },
   {
    "duration": 282,
    "start_time": "2022-06-22T09:35:23.614Z"
   },
   {
    "duration": 260,
    "start_time": "2022-06-22T09:35:26.294Z"
   },
   {
    "duration": 209,
    "start_time": "2022-06-22T09:35:41.091Z"
   },
   {
    "duration": 193,
    "start_time": "2022-06-22T09:35:46.769Z"
   },
   {
    "duration": 10,
    "start_time": "2022-06-22T09:38:23.650Z"
   },
   {
    "duration": 7,
    "start_time": "2022-06-22T09:38:47.686Z"
   },
   {
    "duration": 181,
    "start_time": "2022-06-22T09:39:02.942Z"
   },
   {
    "duration": 6,
    "start_time": "2022-06-22T09:43:13.978Z"
   },
   {
    "duration": 5,
    "start_time": "2022-06-22T09:43:38.138Z"
   },
   {
    "duration": 844,
    "start_time": "2022-06-22T09:44:02.229Z"
   },
   {
    "duration": 832,
    "start_time": "2022-06-22T09:44:24.262Z"
   },
   {
    "duration": 5,
    "start_time": "2022-06-22T09:44:40.612Z"
   },
   {
    "duration": 1632,
    "start_time": "2022-06-22T09:45:02.112Z"
   },
   {
    "duration": 5,
    "start_time": "2022-06-22T09:45:38.363Z"
   },
   {
    "duration": 8,
    "start_time": "2022-06-22T09:45:52.245Z"
   },
   {
    "duration": 822,
    "start_time": "2022-06-22T09:46:08.083Z"
   },
   {
    "duration": 16,
    "start_time": "2022-06-22T09:49:28.483Z"
   },
   {
    "duration": 905,
    "start_time": "2022-06-22T09:50:22.772Z"
   },
   {
    "duration": 9,
    "start_time": "2022-06-22T09:51:05.852Z"
   },
   {
    "duration": 12,
    "start_time": "2022-06-22T09:51:19.675Z"
   },
   {
    "duration": 7,
    "start_time": "2022-06-22T09:51:21.174Z"
   },
   {
    "duration": 878,
    "start_time": "2022-06-22T09:51:23.440Z"
   },
   {
    "duration": 862,
    "start_time": "2022-06-22T09:51:34.364Z"
   },
   {
    "duration": 937,
    "start_time": "2022-06-22T09:51:38.352Z"
   },
   {
    "duration": 8,
    "start_time": "2022-06-22T09:51:51.885Z"
   },
   {
    "duration": 5,
    "start_time": "2022-06-22T09:52:05.206Z"
   },
   {
    "duration": 7,
    "start_time": "2022-06-22T09:54:19.422Z"
   },
   {
    "duration": 12,
    "start_time": "2022-06-22T10:09:30.168Z"
   },
   {
    "duration": 8,
    "start_time": "2022-06-22T10:26:51.603Z"
   },
   {
    "duration": 10,
    "start_time": "2022-06-22T10:27:06.564Z"
   },
   {
    "duration": 26,
    "start_time": "2022-06-22T10:27:37.457Z"
   },
   {
    "duration": 187,
    "start_time": "2022-06-22T10:27:42.119Z"
   },
   {
    "duration": 7,
    "start_time": "2022-06-22T10:27:46.502Z"
   },
   {
    "duration": 168,
    "start_time": "2022-06-22T10:28:10.355Z"
   },
   {
    "duration": 6,
    "start_time": "2022-06-22T10:28:12.635Z"
   },
   {
    "duration": 824,
    "start_time": "2022-06-22T10:29:05.205Z"
   },
   {
    "duration": 1205,
    "start_time": "2022-06-22T10:29:19.522Z"
   },
   {
    "duration": 1056,
    "start_time": "2022-06-22T10:29:29.132Z"
   },
   {
    "duration": 167,
    "start_time": "2022-06-22T10:29:35.978Z"
   },
   {
    "duration": 28,
    "start_time": "2022-06-22T10:29:48.033Z"
   },
   {
    "duration": 175,
    "start_time": "2022-06-22T10:29:51.891Z"
   },
   {
    "duration": 6,
    "start_time": "2022-06-22T10:29:53.224Z"
   },
   {
    "duration": 25,
    "start_time": "2022-06-22T10:31:03.814Z"
   },
   {
    "duration": 166,
    "start_time": "2022-06-22T10:31:05.791Z"
   },
   {
    "duration": 6,
    "start_time": "2022-06-22T10:31:07.547Z"
   },
   {
    "duration": 5,
    "start_time": "2022-06-22T10:33:32.174Z"
   },
   {
    "duration": 169,
    "start_time": "2022-06-22T10:33:55.830Z"
   },
   {
    "duration": 151,
    "start_time": "2022-06-22T10:33:58.212Z"
   },
   {
    "duration": 526,
    "start_time": "2022-06-22T10:34:17.384Z"
   },
   {
    "duration": 22,
    "start_time": "2022-06-22T10:34:17.912Z"
   },
   {
    "duration": 4,
    "start_time": "2022-06-22T10:34:17.935Z"
   },
   {
    "duration": 20,
    "start_time": "2022-06-22T10:34:17.940Z"
   },
   {
    "duration": 23,
    "start_time": "2022-06-22T10:34:17.962Z"
   },
   {
    "duration": 17,
    "start_time": "2022-06-22T10:34:17.987Z"
   },
   {
    "duration": 16,
    "start_time": "2022-06-22T10:34:18.006Z"
   },
   {
    "duration": 438,
    "start_time": "2022-06-22T10:34:18.024Z"
   },
   {
    "duration": 10,
    "start_time": "2022-06-22T10:34:18.464Z"
   },
   {
    "duration": 7,
    "start_time": "2022-06-22T10:34:18.476Z"
   },
   {
    "duration": 9,
    "start_time": "2022-06-22T10:34:18.485Z"
   },
   {
    "duration": 38,
    "start_time": "2022-06-22T10:34:18.495Z"
   },
   {
    "duration": 10,
    "start_time": "2022-06-22T10:34:18.536Z"
   },
   {
    "duration": 7,
    "start_time": "2022-06-22T10:34:18.550Z"
   },
   {
    "duration": 12,
    "start_time": "2022-06-22T10:34:18.559Z"
   },
   {
    "duration": 6,
    "start_time": "2022-06-22T10:34:18.573Z"
   },
   {
    "duration": 14,
    "start_time": "2022-06-22T10:34:18.580Z"
   },
   {
    "duration": 6,
    "start_time": "2022-06-22T10:34:18.595Z"
   },
   {
    "duration": 27,
    "start_time": "2022-06-22T10:34:18.602Z"
   },
   {
    "duration": 24,
    "start_time": "2022-06-22T10:34:18.631Z"
   },
   {
    "duration": 14,
    "start_time": "2022-06-22T10:34:18.657Z"
   },
   {
    "duration": 24,
    "start_time": "2022-06-22T10:34:18.673Z"
   },
   {
    "duration": 42,
    "start_time": "2022-06-22T10:34:18.699Z"
   },
   {
    "duration": 294,
    "start_time": "2022-06-22T10:34:18.743Z"
   },
   {
    "duration": 6,
    "start_time": "2022-06-22T10:34:19.038Z"
   },
   {
    "duration": 13,
    "start_time": "2022-06-22T10:34:19.046Z"
   },
   {
    "duration": 389,
    "start_time": "2022-06-22T10:34:19.060Z"
   },
   {
    "duration": 324,
    "start_time": "2022-06-22T10:34:19.451Z"
   },
   {
    "duration": 199,
    "start_time": "2022-06-22T10:34:19.777Z"
   },
   {
    "duration": 186,
    "start_time": "2022-06-22T10:34:19.979Z"
   },
   {
    "duration": 23,
    "start_time": "2022-06-22T10:34:20.167Z"
   },
   {
    "duration": 214,
    "start_time": "2022-06-22T10:34:20.192Z"
   },
   {
    "duration": 7,
    "start_time": "2022-06-22T10:34:20.407Z"
   },
   {
    "duration": 1157,
    "start_time": "2022-06-22T10:34:20.416Z"
   },
   {
    "duration": 597,
    "start_time": "2022-06-22T10:34:21.575Z"
   },
   {
    "duration": 11,
    "start_time": "2022-06-22T10:34:22.173Z"
   },
   {
    "duration": 177,
    "start_time": "2022-06-22T10:34:22.187Z"
   },
   {
    "duration": 165,
    "start_time": "2022-06-22T10:34:22.365Z"
   },
   {
    "duration": 211,
    "start_time": "2022-06-22T10:34:22.532Z"
   },
   {
    "duration": 212,
    "start_time": "2022-06-22T10:34:22.745Z"
   },
   {
    "duration": 173,
    "start_time": "2022-06-22T10:34:22.961Z"
   },
   {
    "duration": 188,
    "start_time": "2022-06-22T10:34:23.136Z"
   },
   {
    "duration": 170,
    "start_time": "2022-06-22T10:34:23.328Z"
   },
   {
    "duration": 30,
    "start_time": "2022-06-22T10:34:23.500Z"
   },
   {
    "duration": 7,
    "start_time": "2022-06-22T10:34:23.531Z"
   },
   {
    "duration": 29,
    "start_time": "2022-06-22T10:34:23.540Z"
   },
   {
    "duration": 129,
    "start_time": "2022-06-22T10:34:23.570Z"
   },
   {
    "duration": 161,
    "start_time": "2022-06-22T10:34:23.700Z"
   },
   {
    "duration": 14,
    "start_time": "2022-06-22T10:34:23.864Z"
   },
   {
    "duration": 189,
    "start_time": "2022-06-22T10:34:23.880Z"
   },
   {
    "duration": 28,
    "start_time": "2022-06-22T10:34:24.070Z"
   },
   {
    "duration": 134,
    "start_time": "2022-06-22T10:34:24.100Z"
   },
   {
    "duration": 173,
    "start_time": "2022-06-22T10:34:24.236Z"
   },
   {
    "duration": 34,
    "start_time": "2022-06-22T10:34:24.411Z"
   },
   {
    "duration": 153,
    "start_time": "2022-06-22T10:34:24.447Z"
   },
   {
    "duration": 39,
    "start_time": "2022-06-22T10:34:24.602Z"
   },
   {
    "duration": 138,
    "start_time": "2022-06-22T10:34:24.643Z"
   },
   {
    "duration": 46,
    "start_time": "2022-06-22T10:34:24.782Z"
   },
   {
    "duration": 171,
    "start_time": "2022-06-22T10:34:24.830Z"
   },
   {
    "duration": 580,
    "start_time": "2022-06-22T14:58:48.895Z"
   },
   {
    "duration": 15,
    "start_time": "2022-06-22T14:58:49.478Z"
   },
   {
    "duration": 4,
    "start_time": "2022-06-22T14:58:49.494Z"
   },
   {
    "duration": 6,
    "start_time": "2022-06-22T14:58:49.500Z"
   },
   {
    "duration": 8,
    "start_time": "2022-06-22T14:58:49.508Z"
   },
   {
    "duration": 26,
    "start_time": "2022-06-22T14:58:49.518Z"
   },
   {
    "duration": 13,
    "start_time": "2022-06-22T14:58:49.551Z"
   },
   {
    "duration": 670,
    "start_time": "2022-06-22T14:58:49.566Z"
   },
   {
    "duration": 14,
    "start_time": "2022-06-22T14:58:50.237Z"
   },
   {
    "duration": 17,
    "start_time": "2022-06-22T14:58:50.254Z"
   },
   {
    "duration": 9,
    "start_time": "2022-06-22T14:58:50.272Z"
   },
   {
    "duration": 13,
    "start_time": "2022-06-22T14:58:50.282Z"
   },
   {
    "duration": 7,
    "start_time": "2022-06-22T14:58:50.297Z"
   },
   {
    "duration": 8,
    "start_time": "2022-06-22T14:58:50.306Z"
   },
   {
    "duration": 39,
    "start_time": "2022-06-22T14:58:50.315Z"
   },
   {
    "duration": 6,
    "start_time": "2022-06-22T14:58:50.357Z"
   },
   {
    "duration": 5,
    "start_time": "2022-06-22T14:58:50.364Z"
   },
   {
    "duration": 8,
    "start_time": "2022-06-22T14:58:50.371Z"
   },
   {
    "duration": 5,
    "start_time": "2022-06-22T14:58:50.381Z"
   },
   {
    "duration": 4,
    "start_time": "2022-06-22T14:58:50.388Z"
   },
   {
    "duration": 6,
    "start_time": "2022-06-22T14:58:50.393Z"
   },
   {
    "duration": 5,
    "start_time": "2022-06-22T14:58:50.400Z"
   },
   {
    "duration": 61,
    "start_time": "2022-06-22T14:58:50.407Z"
   },
   {
    "duration": 401,
    "start_time": "2022-06-22T14:58:50.470Z"
   },
   {
    "duration": 6,
    "start_time": "2022-06-22T14:58:50.873Z"
   },
   {
    "duration": 11,
    "start_time": "2022-06-22T14:58:50.880Z"
   },
   {
    "duration": 362,
    "start_time": "2022-06-22T14:58:50.893Z"
   },
   {
    "duration": 354,
    "start_time": "2022-06-22T14:58:51.261Z"
   },
   {
    "duration": 218,
    "start_time": "2022-06-22T14:58:51.617Z"
   },
   {
    "duration": 199,
    "start_time": "2022-06-22T14:58:51.843Z"
   },
   {
    "duration": 32,
    "start_time": "2022-06-22T14:58:52.044Z"
   },
   {
    "duration": 225,
    "start_time": "2022-06-22T14:58:52.077Z"
   },
   {
    "duration": 6,
    "start_time": "2022-06-22T14:58:52.303Z"
   },
   {
    "duration": 1267,
    "start_time": "2022-06-22T14:58:52.310Z"
   },
   {
    "duration": 698,
    "start_time": "2022-06-22T14:58:53.579Z"
   },
   {
    "duration": 9,
    "start_time": "2022-06-22T14:58:54.278Z"
   },
   {
    "duration": 185,
    "start_time": "2022-06-22T14:58:54.288Z"
   },
   {
    "duration": 182,
    "start_time": "2022-06-22T14:58:54.474Z"
   },
   {
    "duration": 178,
    "start_time": "2022-06-22T14:58:54.658Z"
   },
   {
    "duration": 250,
    "start_time": "2022-06-22T14:58:54.843Z"
   },
   {
    "duration": 196,
    "start_time": "2022-06-22T14:58:55.095Z"
   },
   {
    "duration": 194,
    "start_time": "2022-06-22T14:58:55.293Z"
   },
   {
    "duration": 289,
    "start_time": "2022-06-22T14:58:55.489Z"
   },
   {
    "duration": 25,
    "start_time": "2022-06-22T14:58:55.780Z"
   },
   {
    "duration": 20,
    "start_time": "2022-06-22T14:58:55.807Z"
   },
   {
    "duration": 28,
    "start_time": "2022-06-22T14:58:55.829Z"
   },
   {
    "duration": 28,
    "start_time": "2022-06-22T14:58:55.859Z"
   },
   {
    "duration": 168,
    "start_time": "2022-06-22T14:58:55.889Z"
   },
   {
    "duration": 14,
    "start_time": "2022-06-22T14:58:56.059Z"
   },
   {
    "duration": 170,
    "start_time": "2022-06-22T14:58:56.074Z"
   },
   {
    "duration": 29,
    "start_time": "2022-06-22T14:58:56.253Z"
   },
   {
    "duration": 133,
    "start_time": "2022-06-22T14:58:56.284Z"
   },
   {
    "duration": 174,
    "start_time": "2022-06-22T14:58:56.419Z"
   },
   {
    "duration": 27,
    "start_time": "2022-06-22T14:58:56.594Z"
   },
   {
    "duration": 185,
    "start_time": "2022-06-22T14:58:56.623Z"
   },
   {
    "duration": 47,
    "start_time": "2022-06-22T14:58:56.810Z"
   },
   {
    "duration": 197,
    "start_time": "2022-06-22T14:58:56.858Z"
   },
   {
    "duration": 29,
    "start_time": "2022-06-22T14:58:57.057Z"
   },
   {
    "duration": 173,
    "start_time": "2022-06-22T14:58:57.088Z"
   },
   {
    "duration": 110,
    "start_time": "2022-06-22T15:03:30.698Z"
   },
   {
    "duration": 9,
    "start_time": "2022-06-22T15:03:39.563Z"
   },
   {
    "duration": 6,
    "start_time": "2022-06-22T15:03:51.330Z"
   },
   {
    "duration": 6,
    "start_time": "2022-06-22T15:03:52.191Z"
   },
   {
    "duration": 7,
    "start_time": "2022-06-22T15:05:28.403Z"
   }
  ],
  "colab": {
   "name": "final_project_4.ipynb",
   "provenance": []
  },
  "kernelspec": {
   "display_name": "Python 3 (ipykernel)",
   "language": "python",
   "name": "python3"
  },
  "language_info": {
   "codemirror_mode": {
    "name": "ipython",
    "version": 3
   },
   "file_extension": ".py",
   "mimetype": "text/x-python",
   "name": "python",
   "nbconvert_exporter": "python",
   "pygments_lexer": "ipython3",
   "version": "3.9.5"
  },
  "toc": {
   "base_numbering": 1,
   "nav_menu": {},
   "number_sections": true,
   "sideBar": true,
   "skip_h1_title": true,
   "title_cell": "Содержание",
   "title_sidebar": "Contents",
   "toc_cell": true,
   "toc_position": {},
   "toc_section_display": true,
   "toc_window_display": false
  }
 },
 "nbformat": 4,
 "nbformat_minor": 1
}
